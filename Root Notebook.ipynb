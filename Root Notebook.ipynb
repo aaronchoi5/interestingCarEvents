{
 "cells": [
  {
   "cell_type": "markdown",
   "metadata": {},
   "source": [
    "# An Odyssey Into \"Interesting\" Data\n",
    "\n",
    "I can say without a doubt, it was very fun analyzing the dataset given to me. I also applied math I haven't used in a while! I hope you have as much fun reading about my escapades into the intriguing dataset! "
   ]
  },
  {
   "cell_type": "markdown",
   "metadata": {},
   "source": [
    "We'll start by importing the required libraries."
   ]
  },
  {
   "cell_type": "code",
   "execution_count": 1,
   "metadata": {},
   "outputs": [],
   "source": [
    "import pandas as pd\n",
    "import glob\n",
    "import math\n",
    "from statistics import mean\n",
    "import copy\n",
    "import sklearn\n",
    "import numpy as np\n",
    "from sklearn.model_selection import train_test_split\n",
    "from sklearn.preprocessing import MinMaxScaler\n",
    "from sklearn.ensemble import RandomForestClassifier\n",
    "from sklearn.model_selection import cross_validate, KFold, train_test_split\n",
    "from sklearn.metrics import make_scorer, accuracy_score, f1_score, roc_auc_score, precision_score, recall_score\n",
    "from sklearn.tree import DecisionTreeClassifier\n",
    "from sklearn import svm\n",
    "from sklearn.linear_model import LogisticRegression\n",
    "from sklearn.neighbors import KNeighborsClassifier\n",
    "from sklearn.model_selection import GridSearchCV\n",
    "import matplotlib.pyplot as plt"
   ]
  },
  {
   "cell_type": "markdown",
   "metadata": {},
   "source": [
    "## Required Helper Functions\n",
    "I implement some basic functions to help with calculating the changes in heading below."
   ]
  },
  {
   "cell_type": "code",
   "execution_count": 2,
   "metadata": {},
   "outputs": [],
   "source": [
    "#Distance formula to get the distance between two points.\n",
    "def distFormula(coord1, coord2):\n",
    "    return math.sqrt(math.pow(coord2[0]-coord1[0],2) + math.pow(coord2[1]-coord1[1], 2))\n",
    "\n",
    "#Converts a heading in degrees to a unit vector to handle cases where a vehicle might go from 350 to 4 degrees for example.\n",
    "def unitVectorize(heading):\n",
    "    return((math.cos(math.radians(heading)), math.sin(math.radians(heading))))\n",
    "\n",
    "#Determines whether or not the headings make up a turn.\n",
    "def isTurn(heading1, heading2):\n",
    "    if distFormula(heading1, heading2) >= 1:\n",
    "        return True\n",
    "    return False"
   ]
  },
  {
   "cell_type": "markdown",
   "metadata": {},
   "source": [
    "## Getting the stops and features across all files\n",
    "I examined the data in 0000.csv and defined a stop as an event which has a speed less than .05 and is not adjacent to another previous event with a similar speed. Then I defined a turn as a series of events in which the average acceleration is great than or less than .086. I chose this number based on the instaneous acceleration between two initial headings of the first \"turn\". \n",
    "\n",
    "I also converted headings to unit vectors to make it easier to work with. As a turn qualifies as a change of 60 degrees or greater, that equates to the distance between two headings to be greater or equal than 1. \n",
    "\n",
    "For each row, I check to see whether or not we have an event that takes up 3 seconds. If we don't, we'll note our speed and heading. Otherwise, if three seconds have passed between our record and the beginning record, we'll see whether or not we found a stop or a turn based on our records stored so far. If our events don't comprise three seconds and we find a record beyond the range of three seconds, we'll discard our records. Turns can be made up of multiple 3 second events and we will only evaulate the turn if the average acceleration is lower than a threshold.\n"
   ]
  },
  {
   "cell_type": "code",
   "execution_count": 4,
   "metadata": {},
   "outputs": [],
   "source": [
    "def getStops(currSpeed, pastSpeeds, prevEventIsStop, numStops):\n",
    "    pastSpeeds.append(currSpeed)\n",
    "    foundStopEvent = False\n",
    "    if mean(pastSpeeds) < 1 and prevEventIsStop == False:        \n",
    "        foundStopEvent = True\n",
    "        prevEventIsStop = True\n",
    "    if foundStopEvent:\n",
    "        numStops += 1\n",
    "    else:\n",
    "        prevEventIsStop = False\n",
    "    return (numStops, prevEventIsStop)\n",
    "\n",
    "def getTurns(currHeadingVector, eventOf3Secs, timeDelta, possibleTurn, possibleTurnEvents, turns):\n",
    "    eventOf3Secs.append(currHeadingVector)\n",
    "    average_accel = distFormula(eventOf3Secs[0], currHeadingVector)/(timeDelta )\n",
    "    if average_accel >= .086:\n",
    "        possibleTurn = True\n",
    "        possibleTurnEvents.append(eventOf3Secs)\n",
    "    #if avg acceleration has slowed down and past recent events were above the threshold see if it's a turn\n",
    "    elif possibleTurn:\n",
    "        minHeading = possibleTurnEvents[0][0]\n",
    "        maxHeading = currHeadingVector\n",
    "        if isTurn(minHeading, maxHeading):\n",
    "            turns += 1\n",
    "        possibleTurn = False\n",
    "        possibleTurnEvents.clear()\n",
    "    return (turns, possibleTurn)\n",
    "\n",
    "def getStopsAndTurns(data):\n",
    "    data['time_seconds'] = data['time_seconds'].astype(float).round(2)\n",
    "    stops = 0\n",
    "    turns = 0\n",
    "    eventTimeStart = 0\n",
    "    eventStarted = False\n",
    "    #stop logic specific\n",
    "    pastSpeeds = []\n",
    "    prevEventIsStop = False\n",
    "\n",
    "    #turn logic specific\n",
    "    possibleTurnEvents = []\n",
    "    eventOf3Secs = []\n",
    "    possibleTurn = False\n",
    "    \n",
    "    for index, row in data.iterrows():\n",
    "        if not eventStarted:\n",
    "            eventStarted = True\n",
    "            eventTimeStart = row[0]\n",
    "            pastSpeeds.append(row[1])\n",
    "            eventOf3Secs.append(unitVectorize(row[2]))\n",
    "        else:\n",
    "            currTime = row[0]\n",
    "            timeDelta = currTime - eventTimeStart\n",
    "            currHeading = unitVectorize(row[2])\n",
    "            if timeDelta < 3:\n",
    "                pastSpeeds.append(row[1])\n",
    "                eventOf3Secs.append(currHeading)\n",
    "                continue\n",
    "            elif timeDelta == 3:\n",
    "                stops, prevEventIsStop = getStops(row[1], pastSpeeds, prevEventIsStop, stops)\n",
    "                turns, possibleTurn = getTurns(currHeading, eventOf3Secs, timeDelta, possibleTurn, possibleTurnEvents, turns)\n",
    "                eventOf3Secs = []\n",
    "                pastSpeeds = []\n",
    "                eventStarted = False\n",
    "            else:\n",
    "                pastSpeeds = []\n",
    "                eventOf3Secs = []\n",
    "                eventTimeStart = row[0]\n",
    "                pastSpeeds.append(row[1])\n",
    "                eventOf3Secs.append(currHeading)\n",
    "    return(stops, turns)"
   ]
  },
  {
   "cell_type": "markdown",
   "metadata": {},
   "source": [
    "## Cleaning up the Data\n",
    "\n",
    "Any data scientist will tell you that a model is only as good as the data given to it. So it stands to reason that one needs to clean the data for processing. Let's do that in the below section! We'll get rid of any row that contains NAN's as I consider incomplete data to be flawed. For example, I noticed a lot of NaN's in heading degrees in several files. This could skew the data towards a false narrative so I decided it was best to just toss those rows out. Below I clean up the data and calculate the stops and turns in each file.\n"
   ]
  },
  {
   "cell_type": "code",
   "execution_count": 6,
   "metadata": {},
   "outputs": [],
   "source": [
    "localdirRoot = '/home/aaron/Documents/Coding/RootDataScienceWork/'\n",
    "trainingFiles = sorted(glob.glob(localdirRoot + 'work_sample/trip_data_train/trip_data/' + \"/*.csv\"))\n",
    "dataFrames = [pd.read_csv(file) for file in trainingFiles]\n",
    "stopsTurns = [(0,0) for i in range(len(trainingFiles))]\n",
    "index = 0\n",
    "t = False\n",
    "for df in dataFrames:\n",
    "    df.dropna(how='any', inplace=True)\n",
    "    stops, turns = getStopsAndTurns(df)\n",
    "    stopsTurns[index] = (stops, turns)\n",
    "    index += 1"
   ]
  },
  {
   "cell_type": "markdown",
   "metadata": {},
   "source": [
    "# Evaluating Models\n"
   ]
  },
  {
   "cell_type": "markdown",
   "metadata": {},
   "source": [
    "## Training Models With no Extra Features\n",
    "\n",
    "Here I decided to see how the models would perform without adding any extra features and plain cross validation. This allowed me to pick which one I want to use as my primary classifier. It would appear SVM is the way to go based on initial runs.\n"
   ]
  },
  {
   "cell_type": "code",
   "execution_count": 7,
   "metadata": {},
   "outputs": [],
   "source": [
    "trainingFeaturesDF = pd.read_csv(\"./model_data_train.csv\")\n",
    "y = trainingFeaturesDF.iloc[:,-1]"
   ]
  },
  {
   "cell_type": "code",
   "execution_count": 8,
   "metadata": {},
   "outputs": [],
   "source": [
    "trainingFeaturesDF = trainingFeaturesDF.drop(columns=['y'])\n",
    "X = trainingFeaturesDF.iloc[:,1:]\n",
    "mms = MinMaxScaler()\n",
    "trainingFeaturesDF['Stops'] = [stop[0] for stop in stopsTurns]\n",
    "trainingFeaturesDF['Turns'] = [turn[1] for turn in stopsTurns]"
   ]
  },
  {
   "cell_type": "markdown",
   "metadata": {},
   "source": [
    "We create three datasets for stops and turns, stops, and turns."
   ]
  },
  {
   "cell_type": "code",
   "execution_count": 9,
   "metadata": {},
   "outputs": [
    {
     "name": "stdout",
     "output_type": "stream",
     "text": [
      "X:       feature1  feature2  feature3  feature4      feature5      feature6  \\\n",
      "0       False     False      True  5.209096   9789.261511  30753.872048   \n",
      "1       False     False     False  4.450941  10552.521899  33151.725274   \n",
      "2       False     False      True  5.396552  10233.433119  32149.278307   \n",
      "3       False     False      True  4.970163  10829.056746  34020.485118   \n",
      "4       False     False     False  5.266868  10678.703687  33548.137053   \n",
      "..        ...       ...       ...       ...           ...           ...   \n",
      "995     False     False     False  5.557740  11792.408911  37046.945203   \n",
      "996     False     False      True  6.159746  10144.628262  31870.289621   \n",
      "997     False     False     False  5.903515  11274.898280  35421.137606   \n",
      "998     False     False     False  4.196761   8774.186650  27564.920320   \n",
      "999     False     False     False  4.061768   9346.232951  29362.056777   \n",
      "\n",
      "     feature7  feature8  feature9  feature10     feature11    feature12  \\\n",
      "0    0.001010         5        13          1  9.373984e+03     0.317920   \n",
      "1    0.001000         3        11          1  4.251619e+04     2.229321   \n",
      "2    0.001015         6        13          1  1.305321e+07    34.259512   \n",
      "3    0.000993         4         8          1  1.131908e+03    25.768714   \n",
      "4    0.001009         6        11          1  3.163256e+03   145.154357   \n",
      "..        ...       ...       ...        ...           ...          ...   \n",
      "995  0.000994         6         8          1  7.875141e+06     2.234526   \n",
      "996  0.001002         5         9          1  8.001451e+06     7.197367   \n",
      "997  0.001014         6         7          1  5.142378e+09    96.801744   \n",
      "998  0.000996         5        11          1  2.952686e+04  1439.063599   \n",
      "999  0.000996         5         6          1  1.381129e+04   288.986017   \n",
      "\n",
      "        feature13  feature14  \n",
      "0    9.379193e+03   4.974085  \n",
      "1    4.252064e+04   3.151531  \n",
      "2    1.305322e+07   6.236594  \n",
      "3    1.136878e+03   3.968008  \n",
      "4    3.168523e+03   5.999782  \n",
      "..            ...        ...  \n",
      "995  7.875147e+06   5.978734  \n",
      "996  8.001457e+06   5.108532  \n",
      "997  5.142378e+09   6.002729  \n",
      "998  2.953106e+04   5.043609  \n",
      "999  1.381535e+04   5.079728  \n",
      "\n",
      "[1000 rows x 14 columns]\n",
      "X with stops and turns:       feature1  feature2  feature3  feature4      feature5      feature6  \\\n",
      "0       False     False      True  5.209096   9789.261511  30753.872048   \n",
      "1       False     False     False  4.450941  10552.521899  33151.725274   \n",
      "2       False     False      True  5.396552  10233.433119  32149.278307   \n",
      "3       False     False      True  4.970163  10829.056746  34020.485118   \n",
      "4       False     False     False  5.266868  10678.703687  33548.137053   \n",
      "..        ...       ...       ...       ...           ...           ...   \n",
      "995     False     False     False  5.557740  11792.408911  37046.945203   \n",
      "996     False     False      True  6.159746  10144.628262  31870.289621   \n",
      "997     False     False     False  5.903515  11274.898280  35421.137606   \n",
      "998     False     False     False  4.196761   8774.186650  27564.920320   \n",
      "999     False     False     False  4.061768   9346.232951  29362.056777   \n",
      "\n",
      "     feature7  feature8  feature9  feature10     feature11    feature12  \\\n",
      "0    0.001010         5        13          1  9.373984e+03     0.317920   \n",
      "1    0.001000         3        11          1  4.251619e+04     2.229321   \n",
      "2    0.001015         6        13          1  1.305321e+07    34.259512   \n",
      "3    0.000993         4         8          1  1.131908e+03    25.768714   \n",
      "4    0.001009         6        11          1  3.163256e+03   145.154357   \n",
      "..        ...       ...       ...        ...           ...          ...   \n",
      "995  0.000994         6         8          1  7.875141e+06     2.234526   \n",
      "996  0.001002         5         9          1  8.001451e+06     7.197367   \n",
      "997  0.001014         6         7          1  5.142378e+09    96.801744   \n",
      "998  0.000996         5        11          1  2.952686e+04  1439.063599   \n",
      "999  0.000996         5         6          1  1.381129e+04   288.986017   \n",
      "\n",
      "        feature13  feature14  Stops  Turns  \n",
      "0    9.379193e+03   4.974085      0      2  \n",
      "1    4.252064e+04   3.151531      1      8  \n",
      "2    1.305322e+07   6.236594      0      4  \n",
      "3    1.136878e+03   3.968008      7      6  \n",
      "4    3.168523e+03   5.999782     22      2  \n",
      "..            ...        ...    ...    ...  \n",
      "995  7.875147e+06   5.978734      7      5  \n",
      "996  8.001457e+06   5.108532      6      2  \n",
      "997  5.142378e+09   6.002729     31      4  \n",
      "998  2.953106e+04   5.043609      7      8  \n",
      "999  1.381535e+04   5.079728     20      3  \n",
      "\n",
      "[1000 rows x 16 columns]\n",
      "X with stops:       feature1  feature2  feature3  feature4      feature5      feature6  \\\n",
      "0       False     False      True  5.209096   9789.261511  30753.872048   \n",
      "1       False     False     False  4.450941  10552.521899  33151.725274   \n",
      "2       False     False      True  5.396552  10233.433119  32149.278307   \n",
      "3       False     False      True  4.970163  10829.056746  34020.485118   \n",
      "4       False     False     False  5.266868  10678.703687  33548.137053   \n",
      "..        ...       ...       ...       ...           ...           ...   \n",
      "995     False     False     False  5.557740  11792.408911  37046.945203   \n",
      "996     False     False      True  6.159746  10144.628262  31870.289621   \n",
      "997     False     False     False  5.903515  11274.898280  35421.137606   \n",
      "998     False     False     False  4.196761   8774.186650  27564.920320   \n",
      "999     False     False     False  4.061768   9346.232951  29362.056777   \n",
      "\n",
      "     feature7  feature8  feature9  feature10     feature11    feature12  \\\n",
      "0    0.001010         5        13          1  9.373984e+03     0.317920   \n",
      "1    0.001000         3        11          1  4.251619e+04     2.229321   \n",
      "2    0.001015         6        13          1  1.305321e+07    34.259512   \n",
      "3    0.000993         4         8          1  1.131908e+03    25.768714   \n",
      "4    0.001009         6        11          1  3.163256e+03   145.154357   \n",
      "..        ...       ...       ...        ...           ...          ...   \n",
      "995  0.000994         6         8          1  7.875141e+06     2.234526   \n",
      "996  0.001002         5         9          1  8.001451e+06     7.197367   \n",
      "997  0.001014         6         7          1  5.142378e+09    96.801744   \n",
      "998  0.000996         5        11          1  2.952686e+04  1439.063599   \n",
      "999  0.000996         5         6          1  1.381129e+04   288.986017   \n",
      "\n",
      "        feature13  feature14  Stops  \n",
      "0    9.379193e+03   4.974085      0  \n",
      "1    4.252064e+04   3.151531      1  \n",
      "2    1.305322e+07   6.236594      0  \n",
      "3    1.136878e+03   3.968008      7  \n",
      "4    3.168523e+03   5.999782     22  \n",
      "..            ...        ...    ...  \n",
      "995  7.875147e+06   5.978734      7  \n",
      "996  8.001457e+06   5.108532      6  \n",
      "997  5.142378e+09   6.002729     31  \n",
      "998  2.953106e+04   5.043609      7  \n",
      "999  1.381535e+04   5.079728     20  \n",
      "\n",
      "[1000 rows x 15 columns]\n",
      "X with turns:       feature1  feature2  feature3  feature4      feature5      feature6  \\\n",
      "0       False     False      True  5.209096   9789.261511  30753.872048   \n",
      "1       False     False     False  4.450941  10552.521899  33151.725274   \n",
      "2       False     False      True  5.396552  10233.433119  32149.278307   \n",
      "3       False     False      True  4.970163  10829.056746  34020.485118   \n",
      "4       False     False     False  5.266868  10678.703687  33548.137053   \n",
      "..        ...       ...       ...       ...           ...           ...   \n",
      "995     False     False     False  5.557740  11792.408911  37046.945203   \n",
      "996     False     False      True  6.159746  10144.628262  31870.289621   \n",
      "997     False     False     False  5.903515  11274.898280  35421.137606   \n",
      "998     False     False     False  4.196761   8774.186650  27564.920320   \n",
      "999     False     False     False  4.061768   9346.232951  29362.056777   \n",
      "\n",
      "     feature7  feature8  feature9  feature10     feature11    feature12  \\\n",
      "0    0.001010         5        13          1  9.373984e+03     0.317920   \n",
      "1    0.001000         3        11          1  4.251619e+04     2.229321   \n",
      "2    0.001015         6        13          1  1.305321e+07    34.259512   \n",
      "3    0.000993         4         8          1  1.131908e+03    25.768714   \n",
      "4    0.001009         6        11          1  3.163256e+03   145.154357   \n",
      "..        ...       ...       ...        ...           ...          ...   \n",
      "995  0.000994         6         8          1  7.875141e+06     2.234526   \n",
      "996  0.001002         5         9          1  8.001451e+06     7.197367   \n",
      "997  0.001014         6         7          1  5.142378e+09    96.801744   \n",
      "998  0.000996         5        11          1  2.952686e+04  1439.063599   \n",
      "999  0.000996         5         6          1  1.381129e+04   288.986017   \n",
      "\n",
      "        feature13  feature14  Turns  \n",
      "0    9.379193e+03   4.974085      2  \n",
      "1    4.252064e+04   3.151531      8  \n",
      "2    1.305322e+07   6.236594      4  \n",
      "3    1.136878e+03   3.968008      6  \n",
      "4    3.168523e+03   5.999782      2  \n",
      "..            ...        ...    ...  \n",
      "995  7.875147e+06   5.978734      5  \n",
      "996  8.001457e+06   5.108532      2  \n",
      "997  5.142378e+09   6.002729      4  \n",
      "998  2.953106e+04   5.043609      8  \n",
      "999  1.381535e+04   5.079728      3  \n",
      "\n",
      "[1000 rows x 15 columns]\n"
     ]
    }
   ],
   "source": [
    "print(\"X: \", X)\n",
    "XwithStopsandTurns = trainingFeaturesDF.iloc[:, 1:]\n",
    "print(\"X with stops and turns: \", XwithStopsandTurns)\n",
    "XwithStops = trainingFeaturesDF.iloc[:, 1:-1]\n",
    "print(\"X with stops: \", XwithStops)\n",
    "XwithTurns = trainingFeaturesDF.iloc[:, 1:-2]\n",
    "XwithTurns['Turns'] = trainingFeaturesDF['Turns']\n",
    "print(\"X with turns: \", XwithTurns)"
   ]
  },
  {
   "cell_type": "markdown",
   "metadata": {},
   "source": [
    "## Normalizing Data\n",
    "We need to normalize the data so that select features such as feature 13 don't skew our training too much"
   ]
  },
  {
   "cell_type": "code",
   "execution_count": 10,
   "metadata": {},
   "outputs": [
    {
     "name": "stdout",
     "output_type": "stream",
     "text": [
      "X:  [[0.00000000e+00 0.00000000e+00 1.00000000e+00 ... 2.02222107e-07\n",
      "  1.54454722e-08 4.36602252e-01]\n",
      " [0.00000000e+00 0.00000000e+00 0.00000000e+00 ... 1.41802183e-06\n",
      "  7.00473091e-08 2.44797346e-01]\n",
      " [0.00000000e+00 0.00000000e+00 1.00000000e+00 ... 2.17917192e-05\n",
      "  2.15056850e-05 5.69468235e-01]\n",
      " ...\n",
      " [0.00000000e+00 0.00000000e+00 0.00000000e+00 ... 6.15734522e-05\n",
      "  8.47227075e-03 5.44856313e-01]\n",
      " [0.00000000e+00 0.00000000e+00 0.00000000e+00 ... 9.15356581e-04\n",
      "  4.86464614e-08 4.43918905e-01]\n",
      " [0.00000000e+00 0.00000000e+00 0.00000000e+00 ... 1.83817625e-04\n",
      "  2.27542170e-08 4.47720036e-01]]\n",
      "X with stops and turns:  [[0.         0.         1.         ... 0.43660225 0.         0.14285714]\n",
      " [0.         0.         0.         ... 0.24479735 0.01492537 0.57142857]\n",
      " [0.         0.         1.         ... 0.56946823 0.         0.28571429]\n",
      " ...\n",
      " [0.         0.         0.         ... 0.54485631 0.46268657 0.28571429]\n",
      " [0.         0.         0.         ... 0.4439189  0.10447761 0.57142857]\n",
      " [0.         0.         0.         ... 0.44772004 0.29850746 0.21428571]]\n",
      "X with stops:  [[0.00000000e+00 0.00000000e+00 1.00000000e+00 ... 1.54454722e-08\n",
      "  4.36602252e-01 0.00000000e+00]\n",
      " [0.00000000e+00 0.00000000e+00 0.00000000e+00 ... 7.00473091e-08\n",
      "  2.44797346e-01 1.49253731e-02]\n",
      " [0.00000000e+00 0.00000000e+00 1.00000000e+00 ... 2.15056850e-05\n",
      "  5.69468235e-01 0.00000000e+00]\n",
      " ...\n",
      " [0.00000000e+00 0.00000000e+00 0.00000000e+00 ... 8.47227075e-03\n",
      "  5.44856313e-01 4.62686567e-01]\n",
      " [0.00000000e+00 0.00000000e+00 0.00000000e+00 ... 4.86464614e-08\n",
      "  4.43918905e-01 1.04477612e-01]\n",
      " [0.00000000e+00 0.00000000e+00 0.00000000e+00 ... 2.27542170e-08\n",
      "  4.47720036e-01 2.98507463e-01]]\n",
      "X with turns:  [[0.00000000e+00 0.00000000e+00 1.00000000e+00 ... 1.54454722e-08\n",
      "  4.36602252e-01 1.42857143e-01]\n",
      " [0.00000000e+00 0.00000000e+00 0.00000000e+00 ... 7.00473091e-08\n",
      "  2.44797346e-01 5.71428571e-01]\n",
      " [0.00000000e+00 0.00000000e+00 1.00000000e+00 ... 2.15056850e-05\n",
      "  5.69468235e-01 2.85714286e-01]\n",
      " ...\n",
      " [0.00000000e+00 0.00000000e+00 0.00000000e+00 ... 8.47227075e-03\n",
      "  5.44856313e-01 2.85714286e-01]\n",
      " [0.00000000e+00 0.00000000e+00 0.00000000e+00 ... 4.86464614e-08\n",
      "  4.43918905e-01 5.71428571e-01]\n",
      " [0.00000000e+00 0.00000000e+00 0.00000000e+00 ... 2.27542170e-08\n",
      "  4.47720036e-01 2.14285714e-01]]\n"
     ]
    }
   ],
   "source": [
    "X = mms.fit_transform(X)\n",
    "XwithStopsandTurns = mms.fit_transform(XwithStopsandTurns)\n",
    "XwithStops = mms.fit_transform(XwithStops)\n",
    "XwithTurns = mms.fit_transform(XwithTurns)\n",
    "\n",
    "print(\"X: \", X)\n",
    "print(\"X with stops and turns: \", XwithStopsandTurns)\n",
    "print(\"X with stops: \", XwithStops)\n",
    "print(\"X with turns: \", XwithTurns)"
   ]
  },
  {
   "cell_type": "code",
   "execution_count": 11,
   "metadata": {},
   "outputs": [],
   "source": [
    "\n",
    "def oob_(estimator, X, y):\n",
    "    return 1 - estimator.oob_score_\n",
    "def accuracy(y_true, y_pred):\n",
    "    return accuracy_score(y_true, y_pred)\n",
    "def f1(y_true, y_pred):\n",
    "    return f1_score(y_true, y_pred)\n",
    "def auc(y_true, y_pred):\n",
    "    return roc_auc_score(y_true, y_pred)\n",
    "def precision(y_true, y_pred):\n",
    "    return precision_score(y_true, y_pred)\n",
    "def recall(y_true, y_pred):\n",
    "    return recall_score(y_true, y_pred)\n",
    "\n",
    "scoringRandomForest = {\n",
    "    'oob': oob_,\n",
    "    'accuracy': make_scorer(accuracy),\n",
    "    'precision': make_scorer(precision),\n",
    "    'recall': make_scorer(recall),\n",
    "    'f1 score': make_scorer(f1),\n",
    "    'roc auc': make_scorer(auc)\n",
    "}\n",
    "scoring2 = {\n",
    "    'accuracy': make_scorer(accuracy),\n",
    "    'precision': make_scorer(precision),\n",
    "    'recall': make_scorer(recall),\n",
    "    'f1 score': make_scorer(f1),\n",
    "    'roc auc': make_scorer(auc)\n",
    "}\n",
    "\n",
    "#t = training v = validation (for testing) y's are the lables for each respective set\n",
    "Xt, Xv, yt, yv = train_test_split(X, y, test_size=0.3)\n",
    "fold = KFold(n_splits=3)"
   ]
  },
  {
   "cell_type": "markdown",
   "metadata": {},
   "source": [
    "## Evaluating Models \n",
    "Here we'll evaluate different classifiers for use with the dataset given to us with no additional features. They are: Random Forest, Decision Tree, Support Vector Machines, Logistic Regression, and K-Nearest Neighbors. We'll train them, print out a sample results run that will give us a window into some of the metrics behind the predictions. Then we cross validate them by splitting them into 3 subsets of data and evaluate the results as well as print them in a visual dataframe. \n",
    "\n",
    "Feel free to skim some of the sections or skip to the end for what I've concluded. I show my work in analyzing the best model for making predictions against the test data in the below sections."
   ]
  },
  {
   "cell_type": "code",
   "execution_count": 12,
   "metadata": {},
   "outputs": [],
   "source": [
    "def printScoresInSampleRun(testlabels, predictions, classifier, testData):\n",
    "    print('Accuracy Score :', np.round(accuracy_score(testlabels, predictions), 4))\n",
    "    print('Precision Score :', np.round(precision(testlabels, predictions), 4))\n",
    "    print('Recall Score :', np.round(recall_score(testlabels, predictions), 4))\n",
    "    print('F1 Score :', np.round(f1_score(testlabels, predictions), 4))\n",
    "    print('AUC Score :', np.round(roc_auc_score(testlabels, classifier.predict_proba(testData)[:,1]), 4))"
   ]
  },
  {
   "cell_type": "markdown",
   "metadata": {},
   "source": [
    "### Models Without Stops and Turns"
   ]
  },
  {
   "cell_type": "markdown",
   "metadata": {},
   "source": [
    "#### Random Forest\n",
    "We see the results of a run with the random forest classifier. I thought it might be useful to include the OOB error as well as an additional metric. "
   ]
  },
  {
   "cell_type": "code",
   "execution_count": 13,
   "metadata": {},
   "outputs": [
    {
     "name": "stdout",
     "output_type": "stream",
     "text": [
      "Accuracy Score : 0.8467\n",
      "Precision Score : 0.8333\n",
      "Recall Score : 0.6111\n",
      "F1 Score : 0.7051\n",
      "AUC Score : 0.9045\n",
      "OOB Error : 0.1786\n"
     ]
    },
    {
     "data": {
      "text/html": [
       "<div>\n",
       "<style scoped>\n",
       "    .dataframe tbody tr th:only-of-type {\n",
       "        vertical-align: middle;\n",
       "    }\n",
       "\n",
       "    .dataframe tbody tr th {\n",
       "        vertical-align: top;\n",
       "    }\n",
       "\n",
       "    .dataframe thead th {\n",
       "        text-align: right;\n",
       "    }\n",
       "</style>\n",
       "<table border=\"1\" class=\"dataframe\">\n",
       "  <thead>\n",
       "    <tr style=\"text-align: right;\">\n",
       "      <th></th>\n",
       "      <th>Model</th>\n",
       "      <th>Accuracy</th>\n",
       "      <th>Precision</th>\n",
       "      <th>Recall</th>\n",
       "      <th>F1 Score</th>\n",
       "      <th>ROC AUC</th>\n",
       "      <th>OOB Error</th>\n",
       "    </tr>\n",
       "  </thead>\n",
       "  <tbody>\n",
       "    <tr>\n",
       "      <th>0</th>\n",
       "      <td>RandomForestClassifier</td>\n",
       "      <td>0.85</td>\n",
       "      <td>0.8325</td>\n",
       "      <td>0.6525</td>\n",
       "      <td>0.7279</td>\n",
       "      <td>0.7958</td>\n",
       "      <td>0.1725</td>\n",
       "    </tr>\n",
       "  </tbody>\n",
       "</table>\n",
       "</div>"
      ],
      "text/plain": [
       "                    Model  Accuracy  Precision  Recall  F1 Score  ROC AUC  \\\n",
       "0  RandomForestClassifier      0.85     0.8325  0.6525    0.7279   0.7958   \n",
       "\n",
       "   OOB Error  \n",
       "0     0.1725  "
      ]
     },
     "execution_count": 13,
     "metadata": {},
     "output_type": "execute_result"
    }
   ],
   "source": [
    "randomForestClassifier = RandomForestClassifier(oob_score=True)\n",
    "randomForestClassifier.fit(Xt, yt)\n",
    "randomForestPred = randomForestClassifier.predict(Xv)\n",
    "printScoresInSampleRun(yv, randomForestPred, randomForestClassifier, Xv)\n",
    "print('OOB Error :', np.round(1 - randomForestClassifier.oob_score_, 4))\n",
    "\n",
    "cvRandomForest = cross_validate(RandomForestClassifier(oob_score=True), X, y, scoring=scoringRandomForest, cv=fold)\n",
    "\n",
    "cvRandomForest_result = pd.DataFrame({\n",
    "    'Model': 'RandomForestClassifier',\n",
    "    'Accuracy': np.round(cvRandomForest['test_accuracy'].mean(), 4),\n",
    "    'Precision': np.round(cvRandomForest['test_precision'].mean(), 4),\n",
    "    'Recall': np.round(cvRandomForest['test_recall'].mean(), 4),\n",
    "    'F1 Score': np.round(cvRandomForest['test_f1 score'].mean(), 4),\n",
    "    'ROC AUC': np.round(cvRandomForest['test_roc auc'].mean(), 4),\n",
    "    'OOB Error': np.round(cvRandomForest['test_oob'].mean(), 4)\n",
    "},index=[0])\n",
    "cvRandomForest_result"
   ]
  },
  {
   "cell_type": "markdown",
   "metadata": {},
   "source": [
    "#### Decision Trees\n",
    "Here we see the results of the decision trees classifier. I created a different scoring object for non random forest classifiers. The results are considerably lower than the other classifiers."
   ]
  },
  {
   "cell_type": "code",
   "execution_count": 14,
   "metadata": {},
   "outputs": [
    {
     "name": "stdout",
     "output_type": "stream",
     "text": [
      "Accuracy Score : 0.8033\n",
      "Precision Score : 0.6566\n",
      "Recall Score : 0.7222\n",
      "F1 Score : 0.6878\n",
      "AUC Score : 0.7802\n"
     ]
    },
    {
     "data": {
      "text/html": [
       "<div>\n",
       "<style scoped>\n",
       "    .dataframe tbody tr th:only-of-type {\n",
       "        vertical-align: middle;\n",
       "    }\n",
       "\n",
       "    .dataframe tbody tr th {\n",
       "        vertical-align: top;\n",
       "    }\n",
       "\n",
       "    .dataframe thead th {\n",
       "        text-align: right;\n",
       "    }\n",
       "</style>\n",
       "<table border=\"1\" class=\"dataframe\">\n",
       "  <thead>\n",
       "    <tr style=\"text-align: right;\">\n",
       "      <th></th>\n",
       "      <th>Model</th>\n",
       "      <th>Accuracy</th>\n",
       "      <th>Precision</th>\n",
       "      <th>Recall</th>\n",
       "      <th>F1 Score</th>\n",
       "      <th>ROC AUC</th>\n",
       "    </tr>\n",
       "  </thead>\n",
       "  <tbody>\n",
       "    <tr>\n",
       "      <th>0</th>\n",
       "      <td>Decision Tree</td>\n",
       "      <td>0.781</td>\n",
       "      <td>0.6671</td>\n",
       "      <td>0.5881</td>\n",
       "      <td>0.6247</td>\n",
       "      <td>0.728</td>\n",
       "    </tr>\n",
       "  </tbody>\n",
       "</table>\n",
       "</div>"
      ],
      "text/plain": [
       "           Model  Accuracy  Precision  Recall  F1 Score  ROC AUC\n",
       "0  Decision Tree     0.781     0.6671  0.5881    0.6247    0.728"
      ]
     },
     "execution_count": 14,
     "metadata": {},
     "output_type": "execute_result"
    }
   ],
   "source": [
    "decisionTreesClassifier = DecisionTreeClassifier()\n",
    "decisionTreesClassifier.fit(Xt, yt)\n",
    "decisionTreesPred = decisionTreesClassifier.predict(Xv)\n",
    "\n",
    "printScoresInSampleRun(yv, decisionTreesPred, decisionTreesClassifier, Xv)\n",
    "cvDecisionTrees = cross_validate(DecisionTreeClassifier(), X, y, scoring=scoring2, cv=fold)\n",
    "\n",
    "cvDecisionTrees_result = pd.DataFrame({\n",
    "    'Model': 'Decision Tree',\n",
    "    'Accuracy': np.round(cvDecisionTrees['test_accuracy'].mean(), 4),\n",
    "    'Precision': np.round(cvDecisionTrees['test_precision'].mean(), 4),\n",
    "    'Recall': np.round(cvDecisionTrees['test_recall'].mean(), 4),\n",
    "    'F1 Score': np.round(cvDecisionTrees['test_f1 score'].mean(), 4),\n",
    "    'ROC AUC': np.round(cvDecisionTrees['test_roc auc'].mean(), 4)\n",
    "},index=[0])\n",
    "cvDecisionTrees_result"
   ]
  },
  {
   "cell_type": "markdown",
   "metadata": {},
   "source": [
    "#### Support Vector Machines\n",
    "Here we see the results of the SVM's classifer"
   ]
  },
  {
   "cell_type": "code",
   "execution_count": 15,
   "metadata": {},
   "outputs": [
    {
     "name": "stdout",
     "output_type": "stream",
     "text": [
      "Accuracy Score : 0.88\n",
      "Precision Score : 0.8462\n",
      "Recall Score : 0.7333\n",
      "F1 Score : 0.7857\n",
      "AUC Score : 0.9303\n"
     ]
    },
    {
     "data": {
      "text/html": [
       "<div>\n",
       "<style scoped>\n",
       "    .dataframe tbody tr th:only-of-type {\n",
       "        vertical-align: middle;\n",
       "    }\n",
       "\n",
       "    .dataframe tbody tr th {\n",
       "        vertical-align: top;\n",
       "    }\n",
       "\n",
       "    .dataframe thead th {\n",
       "        text-align: right;\n",
       "    }\n",
       "</style>\n",
       "<table border=\"1\" class=\"dataframe\">\n",
       "  <thead>\n",
       "    <tr style=\"text-align: right;\">\n",
       "      <th></th>\n",
       "      <th>Model</th>\n",
       "      <th>Accuracy</th>\n",
       "      <th>Precision</th>\n",
       "      <th>Recall</th>\n",
       "      <th>F1 Score</th>\n",
       "      <th>ROC AUC</th>\n",
       "    </tr>\n",
       "  </thead>\n",
       "  <tbody>\n",
       "    <tr>\n",
       "      <th>0</th>\n",
       "      <td>SVM</td>\n",
       "      <td>0.855</td>\n",
       "      <td>0.8089</td>\n",
       "      <td>0.7123</td>\n",
       "      <td>0.752</td>\n",
       "      <td>0.8163</td>\n",
       "    </tr>\n",
       "  </tbody>\n",
       "</table>\n",
       "</div>"
      ],
      "text/plain": [
       "  Model  Accuracy  Precision  Recall  F1 Score  ROC AUC\n",
       "0   SVM     0.855     0.8089  0.7123     0.752   0.8163"
      ]
     },
     "execution_count": 15,
     "metadata": {},
     "output_type": "execute_result"
    }
   ],
   "source": [
    "supportVectorClassifier = svm.SVC(probability=True)\n",
    "supportVectorClassifier.fit(Xt, yt)\n",
    "svmPredictions = supportVectorClassifier.predict(Xv)\n",
    "\n",
    "printScoresInSampleRun(yv, svmPredictions, supportVectorClassifier, Xv)\n",
    "\n",
    "cvSVM = cross_validate(svm.SVC(), X, y, scoring=scoring2, cv=fold)\n",
    "cvSVM_result = pd.DataFrame({\n",
    "    'Model': 'SVM',\n",
    "    'Accuracy': np.round(cvSVM['test_accuracy'].mean(), 4),\n",
    "    'Precision': np.round(cvSVM['test_precision'].mean(), 4),\n",
    "    'Recall': np.round(cvSVM['test_recall'].mean(), 4),\n",
    "    'F1 Score': np.round(cvSVM['test_f1 score'].mean(), 4),\n",
    "    'ROC AUC': np.round(cvSVM['test_roc auc'].mean(), 4)\n",
    "},index=[0])\n",
    "cvSVM_result"
   ]
  },
  {
   "cell_type": "markdown",
   "metadata": {},
   "source": [
    "#### Logistic Regression\n",
    "Here we see the results of the logistic regression classifier."
   ]
  },
  {
   "cell_type": "code",
   "execution_count": 16,
   "metadata": {},
   "outputs": [
    {
     "name": "stdout",
     "output_type": "stream",
     "text": [
      "Accuracy Score : 0.88\n",
      "Precision Score : 0.8857\n",
      "Recall Score : 0.6889\n",
      "F1 Score : 0.775\n",
      "AUC Score : 0.9326\n"
     ]
    },
    {
     "data": {
      "text/html": [
       "<div>\n",
       "<style scoped>\n",
       "    .dataframe tbody tr th:only-of-type {\n",
       "        vertical-align: middle;\n",
       "    }\n",
       "\n",
       "    .dataframe tbody tr th {\n",
       "        vertical-align: top;\n",
       "    }\n",
       "\n",
       "    .dataframe thead th {\n",
       "        text-align: right;\n",
       "    }\n",
       "</style>\n",
       "<table border=\"1\" class=\"dataframe\">\n",
       "  <thead>\n",
       "    <tr style=\"text-align: right;\">\n",
       "      <th></th>\n",
       "      <th>Model</th>\n",
       "      <th>Accuracy</th>\n",
       "      <th>Precision</th>\n",
       "      <th>Recall</th>\n",
       "      <th>F1 Score</th>\n",
       "      <th>ROC AUC</th>\n",
       "    </tr>\n",
       "  </thead>\n",
       "  <tbody>\n",
       "    <tr>\n",
       "      <th>0</th>\n",
       "      <td>Logistic Regression</td>\n",
       "      <td>0.856</td>\n",
       "      <td>0.8626</td>\n",
       "      <td>0.6503</td>\n",
       "      <td>0.736</td>\n",
       "      <td>0.7998</td>\n",
       "    </tr>\n",
       "  </tbody>\n",
       "</table>\n",
       "</div>"
      ],
      "text/plain": [
       "                 Model  Accuracy  Precision  Recall  F1 Score  ROC AUC\n",
       "0  Logistic Regression     0.856     0.8626  0.6503     0.736   0.7998"
      ]
     },
     "execution_count": 16,
     "metadata": {},
     "output_type": "execute_result"
    }
   ],
   "source": [
    "logisticRegressionClassifier = LogisticRegression().fit(Xt,yt)\n",
    "lrcPredictions = logisticRegressionClassifier.predict(Xv)\n",
    "\n",
    "printScoresInSampleRun(yv, lrcPredictions, logisticRegressionClassifier, Xv)\n",
    "\n",
    "cvLRC = cross_validate(LogisticRegression(), X, y, scoring=scoring2, cv=fold)\n",
    "cvLRC_result = pd.DataFrame({\n",
    "    'Model': 'Logistic Regression',\n",
    "    'Accuracy': np.round(cvLRC['test_accuracy'].mean(), 4),\n",
    "    'Precision': np.round(cvLRC['test_precision'].mean(), 4),\n",
    "    'Recall': np.round(cvLRC['test_recall'].mean(), 4),\n",
    "    'F1 Score': np.round(cvLRC['test_f1 score'].mean(), 4),\n",
    "    'ROC AUC': np.round(cvLRC['test_roc auc'].mean(), 4)\n",
    "},index=[0])\n",
    "cvLRC_result"
   ]
  },
  {
   "cell_type": "markdown",
   "metadata": {},
   "source": [
    "#### K-Nearest Neighbors\n",
    "Here we see the results of the k-nearest neighbors classifier."
   ]
  },
  {
   "cell_type": "code",
   "execution_count": 17,
   "metadata": {},
   "outputs": [
    {
     "name": "stdout",
     "output_type": "stream",
     "text": [
      "Accuracy Score : 0.83\n",
      "Precision Score : 0.7241\n",
      "Recall Score : 0.7\n",
      "F1 Score : 0.7119\n",
      "AUC Score : 0.8743\n"
     ]
    },
    {
     "data": {
      "text/html": [
       "<div>\n",
       "<style scoped>\n",
       "    .dataframe tbody tr th:only-of-type {\n",
       "        vertical-align: middle;\n",
       "    }\n",
       "\n",
       "    .dataframe tbody tr th {\n",
       "        vertical-align: top;\n",
       "    }\n",
       "\n",
       "    .dataframe thead th {\n",
       "        text-align: right;\n",
       "    }\n",
       "</style>\n",
       "<table border=\"1\" class=\"dataframe\">\n",
       "  <thead>\n",
       "    <tr style=\"text-align: right;\">\n",
       "      <th></th>\n",
       "      <th>Model</th>\n",
       "      <th>Accuracy</th>\n",
       "      <th>Precision</th>\n",
       "      <th>Recall</th>\n",
       "      <th>F1 Score</th>\n",
       "      <th>ROC AUC</th>\n",
       "    </tr>\n",
       "  </thead>\n",
       "  <tbody>\n",
       "    <tr>\n",
       "      <th>0</th>\n",
       "      <td>K Neighbors</td>\n",
       "      <td>0.82</td>\n",
       "      <td>0.7481</td>\n",
       "      <td>0.6419</td>\n",
       "      <td>0.6887</td>\n",
       "      <td>0.7716</td>\n",
       "    </tr>\n",
       "  </tbody>\n",
       "</table>\n",
       "</div>"
      ],
      "text/plain": [
       "         Model  Accuracy  Precision  Recall  F1 Score  ROC AUC\n",
       "0  K Neighbors      0.82     0.7481  0.6419    0.6887   0.7716"
      ]
     },
     "execution_count": 17,
     "metadata": {},
     "output_type": "execute_result"
    }
   ],
   "source": [
    "kNeighborsClassifier = KNeighborsClassifier().fit(Xt,yt)\n",
    "kNPredictions = kNeighborsClassifier.predict(Xv)\n",
    "\n",
    "printScoresInSampleRun(yv, kNPredictions, kNeighborsClassifier, Xv)\n",
    "\n",
    "cvkN = cross_validate(KNeighborsClassifier(), X, y, scoring=scoring2, cv=fold)\n",
    "cvkN_result = pd.DataFrame({\n",
    "    'Model': 'K Neighbors',\n",
    "    'Accuracy': np.round(cvkN['test_accuracy'].mean(), 4),\n",
    "    'Precision': np.round(cvkN['test_precision'].mean(), 4),\n",
    "    'Recall': np.round(cvkN['test_recall'].mean(), 4),\n",
    "    'F1 Score': np.round(cvkN['test_f1 score'].mean(), 4),\n",
    "    'ROC AUC': np.round(cvkN['test_roc auc'].mean(), 4)\n",
    "},index=[0])\n",
    "cvkN_result"
   ]
  },
  {
   "cell_type": "markdown",
   "metadata": {},
   "source": [
    "### Evaluating the Metrics Across the Dataset Without Additional Features\n",
    "Let's plot the accuracy, precision, and recall scores across the different classifiers!"
   ]
  },
  {
   "cell_type": "markdown",
   "metadata": {},
   "source": [
    "#### Accuracy \n",
    "Let's take a look at the accuracies across the classifiers."
   ]
  },
  {
   "cell_type": "code",
   "execution_count": 18,
   "metadata": {},
   "outputs": [
    {
     "data": {
      "text/plain": [
       "Text(0.5, 0.98, 'Accuracies of Classifiers')"
      ]
     },
     "execution_count": 18,
     "metadata": {},
     "output_type": "execute_result"
    },
    {
     "data": {
      "image/png": "[encoded data removed]",
      "text/plain": [
       "<Figure size 432x288 with 1 Axes>"
      ]
     },
     "metadata": {
      "needs_background": "light"
     },
     "output_type": "display_data"
    }
   ],
   "source": [
    "accuracyFrame = pd.DataFrame({\n",
    "    'Random Forest': cvRandomForest_result[\"Accuracy\"],\n",
    "    'Decision Tree': cvDecisionTrees_result[\"Accuracy\"],\n",
    "    'SVM': cvSVM_result[\"Accuracy\"],\n",
    "    'Logistic Regression': cvLRC_result['Accuracy'],\n",
    "    'K Neighbors': cvkN_result['Accuracy']\n",
    "},index=[0])\n",
    "\n",
    "accuracyFrame.plot(kind='bar')\n",
    "plt.axhline(0, color='k')\n",
    "plt.legend(loc='center left', bbox_to_anchor=(1.0, 0.5))\n",
    "plt.suptitle('Accuracies of Classifiers')"
   ]
  },
  {
   "cell_type": "markdown",
   "metadata": {},
   "source": [
    "We can see that there are three top candidates for our optimal classifier with logistic regression slightly leading but I'll give K neighbors the benefit of the doubt."
   ]
  },
  {
   "cell_type": "markdown",
   "metadata": {},
   "source": [
    "#### Precision\n",
    "Let's take a look at the precision across the different classifiers."
   ]
  },
  {
   "cell_type": "code",
   "execution_count": 19,
   "metadata": {},
   "outputs": [
    {
     "data": {
      "text/plain": [
       "Text(0.5, 0.98, 'Precision of Classifiers')"
      ]
     },
     "execution_count": 19,
     "metadata": {},
     "output_type": "execute_result"
    },
    {
     "data": {
      "image/png": "[encoded data removed]",
      "text/plain": [
       "<Figure size 432x288 with 1 Axes>"
      ]
     },
     "metadata": {
      "needs_background": "light"
     },
     "output_type": "display_data"
    }
   ],
   "source": [
    "precisionFrame = pd.DataFrame({\n",
    "    'Random Forest': cvRandomForest_result[\"Precision\"],\n",
    "    'Decision Tree': cvDecisionTrees_result[\"Precision\"],\n",
    "    'SVM': cvSVM_result[\"Precision\"],\n",
    "    'Logistic Regression': cvLRC_result['Precision'],\n",
    "    'K Neighbors': cvkN_result['Precision']\n",
    "},index=[0])\n",
    "\n",
    "precisionFrame.plot(kind='bar')\n",
    "plt.axhline(0, color='k')\n",
    "plt.legend(loc='center left', bbox_to_anchor=(1.0, 0.5))\n",
    "plt.suptitle('Precision of Classifiers')"
   ]
  },
  {
   "cell_type": "markdown",
   "metadata": {},
   "source": [
    "It looks like logistic regression wins again in terms of precision. The differences are more pronounced than in accuracy."
   ]
  },
  {
   "cell_type": "markdown",
   "metadata": {},
   "source": [
    "#### Recall\n",
    "Let's take a look at the recall of the classifiers!"
   ]
  },
  {
   "cell_type": "code",
   "execution_count": 20,
   "metadata": {},
   "outputs": [
    {
     "data": {
      "text/plain": [
       "Text(0.5, 0.98, 'Recall of Classifiers')"
      ]
     },
     "execution_count": 20,
     "metadata": {},
     "output_type": "execute_result"
    },
    {
     "data": {
      "image/png": "[encoded data removed]",
      "text/plain": [
       "<Figure size 432x288 with 1 Axes>"
      ]
     },
     "metadata": {
      "needs_background": "light"
     },
     "output_type": "display_data"
    }
   ],
   "source": [
    "recallFrame = pd.DataFrame({\n",
    "    'Random Forest': cvRandomForest_result[\"Recall\"],\n",
    "    'Decision Tree': cvDecisionTrees_result[\"Recall\"],\n",
    "    'SVM': cvSVM_result[\"Recall\"],\n",
    "    'Logistic Regression': cvLRC_result['Recall'],\n",
    "    'K Neighbors': cvkN_result['Recall']\n",
    "},index=[0])\n",
    "\n",
    "recallFrame.plot(kind='bar')\n",
    "plt.axhline(0, color='k')\n",
    "plt.legend(loc='center left', bbox_to_anchor=(1.0, 0.5))\n",
    "plt.suptitle('Recall of Classifiers')"
   ]
  },
  {
   "cell_type": "markdown",
   "metadata": {},
   "source": [
    "Curiously enough the recall is highest in SVM's."
   ]
  },
  {
   "cell_type": "code",
   "execution_count": 21,
   "metadata": {},
   "outputs": [
    {
     "data": {
      "text/plain": [
       "Text(0.5, 0.98, 'F1 Scores of Classifiers')"
      ]
     },
     "execution_count": 21,
     "metadata": {},
     "output_type": "execute_result"
    },
    {
     "data": {
      "image/png": "[encoded data removed]",
      "text/plain": [
       "<Figure size 432x288 with 1 Axes>"
      ]
     },
     "metadata": {
      "needs_background": "light"
     },
     "output_type": "display_data"
    }
   ],
   "source": [
    "f1Frame = pd.DataFrame({\n",
    "    'Random Forest': cvRandomForest_result[\"F1 Score\"],\n",
    "    'Decision Tree': cvDecisionTrees_result[\"F1 Score\"],\n",
    "    'SVM': cvSVM_result[\"F1 Score\"],\n",
    "    'Logistic Regression': cvLRC_result['F1 Score'],\n",
    "    'K Neighbors': cvkN_result['F1 Score']\n",
    "},index=[0])\n",
    "\n",
    "f1Frame.plot(kind='bar')\n",
    "plt.axhline(0, color='k')\n",
    "plt.legend(loc='center left', bbox_to_anchor=(1.0, 0.5))\n",
    "plt.suptitle('F1 Scores of Classifiers')"
   ]
  },
  {
   "cell_type": "markdown",
   "metadata": {},
   "source": [
    "Interestingly SVM's lead in the F1 Score(composition of precision and recall)"
   ]
  },
  {
   "cell_type": "markdown",
   "metadata": {},
   "source": [
    "#### Remarks"
   ]
  },
  {
   "cell_type": "markdown",
   "metadata": {},
   "source": [
    "Based on the results I decided to not evaulate decision trees on further experimentation as it seemed the weakest performer."
   ]
  },
  {
   "cell_type": "markdown",
   "metadata": {},
   "source": [
    "## Playing with different hyperparameters on the different classifiers\n",
    "\n",
    "Below we use grid search to generate best values for parameters to create the best possible models."
   ]
  },
  {
   "cell_type": "code",
   "execution_count": 22,
   "metadata": {},
   "outputs": [
    {
     "name": "stdout",
     "output_type": "stream",
     "text": [
      "Accuracy Score : 0.8233\n",
      "Precision Score : 0.7681\n",
      "Recall Score : 0.5889\n",
      "F1 Score : 0.6667\n",
      "AUC Score : 0.9045\n",
      "OOB Error : 0.1671\n"
     ]
    },
    {
     "data": {
      "text/html": [
       "<div>\n",
       "<style scoped>\n",
       "    .dataframe tbody tr th:only-of-type {\n",
       "        vertical-align: middle;\n",
       "    }\n",
       "\n",
       "    .dataframe tbody tr th {\n",
       "        vertical-align: top;\n",
       "    }\n",
       "\n",
       "    .dataframe thead th {\n",
       "        text-align: right;\n",
       "    }\n",
       "</style>\n",
       "<table border=\"1\" class=\"dataframe\">\n",
       "  <thead>\n",
       "    <tr style=\"text-align: right;\">\n",
       "      <th></th>\n",
       "      <th>Model</th>\n",
       "      <th>Accuracy</th>\n",
       "      <th>Precision</th>\n",
       "      <th>Recall</th>\n",
       "      <th>F1 Score</th>\n",
       "      <th>ROC AUC</th>\n",
       "      <th>OOB Error</th>\n",
       "    </tr>\n",
       "  </thead>\n",
       "  <tbody>\n",
       "    <tr>\n",
       "      <th>0</th>\n",
       "      <td>RandomForestClassifier</td>\n",
       "      <td>0.849</td>\n",
       "      <td>0.8394</td>\n",
       "      <td>0.6398</td>\n",
       "      <td>0.7223</td>\n",
       "      <td>0.7917</td>\n",
       "      <td>0.1695</td>\n",
       "    </tr>\n",
       "  </tbody>\n",
       "</table>\n",
       "</div>"
      ],
      "text/plain": [
       "                    Model  Accuracy  Precision  Recall  F1 Score  ROC AUC  \\\n",
       "0  RandomForestClassifier     0.849     0.8394  0.6398    0.7223   0.7917   \n",
       "\n",
       "   OOB Error  \n",
       "0     0.1695  "
      ]
     },
     "execution_count": 22,
     "metadata": {},
     "output_type": "execute_result"
    }
   ],
   "source": [
    "parameters = {'min_samples_split': [2, 3, 4, 5, 6]}\n",
    "randomForestClassifier = GridSearchCV(RandomForestClassifier(oob_score=True),parameters).fit(Xt, yt)\n",
    "randomForestPredictions = randomForestClassifier.predict(Xv)\n",
    "best_params = randomForestClassifier.best_params_\n",
    "\n",
    "bestRandomForestClassifier = RandomForestClassifier(oob_score=True, min_samples_split=best_params['min_samples_split'])\n",
    "bestRandomForestClassifier.fit(Xt, yt)\n",
    "\n",
    "bestRandomForestClassifierPred = bestRandomForestClassifier.predict(Xv)\n",
    "printScoresInSampleRun(yv, bestRandomForestClassifierPred, bestRandomForestClassifier, Xv)\n",
    "print('OOB Error :', np.round(1 - bestRandomForestClassifier.oob_score_, 4))\n",
    "\n",
    "cvRandomForestTuned = cross_validate(bestRandomForestClassifier, X, y, scoring=scoringRandomForest, cv=fold)\n",
    "\n",
    "cvRandomForest_ResultTuned = pd.DataFrame({\n",
    "    'Model': 'RandomForestClassifier',\n",
    "    'Accuracy': np.round(cvRandomForestTuned['test_accuracy'].mean(), 4),\n",
    "    'Precision': np.round(cvRandomForestTuned['test_precision'].mean(), 4),\n",
    "    'Recall': np.round(cvRandomForestTuned['test_recall'].mean(), 4),\n",
    "    'F1 Score': np.round(cvRandomForestTuned['test_f1 score'].mean(), 4),\n",
    "    'ROC AUC': np.round(cvRandomForestTuned['test_roc auc'].mean(), 4),\n",
    "    'OOB Error': np.round(cvRandomForestTuned['test_oob'].mean(), 4)\n",
    "},index=[0])\n",
    "cvRandomForest_ResultTuned"
   ]
  },
  {
   "cell_type": "code",
   "execution_count": 23,
   "metadata": {},
   "outputs": [
    {
     "name": "stdout",
     "output_type": "stream",
     "text": [
      "Accuracy Score : 0.86\n",
      "Precision Score : 0.8243\n",
      "Recall Score : 0.6778\n",
      "F1 Score : 0.7439\n",
      "AUC Score : 0.9247\n"
     ]
    },
    {
     "data": {
      "text/html": [
       "<div>\n",
       "<style scoped>\n",
       "    .dataframe tbody tr th:only-of-type {\n",
       "        vertical-align: middle;\n",
       "    }\n",
       "\n",
       "    .dataframe tbody tr th {\n",
       "        vertical-align: top;\n",
       "    }\n",
       "\n",
       "    .dataframe thead th {\n",
       "        text-align: right;\n",
       "    }\n",
       "</style>\n",
       "<table border=\"1\" class=\"dataframe\">\n",
       "  <thead>\n",
       "    <tr style=\"text-align: right;\">\n",
       "      <th></th>\n",
       "      <th>Model</th>\n",
       "      <th>Accuracy</th>\n",
       "      <th>Precision</th>\n",
       "      <th>Recall</th>\n",
       "      <th>F1 Score</th>\n",
       "      <th>ROC AUC</th>\n",
       "    </tr>\n",
       "  </thead>\n",
       "  <tbody>\n",
       "    <tr>\n",
       "      <th>0</th>\n",
       "      <td>SVM</td>\n",
       "      <td>0.851</td>\n",
       "      <td>0.8039</td>\n",
       "      <td>0.7002</td>\n",
       "      <td>0.7434</td>\n",
       "      <td>0.8103</td>\n",
       "    </tr>\n",
       "  </tbody>\n",
       "</table>\n",
       "</div>"
      ],
      "text/plain": [
       "  Model  Accuracy  Precision  Recall  F1 Score  ROC AUC\n",
       "0   SVM     0.851     0.8039  0.7002    0.7434   0.8103"
      ]
     },
     "execution_count": 23,
     "metadata": {},
     "output_type": "execute_result"
    }
   ],
   "source": [
    "supportVectorClassifier = svm.SVC(probability = True)\n",
    "parameters = {'kernel':('linear', 'rbf'), 'C': [0.1, 1, 100, 1000], 'gamma': [0.0001, 0.001, 0.005, 0.1, 1, 3, 5]}\n",
    "clf = GridSearchCV(supportVectorClassifier, parameters)\n",
    "clf.fit(Xt, yt)\n",
    "best_params = clf.best_params_\n",
    "\n",
    "best_svm = svm.SVC(kernel=best_params['kernel'], C=best_params[\"C\"],gamma=best_params[\"gamma\"], probability = True)\n",
    "best_svm.fit(Xt, yt)\n",
    "\n",
    "cvTuning = cross_validate(best_svm, X, y, scoring=scoring2, cv=fold)\n",
    "best_svmPred = best_svm.predict(Xv)\n",
    "\n",
    "printScoresInSampleRun(yv, best_svmPred, best_svm, Xv)\n",
    "\n",
    "cvSVM_resultTuned = pd.DataFrame({\n",
    "    'Model': 'SVM',\n",
    "    'Accuracy': np.round(cvTuning['test_accuracy'].mean(), 4),\n",
    "    'Precision': np.round(cvTuning['test_precision'].mean(), 4),\n",
    "    'Recall': np.round(cvTuning['test_recall'].mean(), 4),\n",
    "    'F1 Score': np.round(cvTuning['test_f1 score'].mean(), 4),\n",
    "    'ROC AUC': np.round(cvTuning['test_roc auc'].mean(), 4)\n",
    "},index=[0])\n",
    "cvSVM_resultTuned"
   ]
  },
  {
   "cell_type": "code",
   "execution_count": 24,
   "metadata": {},
   "outputs": [
    {
     "name": "stdout",
     "output_type": "stream",
     "text": [
      "Accuracy Score : 0.8733\n",
      "Precision Score : 0.8095\n",
      "Recall Score : 0.7556\n",
      "F1 Score : 0.7816\n",
      "AUC Score : 0.9284\n"
     ]
    },
    {
     "data": {
      "text/html": [
       "<div>\n",
       "<style scoped>\n",
       "    .dataframe tbody tr th:only-of-type {\n",
       "        vertical-align: middle;\n",
       "    }\n",
       "\n",
       "    .dataframe tbody tr th {\n",
       "        vertical-align: top;\n",
       "    }\n",
       "\n",
       "    .dataframe thead th {\n",
       "        text-align: right;\n",
       "    }\n",
       "</style>\n",
       "<table border=\"1\" class=\"dataframe\">\n",
       "  <thead>\n",
       "    <tr style=\"text-align: right;\">\n",
       "      <th></th>\n",
       "      <th>Model</th>\n",
       "      <th>Accuracy</th>\n",
       "      <th>Precision</th>\n",
       "      <th>Recall</th>\n",
       "      <th>F1 Score</th>\n",
       "      <th>ROC AUC</th>\n",
       "    </tr>\n",
       "  </thead>\n",
       "  <tbody>\n",
       "    <tr>\n",
       "      <th>0</th>\n",
       "      <td>LogisticRegression</td>\n",
       "      <td>0.854</td>\n",
       "      <td>0.7817</td>\n",
       "      <td>0.7527</td>\n",
       "      <td>0.7619</td>\n",
       "      <td>0.8263</td>\n",
       "    </tr>\n",
       "  </tbody>\n",
       "</table>\n",
       "</div>"
      ],
      "text/plain": [
       "                Model  Accuracy  Precision  Recall  F1 Score  ROC AUC\n",
       "0  LogisticRegression     0.854     0.7817  0.7527    0.7619   0.8263"
      ]
     },
     "execution_count": 24,
     "metadata": {},
     "output_type": "execute_result"
    }
   ],
   "source": [
    "parameters = {'C': [0.1, 1, 100, 1000], 'solver': ['newton-cg', 'lbfgs', 'liblinear', 'sag', 'saga']}\n",
    "logisticRegressionClassifier = GridSearchCV(LogisticRegression(max_iter = 10000), parameters).fit(Xt,yt)\n",
    "lrcPredictions = logisticRegressionClassifier.predict(Xv)\n",
    "best_params = logisticRegressionClassifier.best_params_\n",
    "\n",
    "best_lrc = LogisticRegression(C = best_params['C'], solver = best_params['solver'], max_iter = 10000)\n",
    "best_lrc.fit(Xt, yt)\n",
    "\n",
    "best_lrcPredictions = best_lrc.predict(Xv)\n",
    "printScoresInSampleRun(yv, best_lrcPredictions, best_lrc, Xv)\n",
    "\n",
    "cvLRC = cross_validate(best_lrc, X, y, scoring=scoring2, cv=fold)\n",
    "cvLRC_resultTuned = pd.DataFrame({\n",
    "    'Model': 'LogisticRegression',\n",
    "    'Accuracy': np.round(cvLRC['test_accuracy'].mean(), 4),\n",
    "    'Precision': np.round(cvLRC['test_precision'].mean(), 4),\n",
    "    'Recall': np.round(cvLRC['test_recall'].mean(), 4),\n",
    "    'F1 Score': np.round(cvLRC['test_f1 score'].mean(), 4),\n",
    "    'ROC AUC': np.round(cvLRC['test_roc auc'].mean(), 4)\n",
    "},index=[0])\n",
    "cvLRC_resultTuned"
   ]
  },
  {
   "cell_type": "code",
   "execution_count": 25,
   "metadata": {},
   "outputs": [
    {
     "name": "stdout",
     "output_type": "stream",
     "text": [
      "Accuracy Score : 0.83\n",
      "Precision Score : 0.7241\n",
      "Recall Score : 0.7\n",
      "F1 Score : 0.7119\n",
      "AUC Score : 0.8743\n"
     ]
    },
    {
     "data": {
      "text/html": [
       "<div>\n",
       "<style scoped>\n",
       "    .dataframe tbody tr th:only-of-type {\n",
       "        vertical-align: middle;\n",
       "    }\n",
       "\n",
       "    .dataframe tbody tr th {\n",
       "        vertical-align: top;\n",
       "    }\n",
       "\n",
       "    .dataframe thead th {\n",
       "        text-align: right;\n",
       "    }\n",
       "</style>\n",
       "<table border=\"1\" class=\"dataframe\">\n",
       "  <thead>\n",
       "    <tr style=\"text-align: right;\">\n",
       "      <th></th>\n",
       "      <th>Model</th>\n",
       "      <th>Accuracy</th>\n",
       "      <th>Precision</th>\n",
       "      <th>Recall</th>\n",
       "      <th>F1 Score</th>\n",
       "      <th>ROC AUC</th>\n",
       "    </tr>\n",
       "  </thead>\n",
       "  <tbody>\n",
       "    <tr>\n",
       "      <th>0</th>\n",
       "      <td>k-Neighbors</td>\n",
       "      <td>0.82</td>\n",
       "      <td>0.7481</td>\n",
       "      <td>0.6419</td>\n",
       "      <td>0.6887</td>\n",
       "      <td>0.7716</td>\n",
       "    </tr>\n",
       "  </tbody>\n",
       "</table>\n",
       "</div>"
      ],
      "text/plain": [
       "         Model  Accuracy  Precision  Recall  F1 Score  ROC AUC\n",
       "0  k-Neighbors      0.82     0.7481  0.6419    0.6887   0.7716"
      ]
     },
     "execution_count": 25,
     "metadata": {},
     "output_type": "execute_result"
    }
   ],
   "source": [
    "parameters = {'n_neighbors': [1, 2, 3, 4, 5, 10, 15], 'algorithm': ['auto', 'ball_tree', 'kd_tree', 'brute']}\n",
    "kNeighborsClassifier = GridSearchCV(KNeighborsClassifier(), parameters).fit(Xt,yt)\n",
    "kNPredictions = kNeighborsClassifier.predict(Xv)\n",
    "best_params = kNeighborsClassifier.best_params_\n",
    "\n",
    "best_kNeighborsClassifier = KNeighborsClassifier(n_neighbors = best_params['n_neighbors'], algorithm = best_params['algorithm'])\n",
    "best_kNeighborsClassifier.fit(Xt, yt)\n",
    "\n",
    "best_kNeighborsClassifierPred = best_kNeighborsClassifier.predict(Xv)\n",
    "printScoresInSampleRun(yv, best_kNeighborsClassifierPred, best_kNeighborsClassifier, Xv)\n",
    "\n",
    "cvkNTuned = cross_validate(best_kNeighborsClassifier, X, y, scoring=scoring2, cv=fold)\n",
    "cvkN_resultTuned = pd.DataFrame({\n",
    "    'Model': 'k-Neighbors',\n",
    "    'Accuracy': np.round(cvkNTuned['test_accuracy'].mean(), 4),\n",
    "    'Precision': np.round(cvkNTuned['test_precision'].mean(), 4),\n",
    "    'Recall': np.round(cvkNTuned['test_recall'].mean(), 4),\n",
    "    'F1 Score': np.round(cvkNTuned['test_f1 score'].mean(), 4),\n",
    "    'ROC AUC': np.round(cvkNTuned['test_roc auc'].mean(), 4)\n",
    "},index=[0])\n",
    "cvkN_resultTuned"
   ]
  },
  {
   "cell_type": "code",
   "execution_count": 26,
   "metadata": {},
   "outputs": [
    {
     "data": {
      "text/plain": [
       "Text(0.5, 0.98, 'Accuracies of Classifiers')"
      ]
     },
     "execution_count": 26,
     "metadata": {},
     "output_type": "execute_result"
    },
    {
     "data": {
      "image/png": "[encoded data removed]",
      "text/plain": [
       "<Figure size 432x288 with 1 Axes>"
      ]
     },
     "metadata": {
      "needs_background": "light"
     },
     "output_type": "display_data"
    }
   ],
   "source": [
    "accuracyFrame = pd.DataFrame({\n",
    "    'Random Forest': cvRandomForest_ResultTuned[\"Accuracy\"],\n",
    "    'SVM': cvSVM_resultTuned[\"Accuracy\"],\n",
    "    'Logistic Regression': cvLRC_resultTuned['Accuracy'],\n",
    "    'K Neighbors': cvkN_resultTuned['Accuracy']\n",
    "},index=[0])\n",
    "\n",
    "accuracyFrame.plot(kind='bar')\n",
    "plt.axhline(0, color='k')\n",
    "plt.legend(loc='center left', bbox_to_anchor=(1.0, 0.5))\n",
    "plt.suptitle('Accuracies of Classifiers')"
   ]
  },
  {
   "cell_type": "code",
   "execution_count": 27,
   "metadata": {},
   "outputs": [
    {
     "data": {
      "text/plain": [
       "Text(0.5, 0.98, 'Precisions of Classifiers')"
      ]
     },
     "execution_count": 27,
     "metadata": {},
     "output_type": "execute_result"
    },
    {
     "data": {
      "image/png": "[encoded data removed]",
      "text/plain": [
       "<Figure size 432x288 with 1 Axes>"
      ]
     },
     "metadata": {
      "needs_background": "light"
     },
     "output_type": "display_data"
    }
   ],
   "source": [
    "precisionFrame = pd.DataFrame({\n",
    "    'Random Forest': cvRandomForest_ResultTuned[\"Precision\"],\n",
    "    'SVM': cvSVM_resultTuned[\"Precision\"],\n",
    "    'Logistic Regression': cvLRC_resultTuned['Precision'],\n",
    "    'K Neighbors': cvkN_resultTuned['Precision']\n",
    "},index=[0])\n",
    "\n",
    "precisionFrame.plot(kind='bar')\n",
    "plt.axhline(0, color='k')\n",
    "plt.legend(loc='center left', bbox_to_anchor=(1.0, 0.5))\n",
    "plt.suptitle('Precisions of Classifiers')"
   ]
  },
  {
   "cell_type": "code",
   "execution_count": 28,
   "metadata": {},
   "outputs": [
    {
     "data": {
      "text/plain": [
       "Text(0.5, 0.98, 'Recalls of Classifiers')"
      ]
     },
     "execution_count": 28,
     "metadata": {},
     "output_type": "execute_result"
    },
    {
     "data": {
      "image/png": "[encoded data removed]",
      "text/plain": [
       "<Figure size 432x288 with 1 Axes>"
      ]
     },
     "metadata": {
      "needs_background": "light"
     },
     "output_type": "display_data"
    }
   ],
   "source": [
    "recallFrame = pd.DataFrame({\n",
    "    'Random Forest': cvRandomForest_ResultTuned[\"Recall\"],\n",
    "    'SVM': cvSVM_resultTuned[\"Recall\"],\n",
    "    'Logistic Regression': cvLRC_resultTuned['Recall'],\n",
    "    'K Neighbors': cvkN_resultTuned['Recall']\n",
    "},index=[0])\n",
    "\n",
    "recallFrame.plot(kind='bar')\n",
    "plt.axhline(0, color='k')\n",
    "plt.legend(loc='center left', bbox_to_anchor=(1.0, 0.5))\n",
    "plt.suptitle('Recalls of Classifiers')"
   ]
  },
  {
   "cell_type": "code",
   "execution_count": 29,
   "metadata": {},
   "outputs": [
    {
     "data": {
      "text/plain": [
       "Text(0.5, 0.98, 'F1 scores of Classifiers')"
      ]
     },
     "execution_count": 29,
     "metadata": {},
     "output_type": "execute_result"
    },
    {
     "data": {
      "image/png": "[encoded data removed]",
      "text/plain": [
       "<Figure size 432x288 with 1 Axes>"
      ]
     },
     "metadata": {
      "needs_background": "light"
     },
     "output_type": "display_data"
    }
   ],
   "source": [
    "f1Frame = pd.DataFrame({\n",
    "    'Random Forest': cvRandomForest_ResultTuned[\"F1 Score\"],\n",
    "    'SVM': cvSVM_resultTuned[\"F1 Score\"],\n",
    "    'Logistic Regression': cvLRC_resultTuned['F1 Score'],\n",
    "    'K Neighbors': cvkN_resultTuned['F1 Score']\n",
    "},index=[0])\n",
    "\n",
    "f1Frame.plot(kind='bar')\n",
    "plt.axhline(0, color='k')\n",
    "plt.legend(loc='center left', bbox_to_anchor=(1.0, 0.5))\n",
    "plt.suptitle('F1 scores of Classifiers')"
   ]
  },
  {
   "cell_type": "markdown",
   "metadata": {},
   "source": [
    "### Remarks"
   ]
  },
  {
   "cell_type": "markdown",
   "metadata": {},
   "source": [
    "After tuning, we got SVM's leading in accuracy, random forests in precision and logistic regression in recall. So if you wanted to evaluate your data without adding features, you'd use SVM's if you want an accurate model, random forests if you wanted to prioritize that your \"interesting\" event is actually right, and logistic regression for when you wanted to prioritize the model not misidentifying an interesting event."
   ]
  },
  {
   "cell_type": "markdown",
   "metadata": {},
   "source": [
    "## Playing around with Stops and Turns\n",
    "Here we added both stops and turns to see how that might affect results\n"
   ]
  },
  {
   "cell_type": "code",
   "execution_count": 30,
   "metadata": {},
   "outputs": [],
   "source": [
    "XwithStopsandTurnst, XwithStopsandTurnsv, ywithStopsandTurnst, ywithStopsandTurnsv = train_test_split(XwithStopsandTurns, y, test_size=0.3)"
   ]
  },
  {
   "cell_type": "code",
   "execution_count": 31,
   "metadata": {},
   "outputs": [
    {
     "name": "stdout",
     "output_type": "stream",
     "text": [
      "Accuracy Score : 0.8267\n",
      "Precision Score : 0.8082\n",
      "Recall Score : 0.6082\n",
      "F1 Score : 0.6941\n",
      "AUC Score : 0.9037\n"
     ]
    },
    {
     "data": {
      "text/html": [
       "<div>\n",
       "<style scoped>\n",
       "    .dataframe tbody tr th:only-of-type {\n",
       "        vertical-align: middle;\n",
       "    }\n",
       "\n",
       "    .dataframe tbody tr th {\n",
       "        vertical-align: top;\n",
       "    }\n",
       "\n",
       "    .dataframe thead th {\n",
       "        text-align: right;\n",
       "    }\n",
       "</style>\n",
       "<table border=\"1\" class=\"dataframe\">\n",
       "  <thead>\n",
       "    <tr style=\"text-align: right;\">\n",
       "      <th></th>\n",
       "      <th>Model</th>\n",
       "      <th>Accuracy</th>\n",
       "      <th>Precision</th>\n",
       "      <th>Recall</th>\n",
       "      <th>F1 Score</th>\n",
       "      <th>ROC AUC</th>\n",
       "      <th>OOB Error</th>\n",
       "    </tr>\n",
       "  </thead>\n",
       "  <tbody>\n",
       "    <tr>\n",
       "      <th>0</th>\n",
       "      <td>RandomForestClassifierStopsTurns</td>\n",
       "      <td>0.85</td>\n",
       "      <td>0.8187</td>\n",
       "      <td>0.6672</td>\n",
       "      <td>0.7332</td>\n",
       "      <td>0.8002</td>\n",
       "      <td>0.1615</td>\n",
       "    </tr>\n",
       "  </tbody>\n",
       "</table>\n",
       "</div>"
      ],
      "text/plain": [
       "                              Model  Accuracy  Precision  Recall  F1 Score  \\\n",
       "0  RandomForestClassifierStopsTurns      0.85     0.8187  0.6672    0.7332   \n",
       "\n",
       "   ROC AUC  OOB Error  \n",
       "0   0.8002     0.1615  "
      ]
     },
     "execution_count": 31,
     "metadata": {},
     "output_type": "execute_result"
    }
   ],
   "source": [
    "randomForestClassifierSandT = RandomForestClassifier(oob_score=True)\n",
    "randomForestClassifierSandT.fit(XwithStopsandTurnst, ywithStopsandTurnst)\n",
    "randomForestClassifierSandTPred = randomForestClassifierSandT.predict(XwithStopsandTurnsv)\n",
    "\n",
    "printScoresInSampleRun(ywithStopsandTurnsv, randomForestClassifierSandTPred, randomForestClassifierSandT, XwithStopsandTurnsv)\n",
    "\n",
    "cvRandomForestST = cross_validate(RandomForestClassifier(oob_score=True), XwithStopsandTurns, y, scoring=scoringRandomForest, cv=fold)\n",
    "cvRandomForestST_result = pd.DataFrame({\n",
    "    'Model': 'RandomForestClassifierStopsTurns',\n",
    "    'Accuracy': np.round(cvRandomForestST['test_accuracy'].mean(), 4),\n",
    "    'Precision': np.round(cvRandomForestST['test_precision'].mean(), 4),\n",
    "    'Recall': np.round(cvRandomForestST['test_recall'].mean(), 4),\n",
    "    'F1 Score': np.round(cvRandomForestST['test_f1 score'].mean(), 4),\n",
    "    'ROC AUC': np.round(cvRandomForestST['test_roc auc'].mean(), 4),\n",
    "        'OOB Error': np.round(cvRandomForestST['test_oob'].mean(), 4)\n",
    "},index=[0])\n",
    "cvRandomForestST_result"
   ]
  },
  {
   "cell_type": "code",
   "execution_count": 32,
   "metadata": {},
   "outputs": [
    {
     "name": "stdout",
     "output_type": "stream",
     "text": [
      "Accuracy Score : 0.8433\n",
      "Precision Score : 0.7778\n",
      "Recall Score : 0.7216\n",
      "F1 Score : 0.7487\n",
      "AUC Score : 0.9174\n"
     ]
    },
    {
     "data": {
      "text/html": [
       "<div>\n",
       "<style scoped>\n",
       "    .dataframe tbody tr th:only-of-type {\n",
       "        vertical-align: middle;\n",
       "    }\n",
       "\n",
       "    .dataframe tbody tr th {\n",
       "        vertical-align: top;\n",
       "    }\n",
       "\n",
       "    .dataframe thead th {\n",
       "        text-align: right;\n",
       "    }\n",
       "</style>\n",
       "<table border=\"1\" class=\"dataframe\">\n",
       "  <thead>\n",
       "    <tr style=\"text-align: right;\">\n",
       "      <th></th>\n",
       "      <th>Model</th>\n",
       "      <th>Accuracy</th>\n",
       "      <th>Precision</th>\n",
       "      <th>Recall</th>\n",
       "      <th>F1 Score</th>\n",
       "      <th>ROC AUC</th>\n",
       "    </tr>\n",
       "  </thead>\n",
       "  <tbody>\n",
       "    <tr>\n",
       "      <th>0</th>\n",
       "      <td>SVMStopsTurns</td>\n",
       "      <td>0.864</td>\n",
       "      <td>0.8187</td>\n",
       "      <td>0.7272</td>\n",
       "      <td>0.7669</td>\n",
       "      <td>0.8267</td>\n",
       "    </tr>\n",
       "  </tbody>\n",
       "</table>\n",
       "</div>"
      ],
      "text/plain": [
       "           Model  Accuracy  Precision  Recall  F1 Score  ROC AUC\n",
       "0  SVMStopsTurns     0.864     0.8187  0.7272    0.7669   0.8267"
      ]
     },
     "execution_count": 32,
     "metadata": {},
     "output_type": "execute_result"
    }
   ],
   "source": [
    "svmClassifierSandT = svm.SVC(probability=True)\n",
    "svmClassifierSandT.fit(XwithStopsandTurnst, ywithStopsandTurnst)\n",
    "svmClassifierSandTPred = svmClassifierSandT.predict(XwithStopsandTurnsv)\n",
    "\n",
    "printScoresInSampleRun(ywithStopsandTurnsv, svmClassifierSandTPred, svmClassifierSandT, XwithStopsandTurnsv)\n",
    "\n",
    "cvsvmST = cross_validate(svm.SVC(), XwithStopsandTurns, y, scoring=scoring2, cv=fold)\n",
    "cvsvmST_result = pd.DataFrame({\n",
    "    'Model': 'SVMStopsTurns',\n",
    "    'Accuracy': np.round(cvsvmST['test_accuracy'].mean(), 4),\n",
    "    'Precision': np.round(cvsvmST['test_precision'].mean(), 4),\n",
    "    'Recall': np.round(cvsvmST['test_recall'].mean(), 4),\n",
    "    'F1 Score': np.round(cvsvmST['test_f1 score'].mean(), 4),\n",
    "    'ROC AUC': np.round(cvsvmST['test_roc auc'].mean(), 4)\n",
    "},index=[0])\n",
    "cvsvmST_result"
   ]
  },
  {
   "cell_type": "code",
   "execution_count": 33,
   "metadata": {},
   "outputs": [
    {
     "name": "stdout",
     "output_type": "stream",
     "text": [
      "Accuracy Score : 0.8433\n",
      "Precision Score : 0.8472\n",
      "Recall Score : 0.6289\n",
      "F1 Score : 0.7219\n",
      "AUC Score : 0.9147\n"
     ]
    },
    {
     "data": {
      "text/html": [
       "<div>\n",
       "<style scoped>\n",
       "    .dataframe tbody tr th:only-of-type {\n",
       "        vertical-align: middle;\n",
       "    }\n",
       "\n",
       "    .dataframe tbody tr th {\n",
       "        vertical-align: top;\n",
       "    }\n",
       "\n",
       "    .dataframe thead th {\n",
       "        text-align: right;\n",
       "    }\n",
       "</style>\n",
       "<table border=\"1\" class=\"dataframe\">\n",
       "  <thead>\n",
       "    <tr style=\"text-align: right;\">\n",
       "      <th></th>\n",
       "      <th>Model</th>\n",
       "      <th>Accuracy</th>\n",
       "      <th>Precision</th>\n",
       "      <th>Recall</th>\n",
       "      <th>F1 Score</th>\n",
       "      <th>ROC AUC</th>\n",
       "    </tr>\n",
       "  </thead>\n",
       "  <tbody>\n",
       "    <tr>\n",
       "      <th>0</th>\n",
       "      <td>LogisticRegressionStopsTurns</td>\n",
       "      <td>0.86</td>\n",
       "      <td>0.8656</td>\n",
       "      <td>0.6626</td>\n",
       "      <td>0.7437</td>\n",
       "      <td>0.806</td>\n",
       "    </tr>\n",
       "  </tbody>\n",
       "</table>\n",
       "</div>"
      ],
      "text/plain": [
       "                          Model  Accuracy  Precision  Recall  F1 Score  \\\n",
       "0  LogisticRegressionStopsTurns      0.86     0.8656  0.6626    0.7437   \n",
       "\n",
       "   ROC AUC  \n",
       "0    0.806  "
      ]
     },
     "execution_count": 33,
     "metadata": {},
     "output_type": "execute_result"
    }
   ],
   "source": [
    "logisticRegressionClassifierST = LogisticRegression()\n",
    "logisticRegressionClassifierST.fit(XwithStopsandTurnst, ywithStopsandTurnst)\n",
    "logisticRegressionClassifierSTPred = logisticRegressionClassifierST.predict(XwithStopsandTurnsv)\n",
    "\n",
    "printScoresInSampleRun(ywithStopsandTurnsv, logisticRegressionClassifierSTPred, logisticRegressionClassifierST, XwithStopsandTurnsv)\n",
    "\n",
    "cvLRCST = cross_validate(LogisticRegression(), XwithStopsandTurns, y, scoring=scoring2, cv=fold)\n",
    "cvLRCST_result = pd.DataFrame({\n",
    "    'Model': 'LogisticRegressionStopsTurns',\n",
    "    'Accuracy': np.round(cvLRCST['test_accuracy'].mean(), 4),\n",
    "    'Precision': np.round(cvLRCST['test_precision'].mean(), 4),\n",
    "    'Recall': np.round(cvLRCST['test_recall'].mean(), 4),\n",
    "    'F1 Score': np.round(cvLRCST['test_f1 score'].mean(), 4),\n",
    "    'ROC AUC': np.round(cvLRCST['test_roc auc'].mean(), 4)\n",
    "},index=[0])\n",
    "cvLRCST_result"
   ]
  },
  {
   "cell_type": "code",
   "execution_count": 34,
   "metadata": {},
   "outputs": [
    {
     "name": "stdout",
     "output_type": "stream",
     "text": [
      "Accuracy Score : 0.8033\n",
      "Precision Score : 0.7639\n",
      "Recall Score : 0.567\n",
      "F1 Score : 0.6509\n",
      "AUC Score : 0.8467\n"
     ]
    },
    {
     "data": {
      "text/html": [
       "<div>\n",
       "<style scoped>\n",
       "    .dataframe tbody tr th:only-of-type {\n",
       "        vertical-align: middle;\n",
       "    }\n",
       "\n",
       "    .dataframe tbody tr th {\n",
       "        vertical-align: top;\n",
       "    }\n",
       "\n",
       "    .dataframe thead th {\n",
       "        text-align: right;\n",
       "    }\n",
       "</style>\n",
       "<table border=\"1\" class=\"dataframe\">\n",
       "  <thead>\n",
       "    <tr style=\"text-align: right;\">\n",
       "      <th></th>\n",
       "      <th>Model</th>\n",
       "      <th>Accuracy</th>\n",
       "      <th>Precision</th>\n",
       "      <th>Recall</th>\n",
       "      <th>F1 Score</th>\n",
       "      <th>ROC AUC</th>\n",
       "    </tr>\n",
       "  </thead>\n",
       "  <tbody>\n",
       "    <tr>\n",
       "      <th>0</th>\n",
       "      <td>KNeighborsStopsTurns</td>\n",
       "      <td>0.8</td>\n",
       "      <td>0.727</td>\n",
       "      <td>0.5753</td>\n",
       "      <td>0.6392</td>\n",
       "      <td>0.7391</td>\n",
       "    </tr>\n",
       "  </tbody>\n",
       "</table>\n",
       "</div>"
      ],
      "text/plain": [
       "                  Model  Accuracy  Precision  Recall  F1 Score  ROC AUC\n",
       "0  KNeighborsStopsTurns       0.8      0.727  0.5753    0.6392   0.7391"
      ]
     },
     "execution_count": 34,
     "metadata": {},
     "output_type": "execute_result"
    }
   ],
   "source": [
    "kNeighborsClassifierST = KNeighborsClassifier()\n",
    "kNeighborsClassifierST.fit(XwithStopsandTurnst, ywithStopsandTurnst)\n",
    "kNeighborsClassifierSTPred = kNeighborsClassifierST.predict(XwithStopsandTurnsv)\n",
    "\n",
    "printScoresInSampleRun(ywithStopsandTurnsv, kNeighborsClassifierSTPred, kNeighborsClassifierST, XwithStopsandTurnsv)\n",
    "\n",
    "cvKNST = cross_validate(KNeighborsClassifier(), XwithStopsandTurns, y, scoring=scoring2, cv=fold)\n",
    "cvKNST_result = pd.DataFrame({\n",
    "    'Model': 'KNeighborsStopsTurns',\n",
    "    'Accuracy': np.round(cvKNST['test_accuracy'].mean(), 4),\n",
    "    'Precision': np.round(cvKNST['test_precision'].mean(), 4),\n",
    "    'Recall': np.round(cvKNST['test_recall'].mean(), 4),\n",
    "    'F1 Score': np.round(cvKNST['test_f1 score'].mean(), 4),\n",
    "    'ROC AUC': np.round(cvKNST['test_roc auc'].mean(), 4)\n",
    "},index=[0])\n",
    "cvKNST_result"
   ]
  },
  {
   "cell_type": "code",
   "execution_count": 35,
   "metadata": {},
   "outputs": [
    {
     "data": {
      "text/plain": [
       "Text(0.5, 0.98, 'Accuracy of Classifiers with Stops and Turns')"
      ]
     },
     "execution_count": 35,
     "metadata": {},
     "output_type": "execute_result"
    },
    {
     "data": {
      "image/png": "[encoded data removed]",
      "text/plain": [
       "<Figure size 432x288 with 1 Axes>"
      ]
     },
     "metadata": {
      "needs_background": "light"
     },
     "output_type": "display_data"
    }
   ],
   "source": [
    "accuracySTFrame = pd.DataFrame({\n",
    "    'Random Forest': cvRandomForestST_result[\"Accuracy\"],\n",
    "    'SVM': cvsvmST_result[\"Accuracy\"],\n",
    "    'Logistic Regression': cvLRCST_result['Accuracy'],\n",
    "    'K Neighbors': cvKNST_result['Accuracy']\n",
    "},index=[0])\n",
    "\n",
    "accuracySTFrame.plot(kind='bar')\n",
    "plt.axhline(0, color='k')\n",
    "plt.legend(loc='center left', bbox_to_anchor=(1.0, 0.5))\n",
    "plt.suptitle('Accuracy of Classifiers with Stops and Turns')"
   ]
  },
  {
   "cell_type": "code",
   "execution_count": 36,
   "metadata": {},
   "outputs": [
    {
     "data": {
      "text/plain": [
       "Text(0.5, 0.98, 'Precision of Classifiers with Stops and Turns')"
      ]
     },
     "execution_count": 36,
     "metadata": {},
     "output_type": "execute_result"
    },
    {
     "data": {
      "image/png": "[encoded data removed]",
      "text/plain": [
       "<Figure size 432x288 with 1 Axes>"
      ]
     },
     "metadata": {
      "needs_background": "light"
     },
     "output_type": "display_data"
    }
   ],
   "source": [
    "precisionSTFrame = pd.DataFrame({\n",
    "    'Random Forest': cvRandomForestST_result[\"Precision\"],\n",
    "    'SVM': cvsvmST_result[\"Precision\"],\n",
    "    'Logistic Regression': cvLRCST_result['Precision'],\n",
    "    'K Neighbors': cvKNST_result['Precision']\n",
    "},index=[0])\n",
    "\n",
    "precisionSTFrame.plot(kind='bar')\n",
    "plt.axhline(0, color='k')\n",
    "plt.legend(loc='center left', bbox_to_anchor=(1.0, 0.5))\n",
    "plt.suptitle('Precision of Classifiers with Stops and Turns')"
   ]
  },
  {
   "cell_type": "code",
   "execution_count": 37,
   "metadata": {},
   "outputs": [
    {
     "data": {
      "text/plain": [
       "Text(0.5, 0.98, 'Recall of Classifiers with Stops and Turns')"
      ]
     },
     "execution_count": 37,
     "metadata": {},
     "output_type": "execute_result"
    },
    {
     "data": {
      "image/png": "[encoded data removed]",
      "text/plain": [
       "<Figure size 432x288 with 1 Axes>"
      ]
     },
     "metadata": {
      "needs_background": "light"
     },
     "output_type": "display_data"
    }
   ],
   "source": [
    "recallSTFrame = pd.DataFrame({\n",
    "    'Random Forest': cvRandomForestST_result[\"Recall\"],\n",
    "    'SVM': cvsvmST_result[\"Recall\"],\n",
    "    'Logistic Regression': cvLRCST_result['Recall'],\n",
    "    'K Neighbors': cvKNST_result['Recall']\n",
    "},index=[0])\n",
    "\n",
    "recallSTFrame.plot(kind='bar')\n",
    "plt.axhline(0, color='k')\n",
    "plt.legend(loc='center left', bbox_to_anchor=(1.0, 0.5))\n",
    "plt.suptitle('Recall of Classifiers with Stops and Turns')"
   ]
  },
  {
   "cell_type": "code",
   "execution_count": 38,
   "metadata": {},
   "outputs": [
    {
     "data": {
      "text/plain": [
       "Text(0.5, 0.98, 'F1 of Classifiers with Stops and Turns')"
      ]
     },
     "execution_count": 38,
     "metadata": {},
     "output_type": "execute_result"
    },
    {
     "data": {
      "image/png": "[encoded data removed]",
      "text/plain": [
       "<Figure size 432x288 with 1 Axes>"
      ]
     },
     "metadata": {
      "needs_background": "light"
     },
     "output_type": "display_data"
    }
   ],
   "source": [
    "f1STFrame = pd.DataFrame({\n",
    "    'Random Forest': cvRandomForestST_result[\"F1 Score\"],\n",
    "    'SVM': cvsvmST_result[\"F1 Score\"],\n",
    "    'Logistic Regression': cvLRCST_result['F1 Score'],\n",
    "    'K Neighbors': cvKNST_result['F1 Score']\n",
    "},index=[0])\n",
    "\n",
    "f1STFrame.plot(kind='bar')\n",
    "plt.axhline(0, color='k')\n",
    "plt.legend(loc='center left', bbox_to_anchor=(1.0, 0.5))\n",
    "plt.suptitle('F1 of Classifiers with Stops and Turns')"
   ]
  },
  {
   "cell_type": "markdown",
   "metadata": {},
   "source": [
    "## Playing With Hyperparameters and Stops and Turns"
   ]
  },
  {
   "cell_type": "code",
   "execution_count": 39,
   "metadata": {},
   "outputs": [
    {
     "name": "stdout",
     "output_type": "stream",
     "text": [
      "Accuracy Score : 0.84\n",
      "Precision Score : 0.8657\n",
      "Recall Score : 0.5979\n",
      "F1 Score : 0.7073\n",
      "AUC Score : 0.9007\n",
      "OOB Error : 0.15\n"
     ]
    },
    {
     "data": {
      "text/html": [
       "<div>\n",
       "<style scoped>\n",
       "    .dataframe tbody tr th:only-of-type {\n",
       "        vertical-align: middle;\n",
       "    }\n",
       "\n",
       "    .dataframe tbody tr th {\n",
       "        vertical-align: top;\n",
       "    }\n",
       "\n",
       "    .dataframe thead th {\n",
       "        text-align: right;\n",
       "    }\n",
       "</style>\n",
       "<table border=\"1\" class=\"dataframe\">\n",
       "  <thead>\n",
       "    <tr style=\"text-align: right;\">\n",
       "      <th></th>\n",
       "      <th>Model</th>\n",
       "      <th>Accuracy</th>\n",
       "      <th>Precision</th>\n",
       "      <th>Recall</th>\n",
       "      <th>F1 Score</th>\n",
       "      <th>ROC AUC</th>\n",
       "      <th>OOB Error</th>\n",
       "    </tr>\n",
       "  </thead>\n",
       "  <tbody>\n",
       "    <tr>\n",
       "      <th>0</th>\n",
       "      <td>RandomForestClassifierStopsTurnsTuned</td>\n",
       "      <td>0.845</td>\n",
       "      <td>0.8227</td>\n",
       "      <td>0.6439</td>\n",
       "      <td>0.7195</td>\n",
       "      <td>0.79</td>\n",
       "      <td>0.158</td>\n",
       "    </tr>\n",
       "  </tbody>\n",
       "</table>\n",
       "</div>"
      ],
      "text/plain": [
       "                                   Model  Accuracy  Precision  Recall  \\\n",
       "0  RandomForestClassifierStopsTurnsTuned     0.845     0.8227  0.6439   \n",
       "\n",
       "   F1 Score  ROC AUC  OOB Error  \n",
       "0    0.7195     0.79      0.158  "
      ]
     },
     "execution_count": 39,
     "metadata": {},
     "output_type": "execute_result"
    }
   ],
   "source": [
    "parameters = {'min_samples_split': [2, 3, 4, 5, 6]}\n",
    "clf = GridSearchCV(RandomForestClassifier(oob_score=True),parameters)\n",
    "clf.fit(XwithStopsandTurnst, ywithStopsandTurnst)\n",
    "best_params = clf.best_params_\n",
    "\n",
    "best_RandomForestST_Tuned = RandomForestClassifier(min_samples_split=best_params['min_samples_split'], oob_score=True)\n",
    "best_RandomForestST_Tuned.fit(XwithStopsandTurnst, ywithStopsandTurnst)\n",
    "\n",
    "best_RandomForestST_TunedPred = best_RandomForestST_Tuned.predict(XwithStopsandTurnsv)\n",
    "printScoresInSampleRun(ywithStopsandTurnsv, best_RandomForestST_TunedPred, best_RandomForestST_Tuned, XwithStopsandTurnsv)\n",
    "print('OOB Error :', np.round(1 - best_RandomForestST_Tuned.oob_score_, 4))\n",
    "\n",
    "cvRandomForestST_Tuned = cross_validate(best_RandomForestST_Tuned, XwithStopsandTurns, y, scoring=scoringRandomForest, cv=fold)\n",
    "cvRandomForestST_Tuned_result = pd.DataFrame({\n",
    "    'Model': 'RandomForestClassifierStopsTurnsTuned',\n",
    "    'Accuracy': np.round(cvRandomForestST_Tuned['test_accuracy'].mean(), 4),\n",
    "    'Precision': np.round(cvRandomForestST_Tuned['test_precision'].mean(), 4),\n",
    "    'Recall': np.round(cvRandomForestST_Tuned['test_recall'].mean(), 4),\n",
    "    'F1 Score': np.round(cvRandomForestST_Tuned['test_f1 score'].mean(), 4),\n",
    "    'ROC AUC': np.round(cvRandomForestST_Tuned['test_roc auc'].mean(), 4),\n",
    "        'OOB Error': np.round(cvRandomForestST_Tuned['test_oob'].mean(), 4)\n",
    "},index=[0])\n",
    "cvRandomForestST_Tuned_result"
   ]
  },
  {
   "cell_type": "code",
   "execution_count": 40,
   "metadata": {},
   "outputs": [
    {
     "name": "stdout",
     "output_type": "stream",
     "text": [
      "Accuracy Score : 0.86\n",
      "Precision Score : 0.7957\n",
      "Recall Score : 0.7629\n",
      "F1 Score : 0.7789\n",
      "AUC Score : 0.9298\n"
     ]
    },
    {
     "data": {
      "text/html": [
       "<div>\n",
       "<style scoped>\n",
       "    .dataframe tbody tr th:only-of-type {\n",
       "        vertical-align: middle;\n",
       "    }\n",
       "\n",
       "    .dataframe tbody tr th {\n",
       "        vertical-align: top;\n",
       "    }\n",
       "\n",
       "    .dataframe thead th {\n",
       "        text-align: right;\n",
       "    }\n",
       "</style>\n",
       "<table border=\"1\" class=\"dataframe\">\n",
       "  <thead>\n",
       "    <tr style=\"text-align: right;\">\n",
       "      <th></th>\n",
       "      <th>Model</th>\n",
       "      <th>Accuracy</th>\n",
       "      <th>Precision</th>\n",
       "      <th>Recall</th>\n",
       "      <th>F1 Score</th>\n",
       "      <th>ROC AUC</th>\n",
       "    </tr>\n",
       "  </thead>\n",
       "  <tbody>\n",
       "    <tr>\n",
       "      <th>0</th>\n",
       "      <td>SVMStopsTurnsTuned</td>\n",
       "      <td>0.865</td>\n",
       "      <td>0.7931</td>\n",
       "      <td>0.769</td>\n",
       "      <td>0.7789</td>\n",
       "      <td>0.8389</td>\n",
       "    </tr>\n",
       "  </tbody>\n",
       "</table>\n",
       "</div>"
      ],
      "text/plain": [
       "                Model  Accuracy  Precision  Recall  F1 Score  ROC AUC\n",
       "0  SVMStopsTurnsTuned     0.865     0.7931   0.769    0.7789   0.8389"
      ]
     },
     "execution_count": 40,
     "metadata": {},
     "output_type": "execute_result"
    }
   ],
   "source": [
    "parameters = {'kernel':('linear', 'rbf'), 'C': [0.1, 1, 100, 1000], 'gamma': [0.0001, 0.001, 0.005, 0.1, 1, 3, 5]}\n",
    "clf = GridSearchCV(svm.SVC(probability = True), parameters)\n",
    "clf.fit(XwithStopsandTurnst, ywithStopsandTurnst)\n",
    "best_params = clf.best_params_\n",
    "\n",
    "best_svmST_Tuned = svm.SVC(kernel=best_params['kernel'], C=best_params[\"C\"],gamma=best_params[\"gamma\"], probability = True)\n",
    "best_svmST_Tuned.fit(XwithStopsandTurnst, ywithStopsandTurnst)\n",
    "\n",
    "best_svmSTPred_Tuned = best_svmST_Tuned.predict(XwithStopsandTurnsv)\n",
    "\n",
    "printScoresInSampleRun(ywithStopsandTurnsv, best_svmSTPred_Tuned, best_svmST_Tuned, XwithStopsandTurnsv)\n",
    "\n",
    "cvSVMSTTuning = cross_validate(best_svmST_Tuned, XwithStopsandTurns, y, scoring=scoring2, cv=fold)\n",
    "cvSVMST_resultTuned = pd.DataFrame({\n",
    "    'Model': 'SVMStopsTurnsTuned',\n",
    "    'Accuracy': np.round(cvSVMSTTuning['test_accuracy'].mean(), 4),\n",
    "    'Precision': np.round(cvSVMSTTuning['test_precision'].mean(), 4),\n",
    "    'Recall': np.round(cvSVMSTTuning['test_recall'].mean(), 4),\n",
    "    'F1 Score': np.round(cvSVMSTTuning['test_f1 score'].mean(), 4),\n",
    "    'ROC AUC': np.round(cvSVMSTTuning['test_roc auc'].mean(), 4)\n",
    "},index=[0])\n",
    "cvSVMST_resultTuned"
   ]
  },
  {
   "cell_type": "code",
   "execution_count": 41,
   "metadata": {},
   "outputs": [
    {
     "name": "stdout",
     "output_type": "stream",
     "text": [
      "Accuracy Score : 0.85\n",
      "Precision Score : 0.7708\n",
      "Recall Score : 0.7629\n",
      "F1 Score : 0.7668\n",
      "AUC Score : 0.9164\n"
     ]
    },
    {
     "data": {
      "text/html": [
       "<div>\n",
       "<style scoped>\n",
       "    .dataframe tbody tr th:only-of-type {\n",
       "        vertical-align: middle;\n",
       "    }\n",
       "\n",
       "    .dataframe tbody tr th {\n",
       "        vertical-align: top;\n",
       "    }\n",
       "\n",
       "    .dataframe thead th {\n",
       "        text-align: right;\n",
       "    }\n",
       "</style>\n",
       "<table border=\"1\" class=\"dataframe\">\n",
       "  <thead>\n",
       "    <tr style=\"text-align: right;\">\n",
       "      <th></th>\n",
       "      <th>Model</th>\n",
       "      <th>Accuracy</th>\n",
       "      <th>Precision</th>\n",
       "      <th>Recall</th>\n",
       "      <th>F1 Score</th>\n",
       "      <th>ROC AUC</th>\n",
       "    </tr>\n",
       "  </thead>\n",
       "  <tbody>\n",
       "    <tr>\n",
       "      <th>0</th>\n",
       "      <td>LogisticRegressionStopsTurnsTuned</td>\n",
       "      <td>0.853</td>\n",
       "      <td>0.7752</td>\n",
       "      <td>0.7559</td>\n",
       "      <td>0.7608</td>\n",
       "      <td>0.8265</td>\n",
       "    </tr>\n",
       "  </tbody>\n",
       "</table>\n",
       "</div>"
      ],
      "text/plain": [
       "                               Model  Accuracy  Precision  Recall  F1 Score  \\\n",
       "0  LogisticRegressionStopsTurnsTuned     0.853     0.7752  0.7559    0.7608   \n",
       "\n",
       "   ROC AUC  \n",
       "0   0.8265  "
      ]
     },
     "execution_count": 41,
     "metadata": {},
     "output_type": "execute_result"
    }
   ],
   "source": [
    "parameters = {'C': [0.1, 1, 100, 1000], 'solver': ['newton-cg', 'lbfgs', 'liblinear', 'sag', 'saga']}\n",
    "logisticRegressionClassifierST = GridSearchCV(LogisticRegression(max_iter = 10000), parameters)\n",
    "logisticRegressionClassifierST.fit(XwithStopsandTurnst,ywithStopsandTurnst)\n",
    "best_params = logisticRegressionClassifierST.best_params_\n",
    "\n",
    "best_lrcST_Tuned = LogisticRegression(C = best_params['C'], solver = best_params['solver'], max_iter = 10000)\n",
    "best_lrcST_Tuned.fit(XwithStopsandTurnst, ywithStopsandTurnst)\n",
    "\n",
    "best_lrcST_TunedPred = best_lrcST_Tuned.predict(XwithStopsandTurnsv)\n",
    "printScoresInSampleRun(ywithStopsandTurnsv, best_lrcST_TunedPred, best_lrcST_Tuned, XwithStopsandTurnsv)\n",
    "\n",
    "cvLRCST = cross_validate(best_lrcST_Tuned, XwithStopsandTurns, y, scoring=scoring2, cv=fold)\n",
    "cvLRCST_resultTuned = pd.DataFrame({\n",
    "    'Model': 'LogisticRegressionStopsTurnsTuned',\n",
    "    'Accuracy': np.round(cvLRCST['test_accuracy'].mean(), 4),\n",
    "    'Precision': np.round(cvLRCST['test_precision'].mean(), 4),\n",
    "    'Recall': np.round(cvLRCST['test_recall'].mean(), 4),\n",
    "    'F1 Score': np.round(cvLRCST['test_f1 score'].mean(), 4),\n",
    "    'ROC AUC': np.round(cvLRCST['test_roc auc'].mean(), 4)\n",
    "},index=[0])\n",
    "cvLRCST_resultTuned"
   ]
  },
  {
   "cell_type": "markdown",
   "metadata": {},
   "source": [
    "It sacrificed a little accuracy to boost the recall, F1 Score and AUC"
   ]
  },
  {
   "cell_type": "code",
   "execution_count": 42,
   "metadata": {},
   "outputs": [
    {
     "name": "stdout",
     "output_type": "stream",
     "text": [
      "Accuracy Score : 0.8067\n",
      "Precision Score : 0.8421\n",
      "Recall Score : 0.4948\n",
      "F1 Score : 0.6234\n",
      "AUC Score : 0.8669\n"
     ]
    },
    {
     "data": {
      "text/html": [
       "<div>\n",
       "<style scoped>\n",
       "    .dataframe tbody tr th:only-of-type {\n",
       "        vertical-align: middle;\n",
       "    }\n",
       "\n",
       "    .dataframe tbody tr th {\n",
       "        vertical-align: top;\n",
       "    }\n",
       "\n",
       "    .dataframe thead th {\n",
       "        text-align: right;\n",
       "    }\n",
       "</style>\n",
       "<table border=\"1\" class=\"dataframe\">\n",
       "  <thead>\n",
       "    <tr style=\"text-align: right;\">\n",
       "      <th></th>\n",
       "      <th>Model</th>\n",
       "      <th>Accuracy</th>\n",
       "      <th>Precision</th>\n",
       "      <th>Recall</th>\n",
       "      <th>F1 Score</th>\n",
       "      <th>ROC AUC</th>\n",
       "    </tr>\n",
       "  </thead>\n",
       "  <tbody>\n",
       "    <tr>\n",
       "      <th>0</th>\n",
       "      <td>K-NeighborsStopsTurnsTuned</td>\n",
       "      <td>0.798</td>\n",
       "      <td>0.7889</td>\n",
       "      <td>0.4911</td>\n",
       "      <td>0.6012</td>\n",
       "      <td>0.7144</td>\n",
       "    </tr>\n",
       "  </tbody>\n",
       "</table>\n",
       "</div>"
      ],
      "text/plain": [
       "                        Model  Accuracy  Precision  Recall  F1 Score  ROC AUC\n",
       "0  K-NeighborsStopsTurnsTuned     0.798     0.7889  0.4911    0.6012   0.7144"
      ]
     },
     "execution_count": 42,
     "metadata": {},
     "output_type": "execute_result"
    }
   ],
   "source": [
    "parameters = {'n_neighbors': [1, 2, 3, 4, 5, 10, 15], 'algorithm': ['auto', 'ball_tree', 'kd_tree', 'brute']}\n",
    "kNeighborsClassifierClassifierST = GridSearchCV(KNeighborsClassifier(), parameters)\n",
    "kNeighborsClassifierClassifierST.fit(XwithStopsandTurnst, ywithStopsandTurnst)\n",
    "KNeighborsClassifierSTPredictions = kNeighborsClassifierClassifierST.predict(XwithStopsandTurnsv)\n",
    "best_params = kNeighborsClassifierClassifierST.best_params_\n",
    "\n",
    "best_kNST_Tuned = KNeighborsClassifier(n_neighbors = best_params['n_neighbors'], algorithm = best_params['algorithm'])\n",
    "best_kNST_Tuned.fit(XwithStopsandTurnst, ywithStopsandTurnst)\n",
    "\n",
    "best_kNST_TunedPred = best_kNST_Tuned.predict(XwithStopsandTurnsv)\n",
    "printScoresInSampleRun(ywithStopsandTurnsv, best_kNST_TunedPred, best_kNST_Tuned, XwithStopsandTurnsv)\n",
    "\n",
    "cvkNST = cross_validate(best_kNST_Tuned, XwithStopsandTurns, y, scoring=scoring2, cv=fold)\n",
    "cvkNST_resultTuned = pd.DataFrame({\n",
    "    'Model': 'K-NeighborsStopsTurnsTuned',\n",
    "    'Accuracy': np.round(cvkNST['test_accuracy'].mean(), 4),\n",
    "    'Precision': np.round(cvkNST['test_precision'].mean(), 4),\n",
    "    'Recall': np.round(cvkNST['test_recall'].mean(), 4),\n",
    "    'F1 Score': np.round(cvkNST['test_f1 score'].mean(), 4),\n",
    "    'ROC AUC': np.round(cvkNST['test_roc auc'].mean(), 4)\n",
    "},index=[0])\n",
    "cvkNST_resultTuned"
   ]
  },
  {
   "cell_type": "code",
   "execution_count": 43,
   "metadata": {},
   "outputs": [
    {
     "data": {
      "text/plain": [
       "Text(0.5, 0.98, 'Accuracies of Classifiers Tuned with Stops and Turns')"
      ]
     },
     "execution_count": 43,
     "metadata": {},
     "output_type": "execute_result"
    },
    {
     "data": {
      "image/png": "[encoded data removed]",
      "text/plain": [
       "<Figure size 432x288 with 1 Axes>"
      ]
     },
     "metadata": {
      "needs_background": "light"
     },
     "output_type": "display_data"
    }
   ],
   "source": [
    "accuracyStopsTurnsTunedFrame = pd.DataFrame({\n",
    "    'Random Forest': cvRandomForestST_Tuned_result[\"Accuracy\"],\n",
    "    'SVM': cvSVMST_resultTuned[\"Accuracy\"],\n",
    "    'Logistic Regression': cvLRCST_resultTuned['Accuracy'],\n",
    "    'K Neighbors': cvkNST_resultTuned['Accuracy']\n",
    "},index=[0])\n",
    "\n",
    "accuracyStopsTurnsTunedFrame.plot(kind='bar')\n",
    "plt.axhline(0, color='k')\n",
    "plt.legend(loc='center left', bbox_to_anchor=(1.0, 0.5))\n",
    "plt.suptitle('Accuracies of Classifiers Tuned with Stops and Turns')"
   ]
  },
  {
   "cell_type": "code",
   "execution_count": 44,
   "metadata": {},
   "outputs": [
    {
     "data": {
      "text/plain": [
       "Text(0.5, 0.98, 'Precision of Classifiers Tuned with Stops and Turns')"
      ]
     },
     "execution_count": 44,
     "metadata": {},
     "output_type": "execute_result"
    },
    {
     "data": {
      "image/png": "[encoded data removed]",
      "text/plain": [
       "<Figure size 432x288 with 1 Axes>"
      ]
     },
     "metadata": {
      "needs_background": "light"
     },
     "output_type": "display_data"
    }
   ],
   "source": [
    "precisionStopsTurnsTunedFrame = pd.DataFrame({\n",
    "    'Random Forest': cvRandomForestST_Tuned_result[\"Precision\"],\n",
    "    'SVM': cvSVMST_resultTuned[\"Precision\"],\n",
    "    'Logistic Regression': cvLRCST_resultTuned['Precision'],\n",
    "    'K Neighbors': cvkNST_resultTuned['Precision']\n",
    "},index=[0])\n",
    "\n",
    "precisionStopsTurnsTunedFrame.plot(kind='bar')\n",
    "plt.axhline(0, color='k')\n",
    "plt.legend(loc='center left', bbox_to_anchor=(1.0, 0.5))\n",
    "plt.suptitle('Precision of Classifiers Tuned with Stops and Turns')"
   ]
  },
  {
   "cell_type": "code",
   "execution_count": 45,
   "metadata": {},
   "outputs": [
    {
     "data": {
      "text/plain": [
       "Text(0.5, 0.98, 'Recall of Classifiers Tuned with Stops and Turns')"
      ]
     },
     "execution_count": 45,
     "metadata": {},
     "output_type": "execute_result"
    },
    {
     "data": {
      "image/png": "[encoded data removed]",
      "text/plain": [
       "<Figure size 432x288 with 1 Axes>"
      ]
     },
     "metadata": {
      "needs_background": "light"
     },
     "output_type": "display_data"
    }
   ],
   "source": [
    "recallStopsTurnsTunedFrame = pd.DataFrame({\n",
    "    'Random Forest': cvRandomForestST_Tuned_result[\"Recall\"],\n",
    "    'SVM': cvSVMST_resultTuned[\"Recall\"],\n",
    "    'Logistic Regression': cvLRCST_resultTuned['Recall'],\n",
    "    'K Neighbors': cvkNST_resultTuned['Recall']\n",
    "},index=[0])\n",
    "\n",
    "recallStopsTurnsTunedFrame.plot(kind='bar')\n",
    "plt.axhline(0, color='k')\n",
    "plt.legend(loc='center left', bbox_to_anchor=(1.0, 0.5))\n",
    "plt.suptitle('Recall of Classifiers Tuned with Stops and Turns')"
   ]
  },
  {
   "cell_type": "code",
   "execution_count": 46,
   "metadata": {},
   "outputs": [
    {
     "data": {
      "text/plain": [
       "Text(0.5, 0.98, 'F1 Score of Classifiers Tuned with Stops and Turns')"
      ]
     },
     "execution_count": 46,
     "metadata": {},
     "output_type": "execute_result"
    },
    {
     "data": {
      "image/png": "[encoded data removed]",
      "text/plain": [
       "<Figure size 432x288 with 1 Axes>"
      ]
     },
     "metadata": {
      "needs_background": "light"
     },
     "output_type": "display_data"
    }
   ],
   "source": [
    "f1StopsTurnsTunedFrame = pd.DataFrame({\n",
    "    'Random Forest': cvRandomForestST_Tuned_result[\"F1 Score\"],\n",
    "    'SVM': cvSVMST_resultTuned[\"F1 Score\"],\n",
    "    'Logistic Regression': cvLRCST_resultTuned['F1 Score'],\n",
    "    'K Neighbors': cvkNST_resultTuned['F1 Score']\n",
    "},index=[0])\n",
    "\n",
    "recallStopsTurnsTunedFrame.plot(kind='bar')\n",
    "plt.axhline(0, color='k')\n",
    "plt.legend(loc='center left', bbox_to_anchor=(1.0, 0.5))\n",
    "plt.suptitle('F1 Score of Classifiers Tuned with Stops and Turns')"
   ]
  },
  {
   "cell_type": "markdown",
   "metadata": {},
   "source": [
    "## Playing around with Stops"
   ]
  },
  {
   "cell_type": "code",
   "execution_count": 47,
   "metadata": {},
   "outputs": [],
   "source": [
    "XwithStopst, XwithStopsv, ywithStopst, ywithStopsv = train_test_split(XwithStops, y, test_size=0.3)"
   ]
  },
  {
   "cell_type": "code",
   "execution_count": 48,
   "metadata": {},
   "outputs": [
    {
     "name": "stdout",
     "output_type": "stream",
     "text": [
      "Accuracy Score : 0.8267\n",
      "Precision Score : 0.8209\n",
      "Recall Score : 0.5789\n",
      "F1 Score : 0.679\n",
      "AUC Score : 0.8959\n",
      "OOB Error : 0.16\n"
     ]
    },
    {
     "data": {
      "text/html": [
       "<div>\n",
       "<style scoped>\n",
       "    .dataframe tbody tr th:only-of-type {\n",
       "        vertical-align: middle;\n",
       "    }\n",
       "\n",
       "    .dataframe tbody tr th {\n",
       "        vertical-align: top;\n",
       "    }\n",
       "\n",
       "    .dataframe thead th {\n",
       "        text-align: right;\n",
       "    }\n",
       "</style>\n",
       "<table border=\"1\" class=\"dataframe\">\n",
       "  <thead>\n",
       "    <tr style=\"text-align: right;\">\n",
       "      <th></th>\n",
       "      <th>Model</th>\n",
       "      <th>Accuracy</th>\n",
       "      <th>Precision</th>\n",
       "      <th>Recall</th>\n",
       "      <th>F1 Score</th>\n",
       "      <th>ROC AUC</th>\n",
       "      <th>OOB Error</th>\n",
       "    </tr>\n",
       "  </thead>\n",
       "  <tbody>\n",
       "    <tr>\n",
       "      <th>0</th>\n",
       "      <td>RandomForestClassifierStops</td>\n",
       "      <td>0.85</td>\n",
       "      <td>0.8438</td>\n",
       "      <td>0.6378</td>\n",
       "      <td>0.7228</td>\n",
       "      <td>0.7921</td>\n",
       "      <td>0.1695</td>\n",
       "    </tr>\n",
       "  </tbody>\n",
       "</table>\n",
       "</div>"
      ],
      "text/plain": [
       "                         Model  Accuracy  Precision  Recall  F1 Score  \\\n",
       "0  RandomForestClassifierStops      0.85     0.8438  0.6378    0.7228   \n",
       "\n",
       "   ROC AUC  OOB Error  \n",
       "0   0.7921     0.1695  "
      ]
     },
     "execution_count": 48,
     "metadata": {},
     "output_type": "execute_result"
    }
   ],
   "source": [
    "randomForestClassifierS = RandomForestClassifier(oob_score=True)\n",
    "randomForestClassifierS.fit(XwithStopst, ywithStopst)\n",
    "randomForestClassifierSPred = randomForestClassifierS.predict(XwithStopsv)\n",
    "\n",
    "printScoresInSampleRun(ywithStopsv, randomForestClassifierSPred, randomForestClassifierS, XwithStopsv)\n",
    "print('OOB Error :', np.round(1 - randomForestClassifierS.oob_score_, 4))\n",
    "\n",
    "cvRandomForestS = cross_validate(RandomForestClassifier(oob_score=True), XwithStops, y, scoring=scoringRandomForest, cv=fold)\n",
    "cvRandomForestS_result = pd.DataFrame({\n",
    "    'Model': 'RandomForestClassifierStops',\n",
    "    'Accuracy': np.round(cvRandomForestS['test_accuracy'].mean(), 4),\n",
    "    'Precision': np.round(cvRandomForestS['test_precision'].mean(), 4),\n",
    "    'Recall': np.round(cvRandomForestS['test_recall'].mean(), 4),\n",
    "    'F1 Score': np.round(cvRandomForestS['test_f1 score'].mean(), 4),\n",
    "    'ROC AUC': np.round(cvRandomForestS['test_roc auc'].mean(), 4),\n",
    "    'OOB Error': np.round(cvRandomForestS['test_oob'].mean(), 4)\n",
    "},index=[0])\n",
    "cvRandomForestS_result"
   ]
  },
  {
   "cell_type": "code",
   "execution_count": 49,
   "metadata": {},
   "outputs": [
    {
     "name": "stdout",
     "output_type": "stream",
     "text": [
      "Accuracy Score : 0.85\n",
      "Precision Score : 0.8125\n",
      "Recall Score : 0.6842\n",
      "F1 Score : 0.7429\n",
      "AUC Score : 0.9255\n"
     ]
    },
    {
     "data": {
      "text/html": [
       "<div>\n",
       "<style scoped>\n",
       "    .dataframe tbody tr th:only-of-type {\n",
       "        vertical-align: middle;\n",
       "    }\n",
       "\n",
       "    .dataframe tbody tr th {\n",
       "        vertical-align: top;\n",
       "    }\n",
       "\n",
       "    .dataframe thead th {\n",
       "        text-align: right;\n",
       "    }\n",
       "</style>\n",
       "<table border=\"1\" class=\"dataframe\">\n",
       "  <thead>\n",
       "    <tr style=\"text-align: right;\">\n",
       "      <th></th>\n",
       "      <th>Model</th>\n",
       "      <th>Accuracy</th>\n",
       "      <th>Precision</th>\n",
       "      <th>Recall</th>\n",
       "      <th>F1 Score</th>\n",
       "      <th>ROC AUC</th>\n",
       "    </tr>\n",
       "  </thead>\n",
       "  <tbody>\n",
       "    <tr>\n",
       "      <th>0</th>\n",
       "      <td>SVCStops</td>\n",
       "      <td>0.851</td>\n",
       "      <td>0.7978</td>\n",
       "      <td>0.7083</td>\n",
       "      <td>0.7461</td>\n",
       "      <td>0.812</td>\n",
       "    </tr>\n",
       "  </tbody>\n",
       "</table>\n",
       "</div>"
      ],
      "text/plain": [
       "      Model  Accuracy  Precision  Recall  F1 Score  ROC AUC\n",
       "0  SVCStops     0.851     0.7978  0.7083    0.7461    0.812"
      ]
     },
     "execution_count": 49,
     "metadata": {},
     "output_type": "execute_result"
    }
   ],
   "source": [
    "svmClassifierS = svm.SVC(probability=True)\n",
    "svmClassifierS.fit(XwithStopst, ywithStopst)\n",
    "svmClassifierSPred = svmClassifierS.predict(XwithStopsv)\n",
    "\n",
    "printScoresInSampleRun(ywithStopsv, svmClassifierSPred, svmClassifierS, XwithStopsv)\n",
    "\n",
    "cvsvmS = cross_validate(svm.SVC(), XwithStops, y, scoring=scoring2, cv=fold)\n",
    "cvsvmS_results = pd.DataFrame({\n",
    "    'Model': 'SVCStops',\n",
    "    'Accuracy': np.round(cvsvmS['test_accuracy'].mean(), 4),\n",
    "    'Precision': np.round(cvsvmS['test_precision'].mean(), 4),\n",
    "    'Recall': np.round(cvsvmS['test_recall'].mean(), 4),\n",
    "    'F1 Score': np.round(cvsvmS['test_f1 score'].mean(), 4),\n",
    "    'ROC AUC': np.round(cvsvmS['test_roc auc'].mean(), 4)\n",
    "},index=[0])\n",
    "cvsvmS_results"
   ]
  },
  {
   "cell_type": "code",
   "execution_count": 50,
   "metadata": {},
   "outputs": [
    {
     "name": "stdout",
     "output_type": "stream",
     "text": [
      "Accuracy Score : 0.8533\n",
      "Precision Score : 0.8806\n",
      "Recall Score : 0.6211\n",
      "F1 Score : 0.7284\n",
      "AUC Score : 0.9288\n"
     ]
    },
    {
     "data": {
      "text/html": [
       "<div>\n",
       "<style scoped>\n",
       "    .dataframe tbody tr th:only-of-type {\n",
       "        vertical-align: middle;\n",
       "    }\n",
       "\n",
       "    .dataframe tbody tr th {\n",
       "        vertical-align: top;\n",
       "    }\n",
       "\n",
       "    .dataframe thead th {\n",
       "        text-align: right;\n",
       "    }\n",
       "</style>\n",
       "<table border=\"1\" class=\"dataframe\">\n",
       "  <thead>\n",
       "    <tr style=\"text-align: right;\">\n",
       "      <th></th>\n",
       "      <th>Model</th>\n",
       "      <th>Accuracy</th>\n",
       "      <th>Precision</th>\n",
       "      <th>Recall</th>\n",
       "      <th>F1 Score</th>\n",
       "      <th>ROC AUC</th>\n",
       "    </tr>\n",
       "  </thead>\n",
       "  <tbody>\n",
       "    <tr>\n",
       "      <th>0</th>\n",
       "      <td>LogisticRegressionStopsTurns</td>\n",
       "      <td>0.857</td>\n",
       "      <td>0.8619</td>\n",
       "      <td>0.6532</td>\n",
       "      <td>0.7373</td>\n",
       "      <td>0.8013</td>\n",
       "    </tr>\n",
       "  </tbody>\n",
       "</table>\n",
       "</div>"
      ],
      "text/plain": [
       "                          Model  Accuracy  Precision  Recall  F1 Score  \\\n",
       "0  LogisticRegressionStopsTurns     0.857     0.8619  0.6532    0.7373   \n",
       "\n",
       "   ROC AUC  \n",
       "0   0.8013  "
      ]
     },
     "execution_count": 50,
     "metadata": {},
     "output_type": "execute_result"
    }
   ],
   "source": [
    "logisticRegressionClassifierS = LogisticRegression()\n",
    "logisticRegressionClassifierS.fit(XwithStopst, ywithStopst)\n",
    "logisticRegressionClassifierSPred = logisticRegressionClassifierS.predict(XwithStopsv)\n",
    "\n",
    "printScoresInSampleRun(ywithStopsv, logisticRegressionClassifierSPred, logisticRegressionClassifierS, XwithStopsv)\n",
    "\n",
    "cvLRCS = cross_validate(LogisticRegression(), XwithStops, y, scoring=scoring2, cv=fold)\n",
    "cvLRCS_result = pd.DataFrame({\n",
    "    'Model': 'LogisticRegressionStopsTurns',\n",
    "    'Accuracy': np.round(cvLRCS['test_accuracy'].mean(), 4),\n",
    "    'Precision': np.round(cvLRCS['test_precision'].mean(), 4),\n",
    "    'Recall': np.round(cvLRCS['test_recall'].mean(), 4),\n",
    "    'F1 Score': np.round(cvLRCS['test_f1 score'].mean(), 4),\n",
    "    'ROC AUC': np.round(cvLRCS['test_roc auc'].mean(), 4)\n",
    "},index=[0])\n",
    "cvLRCS_result"
   ]
  },
  {
   "cell_type": "code",
   "execution_count": 51,
   "metadata": {},
   "outputs": [
    {
     "name": "stdout",
     "output_type": "stream",
     "text": [
      "Accuracy Score : 0.7833\n",
      "Precision Score : 0.6923\n",
      "Recall Score : 0.5684\n",
      "F1 Score : 0.6243\n",
      "AUC Score : 0.8447\n"
     ]
    },
    {
     "data": {
      "text/html": [
       "<div>\n",
       "<style scoped>\n",
       "    .dataframe tbody tr th:only-of-type {\n",
       "        vertical-align: middle;\n",
       "    }\n",
       "\n",
       "    .dataframe tbody tr th {\n",
       "        vertical-align: top;\n",
       "    }\n",
       "\n",
       "    .dataframe thead th {\n",
       "        text-align: right;\n",
       "    }\n",
       "</style>\n",
       "<table border=\"1\" class=\"dataframe\">\n",
       "  <thead>\n",
       "    <tr style=\"text-align: right;\">\n",
       "      <th></th>\n",
       "      <th>Model</th>\n",
       "      <th>Accuracy</th>\n",
       "      <th>Precision</th>\n",
       "      <th>Recall</th>\n",
       "      <th>F1 Score</th>\n",
       "      <th>ROC AUC</th>\n",
       "    </tr>\n",
       "  </thead>\n",
       "  <tbody>\n",
       "    <tr>\n",
       "      <th>0</th>\n",
       "      <td>KNeighborsStops</td>\n",
       "      <td>0.798</td>\n",
       "      <td>0.7128</td>\n",
       "      <td>0.5899</td>\n",
       "      <td>0.6428</td>\n",
       "      <td>0.7414</td>\n",
       "    </tr>\n",
       "  </tbody>\n",
       "</table>\n",
       "</div>"
      ],
      "text/plain": [
       "             Model  Accuracy  Precision  Recall  F1 Score  ROC AUC\n",
       "0  KNeighborsStops     0.798     0.7128  0.5899    0.6428   0.7414"
      ]
     },
     "execution_count": 51,
     "metadata": {},
     "output_type": "execute_result"
    }
   ],
   "source": [
    "kNeighborsClassifierS = KNeighborsClassifier()\n",
    "kNeighborsClassifierS.fit(XwithStopst, ywithStopst)\n",
    "kNeighborsClassifierSPred = kNeighborsClassifierS.predict(XwithStopsv)\n",
    "\n",
    "printScoresInSampleRun(ywithStopsv, kNeighborsClassifierSPred, kNeighborsClassifierS, XwithStopsv)\n",
    "\n",
    "cvKNS = cross_validate(KNeighborsClassifier(), XwithStops, y, scoring=scoring2, cv=fold)\n",
    "cvKNS_result = pd.DataFrame({\n",
    "    'Model': 'KNeighborsStops',\n",
    "    'Accuracy': np.round(cvKNS['test_accuracy'].mean(), 4),\n",
    "    'Precision': np.round(cvKNS['test_precision'].mean(), 4),\n",
    "    'Recall': np.round(cvKNS['test_recall'].mean(), 4),\n",
    "    'F1 Score': np.round(cvKNS['test_f1 score'].mean(), 4),\n",
    "    'ROC AUC': np.round(cvKNS['test_roc auc'].mean(), 4)\n",
    "},index=[0])\n",
    "cvKNS_result"
   ]
  },
  {
   "cell_type": "code",
   "execution_count": 52,
   "metadata": {},
   "outputs": [
    {
     "data": {
      "text/plain": [
       "Text(0.5, 0.98, 'Accuracy of Classifiers with Stops')"
      ]
     },
     "execution_count": 52,
     "metadata": {},
     "output_type": "execute_result"
    },
    {
     "data": {
      "image/png": "[encoded data removed]",
      "text/plain": [
       "<Figure size 432x288 with 1 Axes>"
      ]
     },
     "metadata": {
      "needs_background": "light"
     },
     "output_type": "display_data"
    }
   ],
   "source": [
    "accuracyStopsFrame = pd.DataFrame({\n",
    "    'Random Forest': cvRandomForestS_result[\"Accuracy\"],\n",
    "    'SVM': cvsvmS_results[\"Accuracy\"],\n",
    "    'Logistic Regression': cvLRCS_result['Accuracy'],\n",
    "    'K Neighbors': cvKNS_result['Accuracy']\n",
    "},index=[0])\n",
    "\n",
    "accuracyStopsFrame.plot(kind='bar')\n",
    "plt.axhline(0, color='k')\n",
    "plt.legend(loc='center left', bbox_to_anchor=(1.0, 0.5))\n",
    "plt.suptitle('Accuracy of Classifiers with Stops')"
   ]
  },
  {
   "cell_type": "code",
   "execution_count": 53,
   "metadata": {},
   "outputs": [
    {
     "data": {
      "text/plain": [
       "Text(0.5, 0.98, 'Precision of Classifiers with Stops')"
      ]
     },
     "execution_count": 53,
     "metadata": {},
     "output_type": "execute_result"
    },
    {
     "data": {
      "image/png": "[encoded data removed]",
      "text/plain": [
       "<Figure size 432x288 with 1 Axes>"
      ]
     },
     "metadata": {
      "needs_background": "light"
     },
     "output_type": "display_data"
    }
   ],
   "source": [
    "precisionStopsFrame = pd.DataFrame({\n",
    "    'Random Forest': cvRandomForestS_result[\"Precision\"],\n",
    "    'SVM': cvsvmS_results[\"Precision\"],\n",
    "    'Logistic Regression': cvLRCS_result['Precision'],\n",
    "    'K Neighbors': cvKNS_result['Precision']\n",
    "},index=[0])\n",
    "\n",
    "precisionStopsFrame.plot(kind='bar')\n",
    "plt.axhline(0, color='k')\n",
    "plt.legend(loc='center left', bbox_to_anchor=(1.0, 0.5))\n",
    "plt.suptitle('Precision of Classifiers with Stops')"
   ]
  },
  {
   "cell_type": "code",
   "execution_count": 54,
   "metadata": {},
   "outputs": [
    {
     "data": {
      "text/plain": [
       "Text(0.5, 0.98, 'Recall of Classifiers with Stops')"
      ]
     },
     "execution_count": 54,
     "metadata": {},
     "output_type": "execute_result"
    },
    {
     "data": {
      "image/png": "[encoded data removed]",
      "text/plain": [
       "<Figure size 432x288 with 1 Axes>"
      ]
     },
     "metadata": {
      "needs_background": "light"
     },
     "output_type": "display_data"
    }
   ],
   "source": [
    "recallStopsFrame = pd.DataFrame({\n",
    "    'Random Forest': cvRandomForestS_result[\"Recall\"],\n",
    "    'SVM': cvsvmS_results[\"Recall\"],\n",
    "    'Logistic Regression': cvLRCS_result['Recall'],\n",
    "    'K Neighbors': cvKNS_result['Recall']\n",
    "},index=[0])\n",
    "\n",
    "recallStopsFrame.plot(kind='bar')\n",
    "plt.axhline(0, color='k')\n",
    "plt.legend(loc='center left', bbox_to_anchor=(1.0, 0.5))\n",
    "plt.suptitle('Recall of Classifiers with Stops')"
   ]
  },
  {
   "cell_type": "code",
   "execution_count": 55,
   "metadata": {},
   "outputs": [
    {
     "data": {
      "text/plain": [
       "Text(0.5, 0.98, 'F1 of Classifiers with Stops')"
      ]
     },
     "execution_count": 55,
     "metadata": {},
     "output_type": "execute_result"
    },
    {
     "data": {
      "image/png": "[encoded data removed]",
      "text/plain": [
       "<Figure size 432x288 with 1 Axes>"
      ]
     },
     "metadata": {
      "needs_background": "light"
     },
     "output_type": "display_data"
    }
   ],
   "source": [
    "f1StopsFrame = pd.DataFrame({\n",
    "    'Random Forest': cvRandomForestS_result[\"F1 Score\"],\n",
    "    'SVM': cvsvmS_results[\"F1 Score\"],\n",
    "    'Logistic Regression': cvLRCS_result['F1 Score'],\n",
    "    'K Neighbors': cvKNS_result['F1 Score']\n",
    "},index=[0])\n",
    "\n",
    "f1StopsFrame.plot(kind='bar')\n",
    "plt.axhline(0, color='k')\n",
    "plt.legend(loc='center left', bbox_to_anchor=(1.0, 0.5))\n",
    "plt.suptitle('F1 of Classifiers with Stops')"
   ]
  },
  {
   "cell_type": "markdown",
   "metadata": {},
   "source": [
    "## Playing Around with HyperParameters and Stops"
   ]
  },
  {
   "cell_type": "code",
   "execution_count": 56,
   "metadata": {},
   "outputs": [
    {
     "name": "stdout",
     "output_type": "stream",
     "text": [
      "Accuracy Score : 0.82\n",
      "Precision Score : 0.8154\n",
      "Recall Score : 0.5579\n",
      "F1 Score : 0.6625\n",
      "AUC Score : 0.9039\n",
      "OOB Error : 0.1614\n"
     ]
    },
    {
     "data": {
      "text/html": [
       "<div>\n",
       "<style scoped>\n",
       "    .dataframe tbody tr th:only-of-type {\n",
       "        vertical-align: middle;\n",
       "    }\n",
       "\n",
       "    .dataframe tbody tr th {\n",
       "        vertical-align: top;\n",
       "    }\n",
       "\n",
       "    .dataframe thead th {\n",
       "        text-align: right;\n",
       "    }\n",
       "</style>\n",
       "<table border=\"1\" class=\"dataframe\">\n",
       "  <thead>\n",
       "    <tr style=\"text-align: right;\">\n",
       "      <th></th>\n",
       "      <th>Model</th>\n",
       "      <th>Accuracy</th>\n",
       "      <th>Precision</th>\n",
       "      <th>Recall</th>\n",
       "      <th>F1 Score</th>\n",
       "      <th>ROC AUC</th>\n",
       "      <th>OOB Error</th>\n",
       "    </tr>\n",
       "  </thead>\n",
       "  <tbody>\n",
       "    <tr>\n",
       "      <th>0</th>\n",
       "      <td>RandomForestClassifierStopsTuned</td>\n",
       "      <td>0.844</td>\n",
       "      <td>0.8288</td>\n",
       "      <td>0.6291</td>\n",
       "      <td>0.7122</td>\n",
       "      <td>0.7848</td>\n",
       "      <td>0.174</td>\n",
       "    </tr>\n",
       "  </tbody>\n",
       "</table>\n",
       "</div>"
      ],
      "text/plain": [
       "                              Model  Accuracy  Precision  Recall  F1 Score  \\\n",
       "0  RandomForestClassifierStopsTuned     0.844     0.8288  0.6291    0.7122   \n",
       "\n",
       "   ROC AUC  OOB Error  \n",
       "0   0.7848      0.174  "
      ]
     },
     "execution_count": 56,
     "metadata": {},
     "output_type": "execute_result"
    }
   ],
   "source": [
    "parameters = {'min_samples_split': [2, 3, 4, 5, 6]}\n",
    "clf = GridSearchCV(RandomForestClassifier(oob_score=True),parameters)\n",
    "clf.fit(XwithStopst, ywithStopst)\n",
    "best_params = clf.best_params_\n",
    "\n",
    "best_RandomForestS_Tuned = RandomForestClassifier(min_samples_split=best_params['min_samples_split'], oob_score=True)\n",
    "best_RandomForestS_Tuned.fit(XwithStopst, ywithStopst)\n",
    "\n",
    "best_RandomForestS_TunedPred = best_RandomForestS_Tuned.predict(XwithStopsv)\n",
    "\n",
    "printScoresInSampleRun(ywithStopsv, best_RandomForestS_TunedPred, best_RandomForestS_Tuned, XwithStopsv)\n",
    "print('OOB Error :', np.round(1 - best_RandomForestS_Tuned.oob_score_, 4))\n",
    "\n",
    "cvRandomForestS_Tuned = cross_validate(best_RandomForestST_Tuned, XwithStops, y, scoring=scoringRandomForest, cv=fold)\n",
    "cvRandomForestS_Tuned_result = pd.DataFrame({\n",
    "    'Model': 'RandomForestClassifierStopsTuned',\n",
    "    'Accuracy': np.round(cvRandomForestS_Tuned['test_accuracy'].mean(), 4),\n",
    "    'Precision': np.round(cvRandomForestS_Tuned['test_precision'].mean(), 4),\n",
    "    'Recall': np.round(cvRandomForestS_Tuned['test_recall'].mean(), 4),\n",
    "    'F1 Score': np.round(cvRandomForestS_Tuned['test_f1 score'].mean(), 4),\n",
    "    'ROC AUC': np.round(cvRandomForestS_Tuned['test_roc auc'].mean(), 4),\n",
    "        'OOB Error': np.round(cvRandomForestS_Tuned['test_oob'].mean(), 4)\n",
    "},index=[0])\n",
    "cvRandomForestS_Tuned_result"
   ]
  },
  {
   "cell_type": "code",
   "execution_count": 57,
   "metadata": {},
   "outputs": [
    {
     "name": "stdout",
     "output_type": "stream",
     "text": [
      "Accuracy Score : 0.8567\n",
      "Precision Score : 0.8095\n",
      "Recall Score : 0.7158\n",
      "F1 Score : 0.7598\n",
      "AUC Score : 0.9054\n"
     ]
    },
    {
     "data": {
      "text/html": [
       "<div>\n",
       "<style scoped>\n",
       "    .dataframe tbody tr th:only-of-type {\n",
       "        vertical-align: middle;\n",
       "    }\n",
       "\n",
       "    .dataframe tbody tr th {\n",
       "        vertical-align: top;\n",
       "    }\n",
       "\n",
       "    .dataframe thead th {\n",
       "        text-align: right;\n",
       "    }\n",
       "</style>\n",
       "<table border=\"1\" class=\"dataframe\">\n",
       "  <thead>\n",
       "    <tr style=\"text-align: right;\">\n",
       "      <th></th>\n",
       "      <th>Model</th>\n",
       "      <th>Accuracy</th>\n",
       "      <th>Precision</th>\n",
       "      <th>Recall</th>\n",
       "      <th>F1 Score</th>\n",
       "      <th>ROC AUC</th>\n",
       "    </tr>\n",
       "  </thead>\n",
       "  <tbody>\n",
       "    <tr>\n",
       "      <th>0</th>\n",
       "      <td>SVMStopsTuned</td>\n",
       "      <td>0.866</td>\n",
       "      <td>0.7889</td>\n",
       "      <td>0.7877</td>\n",
       "      <td>0.7837</td>\n",
       "      <td>0.8446</td>\n",
       "    </tr>\n",
       "  </tbody>\n",
       "</table>\n",
       "</div>"
      ],
      "text/plain": [
       "           Model  Accuracy  Precision  Recall  F1 Score  ROC AUC\n",
       "0  SVMStopsTuned     0.866     0.7889  0.7877    0.7837   0.8446"
      ]
     },
     "execution_count": 57,
     "metadata": {},
     "output_type": "execute_result"
    }
   ],
   "source": [
    "parameters = {'kernel':('linear', 'rbf'), 'C': [0.1, 1, 100, 1000], 'gamma': [0.0001, 0.001, 0.005, 0.1, 1, 3, 5]}\n",
    "clf = GridSearchCV(svm.SVC(probability = True), parameters)\n",
    "clf.fit(XwithStopst, ywithStopst)\n",
    "best_params = clf.best_params_\n",
    "\n",
    "best_svmS_Tuned = svm.SVC(kernel=best_params['kernel'], C=best_params[\"C\"],gamma=best_params[\"gamma\"], probability = True)\n",
    "best_svmS_Tuned.fit(XwithStopst, ywithStopst)\n",
    "\n",
    "best_svmSPred_Tuned = best_svmS_Tuned.predict(XwithStopsv)\n",
    "\n",
    "printScoresInSampleRun(ywithStopsv, best_svmSPred_Tuned, best_svmS_Tuned, XwithStopsv)\n",
    "cvSVMSTuning = cross_validate(best_svmS_Tuned, XwithStops, y, scoring=scoring2, cv=fold)\n",
    "cvSVMS_result_Tuned = pd.DataFrame({\n",
    "    'Model': 'SVMStopsTuned',\n",
    "    'Accuracy': np.round(cvSVMSTuning['test_accuracy'].mean(), 4),\n",
    "    'Precision': np.round(cvSVMSTuning['test_precision'].mean(), 4),\n",
    "    'Recall': np.round(cvSVMSTuning['test_recall'].mean(), 4),\n",
    "    'F1 Score': np.round(cvSVMSTuning['test_f1 score'].mean(), 4),\n",
    "    'ROC AUC': np.round(cvSVMSTuning['test_roc auc'].mean(), 4)\n",
    "},index=[0])\n",
    "cvSVMS_result_Tuned"
   ]
  },
  {
   "cell_type": "code",
   "execution_count": 58,
   "metadata": {},
   "outputs": [
    {
     "name": "stdout",
     "output_type": "stream",
     "text": [
      "Accuracy Score : 0.8567\n",
      "Precision Score : 0.825\n",
      "Recall Score : 0.6947\n",
      "F1 Score : 0.7543\n",
      "AUC Score : 0.9085\n"
     ]
    },
    {
     "data": {
      "text/html": [
       "<div>\n",
       "<style scoped>\n",
       "    .dataframe tbody tr th:only-of-type {\n",
       "        vertical-align: middle;\n",
       "    }\n",
       "\n",
       "    .dataframe tbody tr th {\n",
       "        vertical-align: top;\n",
       "    }\n",
       "\n",
       "    .dataframe thead th {\n",
       "        text-align: right;\n",
       "    }\n",
       "</style>\n",
       "<table border=\"1\" class=\"dataframe\">\n",
       "  <thead>\n",
       "    <tr style=\"text-align: right;\">\n",
       "      <th></th>\n",
       "      <th>Model</th>\n",
       "      <th>Accuracy</th>\n",
       "      <th>Precision</th>\n",
       "      <th>Recall</th>\n",
       "      <th>F1 Score</th>\n",
       "      <th>ROC AUC</th>\n",
       "    </tr>\n",
       "  </thead>\n",
       "  <tbody>\n",
       "    <tr>\n",
       "      <th>0</th>\n",
       "      <td>LogisticRegressionStopsTurnsTuned</td>\n",
       "      <td>0.857</td>\n",
       "      <td>0.7793</td>\n",
       "      <td>0.7653</td>\n",
       "      <td>0.7677</td>\n",
       "      <td>0.8318</td>\n",
       "    </tr>\n",
       "  </tbody>\n",
       "</table>\n",
       "</div>"
      ],
      "text/plain": [
       "                               Model  Accuracy  Precision  Recall  F1 Score  \\\n",
       "0  LogisticRegressionStopsTurnsTuned     0.857     0.7793  0.7653    0.7677   \n",
       "\n",
       "   ROC AUC  \n",
       "0   0.8318  "
      ]
     },
     "execution_count": 58,
     "metadata": {},
     "output_type": "execute_result"
    }
   ],
   "source": [
    "parameters = {'C': [0.1, 1, 100, 1000], 'solver': ['newton-cg', 'lbfgs', 'liblinear', 'sag', 'saga']}\n",
    "clf = GridSearchCV(LogisticRegression(max_iter = 10000), parameters)\n",
    "clf.fit(XwithStopst,ywithStopst)\n",
    "best_params = clf.best_params_\n",
    "\n",
    "best_lrcS_Tuned = LogisticRegression(C = best_params['C'], solver = best_params['solver'], max_iter = 10000)\n",
    "best_lrcS_Tuned.fit(XwithStopst, ywithStopst)\n",
    "\n",
    "best_lrcS_TunedPred = best_lrcS_Tuned.predict(XwithStopsv)\n",
    "printScoresInSampleRun(ywithStopsv, best_lrcS_TunedPred, best_lrcS_Tuned, XwithStopsv)\n",
    "\n",
    "cvLRCS = cross_validate(best_lrcS_Tuned, XwithStops, y, scoring=scoring2, cv=fold)\n",
    "cvLRCS_resultTuned = pd.DataFrame({\n",
    "    'Model': 'LogisticRegressionStopsTurnsTuned',\n",
    "    'Accuracy': np.round(cvLRCS['test_accuracy'].mean(), 4),\n",
    "    'Precision': np.round(cvLRCS['test_precision'].mean(), 4),\n",
    "    'Recall': np.round(cvLRCS['test_recall'].mean(), 4),\n",
    "    'F1 Score': np.round(cvLRCS['test_f1 score'].mean(), 4),\n",
    "    'ROC AUC': np.round(cvLRCS['test_roc auc'].mean(), 4)\n",
    "},index=[0])\n",
    "cvLRCS_resultTuned"
   ]
  },
  {
   "cell_type": "code",
   "execution_count": 59,
   "metadata": {},
   "outputs": [
    {
     "name": "stdout",
     "output_type": "stream",
     "text": [
      "Accuracy Score : 0.8067\n",
      "Precision Score : 0.7284\n",
      "Recall Score : 0.6211\n",
      "F1 Score : 0.6705\n",
      "AUC Score : 0.834\n"
     ]
    },
    {
     "data": {
      "text/html": [
       "<div>\n",
       "<style scoped>\n",
       "    .dataframe tbody tr th:only-of-type {\n",
       "        vertical-align: middle;\n",
       "    }\n",
       "\n",
       "    .dataframe tbody tr th {\n",
       "        vertical-align: top;\n",
       "    }\n",
       "\n",
       "    .dataframe thead th {\n",
       "        text-align: right;\n",
       "    }\n",
       "</style>\n",
       "<table border=\"1\" class=\"dataframe\">\n",
       "  <thead>\n",
       "    <tr style=\"text-align: right;\">\n",
       "      <th></th>\n",
       "      <th>Model</th>\n",
       "      <th>Accuracy</th>\n",
       "      <th>Precision</th>\n",
       "      <th>Recall</th>\n",
       "      <th>F1 Score</th>\n",
       "      <th>ROC AUC</th>\n",
       "    </tr>\n",
       "  </thead>\n",
       "  <tbody>\n",
       "    <tr>\n",
       "      <th>0</th>\n",
       "      <td>K-NeighborsStopsTuned</td>\n",
       "      <td>0.781</td>\n",
       "      <td>0.6738</td>\n",
       "      <td>0.5832</td>\n",
       "      <td>0.6211</td>\n",
       "      <td>0.7274</td>\n",
       "    </tr>\n",
       "  </tbody>\n",
       "</table>\n",
       "</div>"
      ],
      "text/plain": [
       "                   Model  Accuracy  Precision  Recall  F1 Score  ROC AUC\n",
       "0  K-NeighborsStopsTuned     0.781     0.6738  0.5832    0.6211   0.7274"
      ]
     },
     "execution_count": 59,
     "metadata": {},
     "output_type": "execute_result"
    }
   ],
   "source": [
    "parameters = {'n_neighbors': [1, 2, 3, 4, 5, 10, 15], 'algorithm': ['auto', 'ball_tree', 'kd_tree', 'brute']}\n",
    "clf = GridSearchCV(KNeighborsClassifier(), parameters)\n",
    "clf.fit(XwithStopst, ywithStopst)\n",
    "best_params = clf.best_params_\n",
    "\n",
    "best_kNS_Tuned = KNeighborsClassifier(n_neighbors = best_params['n_neighbors'], algorithm = best_params['algorithm'])\n",
    "best_kNS_Tuned.fit(XwithStopst, ywithStopst)\n",
    "\n",
    "best_kNS_TunedPred = best_kNS_Tuned.predict(XwithStopsv)\n",
    "printScoresInSampleRun(ywithStopsv, best_kNS_TunedPred, best_kNS_Tuned, XwithStopsv)\n",
    "\n",
    "cvkNS = cross_validate(best_kNS_Tuned, XwithStops, y, scoring=scoring2, cv=fold)\n",
    "cvkNS_resultTuned = pd.DataFrame({\n",
    "    'Model': 'K-NeighborsStopsTuned',\n",
    "    'Accuracy': np.round(cvkNS['test_accuracy'].mean(), 4),\n",
    "    'Precision': np.round(cvkNS['test_precision'].mean(), 4),\n",
    "    'Recall': np.round(cvkNS['test_recall'].mean(), 4),\n",
    "    'F1 Score': np.round(cvkNS['test_f1 score'].mean(), 4),\n",
    "    'ROC AUC': np.round(cvkNS['test_roc auc'].mean(), 4)\n",
    "},index=[0])\n",
    "cvkNS_resultTuned"
   ]
  },
  {
   "cell_type": "code",
   "execution_count": 60,
   "metadata": {},
   "outputs": [
    {
     "data": {
      "text/plain": [
       "Text(0.5, 0.98, 'Accuracy of Classifiers with Stops Tuned')"
      ]
     },
     "execution_count": 60,
     "metadata": {},
     "output_type": "execute_result"
    },
    {
     "data": {
      "image/png": "[encoded data removed]",
      "text/plain": [
       "<Figure size 432x288 with 1 Axes>"
      ]
     },
     "metadata": {
      "needs_background": "light"
     },
     "output_type": "display_data"
    }
   ],
   "source": [
    "accuracyStopsFrame = pd.DataFrame({\n",
    "    'Random Forest': cvRandomForestS_Tuned_result[\"Accuracy\"],\n",
    "    'SVM': cvSVMS_result_Tuned[\"Accuracy\"],\n",
    "    'Logistic Regression': cvLRCS_resultTuned['Accuracy'],\n",
    "    'K Neighbors': cvkNS_resultTuned['Accuracy']\n",
    "},index=[0])\n",
    "\n",
    "accuracyStopsFrame.plot(kind='bar')\n",
    "plt.axhline(0, color='k')\n",
    "plt.legend(loc='center left', bbox_to_anchor=(1.0, 0.5))\n",
    "plt.suptitle('Accuracy of Classifiers with Stops Tuned')"
   ]
  },
  {
   "cell_type": "code",
   "execution_count": 61,
   "metadata": {},
   "outputs": [
    {
     "data": {
      "text/plain": [
       "Text(0.5, 0.98, 'Precision of Classifiers with Stops Tuned')"
      ]
     },
     "execution_count": 61,
     "metadata": {},
     "output_type": "execute_result"
    },
    {
     "data": {
      "image/png": "[encoded data removed]",
      "text/plain": [
       "<Figure size 432x288 with 1 Axes>"
      ]
     },
     "metadata": {
      "needs_background": "light"
     },
     "output_type": "display_data"
    }
   ],
   "source": [
    "precisionStopsFrame = pd.DataFrame({\n",
    "    'Random Forest': cvRandomForestS_Tuned_result[\"Precision\"],\n",
    "    'SVM': cvSVMS_result_Tuned[\"Precision\"],\n",
    "    'Logistic Regression': cvLRCS_resultTuned['Precision'],\n",
    "    'K Neighbors': cvkNS_resultTuned['Precision']\n",
    "},index=[0])\n",
    "\n",
    "precisionStopsFrame.plot(kind='bar')\n",
    "plt.axhline(0, color='k')\n",
    "plt.legend(loc='center left', bbox_to_anchor=(1.0, 0.5))\n",
    "plt.suptitle('Precision of Classifiers with Stops Tuned')"
   ]
  },
  {
   "cell_type": "code",
   "execution_count": 62,
   "metadata": {},
   "outputs": [
    {
     "data": {
      "text/plain": [
       "Text(0.5, 0.98, 'Recall of Classifiers with Stops Tuned')"
      ]
     },
     "execution_count": 62,
     "metadata": {},
     "output_type": "execute_result"
    },
    {
     "data": {
      "image/png": "[encoded data removed]",
      "text/plain": [
       "<Figure size 432x288 with 1 Axes>"
      ]
     },
     "metadata": {
      "needs_background": "light"
     },
     "output_type": "display_data"
    }
   ],
   "source": [
    "recallStopsFrame = pd.DataFrame({\n",
    "    'Random Forest': cvRandomForestS_Tuned_result[\"Recall\"],\n",
    "    'SVM': cvSVMS_result_Tuned[\"Recall\"],\n",
    "    'Logistic Regression': cvLRCS_resultTuned['Recall'],\n",
    "    'K Neighbors': cvkNS_resultTuned['Recall']\n",
    "},index=[0])\n",
    "\n",
    "recallStopsFrame.plot(kind='bar')\n",
    "plt.axhline(0, color='k')\n",
    "plt.legend(loc='center left', bbox_to_anchor=(1.0, 0.5))\n",
    "plt.suptitle('Recall of Classifiers with Stops Tuned')"
   ]
  },
  {
   "cell_type": "code",
   "execution_count": 63,
   "metadata": {},
   "outputs": [
    {
     "data": {
      "text/plain": [
       "Text(0.5, 0.98, 'f1 of Classifiers with Stops Tuned')"
      ]
     },
     "execution_count": 63,
     "metadata": {},
     "output_type": "execute_result"
    },
    {
     "data": {
      "image/png": "[encoded data removed]",
      "text/plain": [
       "<Figure size 432x288 with 1 Axes>"
      ]
     },
     "metadata": {
      "needs_background": "light"
     },
     "output_type": "display_data"
    }
   ],
   "source": [
    "f1StopsFrame = pd.DataFrame({\n",
    "    'Random Forest': cvRandomForestS_Tuned_result[\"F1 Score\"],\n",
    "    'SVM': cvSVMS_result_Tuned[\"F1 Score\"],\n",
    "    'Logistic Regression': cvLRCS_resultTuned['F1 Score'],\n",
    "    'K Neighbors': cvkNS_resultTuned['F1 Score']\n",
    "},index=[0])\n",
    "\n",
    "f1StopsFrame.plot(kind='bar')\n",
    "plt.axhline(0, color='k')\n",
    "plt.legend(loc='center left', bbox_to_anchor=(1.0, 0.5))\n",
    "plt.suptitle('f1 of Classifiers with Stops Tuned')"
   ]
  },
  {
   "cell_type": "markdown",
   "metadata": {},
   "source": [
    "## Playing Around With Turns"
   ]
  },
  {
   "cell_type": "code",
   "execution_count": 64,
   "metadata": {},
   "outputs": [],
   "source": [
    "XwithTurnst, XwithTurnsv, ywithTurnst, ywithTurnsv = train_test_split(XwithTurns, y, test_size=0.3)"
   ]
  },
  {
   "cell_type": "code",
   "execution_count": 65,
   "metadata": {},
   "outputs": [
    {
     "name": "stdout",
     "output_type": "stream",
     "text": [
      "Accuracy Score : 0.8467\n",
      "Precision Score : 0.8333\n",
      "Recall Score : 0.6111\n",
      "F1 Score : 0.7051\n",
      "AUC Score : 0.8945\n",
      "OOB Error : 0.1657\n"
     ]
    },
    {
     "data": {
      "text/html": [
       "<div>\n",
       "<style scoped>\n",
       "    .dataframe tbody tr th:only-of-type {\n",
       "        vertical-align: middle;\n",
       "    }\n",
       "\n",
       "    .dataframe tbody tr th {\n",
       "        vertical-align: top;\n",
       "    }\n",
       "\n",
       "    .dataframe thead th {\n",
       "        text-align: right;\n",
       "    }\n",
       "</style>\n",
       "<table border=\"1\" class=\"dataframe\">\n",
       "  <thead>\n",
       "    <tr style=\"text-align: right;\">\n",
       "      <th></th>\n",
       "      <th>Model</th>\n",
       "      <th>Accuracy</th>\n",
       "      <th>Precision</th>\n",
       "      <th>Recall</th>\n",
       "      <th>F1 Score</th>\n",
       "      <th>ROC AUC</th>\n",
       "      <th>OOB Error</th>\n",
       "    </tr>\n",
       "  </thead>\n",
       "  <tbody>\n",
       "    <tr>\n",
       "      <th>0</th>\n",
       "      <td>RandomForestClassifierStopsTurns</td>\n",
       "      <td>0.852</td>\n",
       "      <td>0.8414</td>\n",
       "      <td>0.6471</td>\n",
       "      <td>0.729</td>\n",
       "      <td>0.7961</td>\n",
       "      <td>0.166</td>\n",
       "    </tr>\n",
       "  </tbody>\n",
       "</table>\n",
       "</div>"
      ],
      "text/plain": [
       "                              Model  Accuracy  Precision  Recall  F1 Score  \\\n",
       "0  RandomForestClassifierStopsTurns     0.852     0.8414  0.6471     0.729   \n",
       "\n",
       "   ROC AUC  OOB Error  \n",
       "0   0.7961      0.166  "
      ]
     },
     "execution_count": 65,
     "metadata": {},
     "output_type": "execute_result"
    }
   ],
   "source": [
    "randomForestClassifierT = RandomForestClassifier(oob_score=True)\n",
    "randomForestClassifierT.fit(XwithTurnst, ywithTurnst)\n",
    "randomForestClassifierTPred = randomForestClassifierT.predict(XwithTurnsv)\n",
    "\n",
    "printScoresInSampleRun(ywithTurnsv, randomForestClassifierTPred, randomForestClassifierT, XwithTurnsv)\n",
    "print('OOB Error :', np.round(1 - randomForestClassifierT.oob_score_, 4))\n",
    "\n",
    "cvRandomForestT = cross_validate(RandomForestClassifier(oob_score=True), XwithTurns, y, scoring=scoringRandomForest, cv=fold)\n",
    "cvRandomForestT_result = pd.DataFrame({\n",
    "    'Model': 'RandomForestClassifierStopsTurns',\n",
    "    'Accuracy': np.round(cvRandomForestT['test_accuracy'].mean(), 4),\n",
    "    'Precision': np.round(cvRandomForestT['test_precision'].mean(), 4),\n",
    "    'Recall': np.round(cvRandomForestT['test_recall'].mean(), 4),\n",
    "    'F1 Score': np.round(cvRandomForestT['test_f1 score'].mean(), 4),\n",
    "    'ROC AUC': np.round(cvRandomForestT['test_roc auc'].mean(), 4),\n",
    "        'OOB Error': np.round(cvRandomForestT['test_oob'].mean(), 4)\n",
    "},index=[0])\n",
    "cvRandomForestT_result"
   ]
  },
  {
   "cell_type": "code",
   "execution_count": 66,
   "metadata": {},
   "outputs": [
    {
     "name": "stdout",
     "output_type": "stream",
     "text": [
      "Accuracy Score : 0.8767\n",
      "Precision Score : 0.863\n",
      "Recall Score : 0.7\n",
      "F1 Score : 0.773\n",
      "AUC Score : 0.9316\n"
     ]
    },
    {
     "data": {
      "text/html": [
       "<div>\n",
       "<style scoped>\n",
       "    .dataframe tbody tr th:only-of-type {\n",
       "        vertical-align: middle;\n",
       "    }\n",
       "\n",
       "    .dataframe tbody tr th {\n",
       "        vertical-align: top;\n",
       "    }\n",
       "\n",
       "    .dataframe thead th {\n",
       "        text-align: right;\n",
       "    }\n",
       "</style>\n",
       "<table border=\"1\" class=\"dataframe\">\n",
       "  <thead>\n",
       "    <tr style=\"text-align: right;\">\n",
       "      <th></th>\n",
       "      <th>Model</th>\n",
       "      <th>Accuracy</th>\n",
       "      <th>Precision</th>\n",
       "      <th>Recall</th>\n",
       "      <th>F1 Score</th>\n",
       "      <th>ROC AUC</th>\n",
       "    </tr>\n",
       "  </thead>\n",
       "  <tbody>\n",
       "    <tr>\n",
       "      <th>0</th>\n",
       "      <td>SVCTurns</td>\n",
       "      <td>0.869</td>\n",
       "      <td>0.8378</td>\n",
       "      <td>0.7257</td>\n",
       "      <td>0.7735</td>\n",
       "      <td>0.8304</td>\n",
       "    </tr>\n",
       "  </tbody>\n",
       "</table>\n",
       "</div>"
      ],
      "text/plain": [
       "      Model  Accuracy  Precision  Recall  F1 Score  ROC AUC\n",
       "0  SVCTurns     0.869     0.8378  0.7257    0.7735   0.8304"
      ]
     },
     "execution_count": 66,
     "metadata": {},
     "output_type": "execute_result"
    }
   ],
   "source": [
    "svmClassifierT = svm.SVC(probability=True)\n",
    "svmClassifierT.fit(XwithTurnst, ywithTurnst)\n",
    "svmClassifierPredT = svmClassifierT.predict(XwithTurnsv)\n",
    "\n",
    "printScoresInSampleRun(ywithTurnsv, svmClassifierPredT, svmClassifierT, XwithTurnsv)\n",
    "\n",
    "cvsvmt = cross_validate(svm.SVC(), XwithTurns, y, scoring=scoring2, cv=fold)\n",
    "cvsvm_resultT = pd.DataFrame({\n",
    "    'Model': 'SVCTurns',\n",
    "    'Accuracy': np.round(cvsvmt['test_accuracy'].mean(), 4),\n",
    "    'Precision': np.round(cvsvmt['test_precision'].mean(), 4),\n",
    "    'Recall': np.round(cvsvmt['test_recall'].mean(), 4),\n",
    "    'F1 Score': np.round(cvsvmt['test_f1 score'].mean(), 4),\n",
    "    'ROC AUC': np.round(cvsvmt['test_roc auc'].mean(), 4)\n",
    "},index=[0])\n",
    "cvsvm_resultT"
   ]
  },
  {
   "cell_type": "code",
   "execution_count": 67,
   "metadata": {},
   "outputs": [
    {
     "name": "stdout",
     "output_type": "stream",
     "text": [
      "Accuracy Score : 0.87\n",
      "Precision Score : 0.918\n",
      "Recall Score : 0.6222\n",
      "F1 Score : 0.7417\n",
      "AUC Score : 0.9287\n"
     ]
    },
    {
     "data": {
      "text/html": [
       "<div>\n",
       "<style scoped>\n",
       "    .dataframe tbody tr th:only-of-type {\n",
       "        vertical-align: middle;\n",
       "    }\n",
       "\n",
       "    .dataframe tbody tr th {\n",
       "        vertical-align: top;\n",
       "    }\n",
       "\n",
       "    .dataframe thead th {\n",
       "        text-align: right;\n",
       "    }\n",
       "</style>\n",
       "<table border=\"1\" class=\"dataframe\">\n",
       "  <thead>\n",
       "    <tr style=\"text-align: right;\">\n",
       "      <th></th>\n",
       "      <th>Model</th>\n",
       "      <th>Accuracy</th>\n",
       "      <th>Precision</th>\n",
       "      <th>Recall</th>\n",
       "      <th>F1 Score</th>\n",
       "      <th>ROC AUC</th>\n",
       "    </tr>\n",
       "  </thead>\n",
       "  <tbody>\n",
       "    <tr>\n",
       "      <th>0</th>\n",
       "      <td>LogisticRegressionStopsTurns</td>\n",
       "      <td>0.857</td>\n",
       "      <td>0.8658</td>\n",
       "      <td>0.6537</td>\n",
       "      <td>0.7377</td>\n",
       "      <td>0.8015</td>\n",
       "    </tr>\n",
       "  </tbody>\n",
       "</table>\n",
       "</div>"
      ],
      "text/plain": [
       "                          Model  Accuracy  Precision  Recall  F1 Score  \\\n",
       "0  LogisticRegressionStopsTurns     0.857     0.8658  0.6537    0.7377   \n",
       "\n",
       "   ROC AUC  \n",
       "0   0.8015  "
      ]
     },
     "execution_count": 67,
     "metadata": {},
     "output_type": "execute_result"
    }
   ],
   "source": [
    "logisticRegressionClassifierT = LogisticRegression()\n",
    "logisticRegressionClassifierT.fit(XwithTurnst, ywithTurnst)\n",
    "logisticRegressionClassifierTPred = logisticRegressionClassifierT.predict(XwithTurnsv)\n",
    "\n",
    "printScoresInSampleRun(ywithTurnsv, logisticRegressionClassifierTPred, logisticRegressionClassifierT, XwithTurnsv)\n",
    "\n",
    "cvLRCT = cross_validate(LogisticRegression(), XwithTurns, y, scoring=scoring2, cv=fold)\n",
    "cvLRCT_result = pd.DataFrame({\n",
    "    'Model': 'LogisticRegressionStopsTurns',\n",
    "    'Accuracy': np.round(cvLRCT['test_accuracy'].mean(), 4),\n",
    "    'Precision': np.round(cvLRCT['test_precision'].mean(), 4),\n",
    "    'Recall': np.round(cvLRCT['test_recall'].mean(), 4),\n",
    "    'F1 Score': np.round(cvLRCT['test_f1 score'].mean(), 4),\n",
    "    'ROC AUC': np.round(cvLRCT['test_roc auc'].mean(), 4)\n",
    "},index=[0])\n",
    "cvLRCT_result"
   ]
  },
  {
   "cell_type": "code",
   "execution_count": 68,
   "metadata": {},
   "outputs": [
    {
     "name": "stdout",
     "output_type": "stream",
     "text": [
      "Accuracy Score : 0.82\n",
      "Precision Score : 0.7647\n",
      "Recall Score : 0.5778\n",
      "F1 Score : 0.6582\n",
      "AUC Score : 0.8787\n"
     ]
    },
    {
     "data": {
      "text/html": [
       "<div>\n",
       "<style scoped>\n",
       "    .dataframe tbody tr th:only-of-type {\n",
       "        vertical-align: middle;\n",
       "    }\n",
       "\n",
       "    .dataframe tbody tr th {\n",
       "        vertical-align: top;\n",
       "    }\n",
       "\n",
       "    .dataframe thead th {\n",
       "        text-align: right;\n",
       "    }\n",
       "</style>\n",
       "<table border=\"1\" class=\"dataframe\">\n",
       "  <thead>\n",
       "    <tr style=\"text-align: right;\">\n",
       "      <th></th>\n",
       "      <th>Model</th>\n",
       "      <th>Accuracy</th>\n",
       "      <th>Precision</th>\n",
       "      <th>Recall</th>\n",
       "      <th>F1 Score</th>\n",
       "      <th>ROC AUC</th>\n",
       "    </tr>\n",
       "  </thead>\n",
       "  <tbody>\n",
       "    <tr>\n",
       "      <th>0</th>\n",
       "      <td>KNeighborsStopsTurns</td>\n",
       "      <td>0.82</td>\n",
       "      <td>0.755</td>\n",
       "      <td>0.6262</td>\n",
       "      <td>0.6825</td>\n",
       "      <td>0.7674</td>\n",
       "    </tr>\n",
       "  </tbody>\n",
       "</table>\n",
       "</div>"
      ],
      "text/plain": [
       "                  Model  Accuracy  Precision  Recall  F1 Score  ROC AUC\n",
       "0  KNeighborsStopsTurns      0.82      0.755  0.6262    0.6825   0.7674"
      ]
     },
     "execution_count": 68,
     "metadata": {},
     "output_type": "execute_result"
    }
   ],
   "source": [
    "kNeighborsClassifierT = KNeighborsClassifier()\n",
    "kNeighborsClassifierT.fit(XwithTurnst, ywithTurnst)\n",
    "kNeighborsClassifierTPred = kNeighborsClassifierT.predict(XwithTurnsv)\n",
    "\n",
    "printScoresInSampleRun(ywithTurnsv, kNeighborsClassifierTPred, kNeighborsClassifierT, XwithTurnsv)\n",
    "\n",
    "cvKNT = cross_validate(KNeighborsClassifier(), XwithTurns, y, scoring=scoring2, cv=fold)\n",
    "cvKNT_result = pd.DataFrame({\n",
    "    'Model': 'KNeighborsStopsTurns',\n",
    "    'Accuracy': np.round(cvKNT['test_accuracy'].mean(), 4),\n",
    "    'Precision': np.round(cvKNT['test_precision'].mean(), 4),\n",
    "    'Recall': np.round(cvKNT['test_recall'].mean(), 4),\n",
    "    'F1 Score': np.round(cvKNT['test_f1 score'].mean(), 4),\n",
    "    'ROC AUC': np.round(cvKNT['test_roc auc'].mean(), 4)\n",
    "},index=[0])\n",
    "cvKNT_result"
   ]
  },
  {
   "cell_type": "code",
   "execution_count": 69,
   "metadata": {},
   "outputs": [
    {
     "data": {
      "text/plain": [
       "Text(0.5, 0.98, 'Accuracy of Classifiers with Turns')"
      ]
     },
     "execution_count": 69,
     "metadata": {},
     "output_type": "execute_result"
    },
    {
     "data": {
      "image/png": "[encoded data removed]",
      "text/plain": [
       "<Figure size 432x288 with 1 Axes>"
      ]
     },
     "metadata": {
      "needs_background": "light"
     },
     "output_type": "display_data"
    }
   ],
   "source": [
    "accuracyTurnsFrame = pd.DataFrame({\n",
    "    'Random Forest': cvRandomForestT_result[\"Accuracy\"],\n",
    "    'SVM': cvsvm_resultT[\"Accuracy\"],\n",
    "    'Logistic Regression': cvLRCT_result['Accuracy'],\n",
    "    'K Neighbors': cvKNT_result['Accuracy']\n",
    "},index=[0])\n",
    "\n",
    "accuracyTurnsFrame.plot(kind='bar')\n",
    "plt.axhline(0, color='k')\n",
    "plt.legend(loc='center left', bbox_to_anchor=(1.0, 0.5))\n",
    "plt.suptitle('Accuracy of Classifiers with Turns')"
   ]
  },
  {
   "cell_type": "code",
   "execution_count": 70,
   "metadata": {},
   "outputs": [
    {
     "data": {
      "text/plain": [
       "Text(0.5, 0.98, 'Precision of Classifiers with Turns')"
      ]
     },
     "execution_count": 70,
     "metadata": {},
     "output_type": "execute_result"
    },
    {
     "data": {
      "image/png": "[encoded data removed]",
      "text/plain": [
       "<Figure size 432x288 with 1 Axes>"
      ]
     },
     "metadata": {
      "needs_background": "light"
     },
     "output_type": "display_data"
    }
   ],
   "source": [
    "precisionTurnsFrame = pd.DataFrame({\n",
    "    'Random Forest': cvRandomForestT_result[\"Precision\"],\n",
    "    'SVM': cvsvm_resultT[\"Precision\"],\n",
    "    'Logistic Regression': cvLRCT_result['Precision'],\n",
    "    'K Neighbors': cvKNT_result['Precision']\n",
    "},index=[0])\n",
    "\n",
    "precisionTurnsFrame.plot(kind='bar')\n",
    "plt.axhline(0, color='k')\n",
    "plt.legend(loc='center left', bbox_to_anchor=(1.0, 0.5))\n",
    "plt.suptitle('Precision of Classifiers with Turns')"
   ]
  },
  {
   "cell_type": "code",
   "execution_count": 71,
   "metadata": {},
   "outputs": [
    {
     "data": {
      "text/plain": [
       "Text(0.5, 0.98, 'Recall of Classifiers with Turns')"
      ]
     },
     "execution_count": 71,
     "metadata": {},
     "output_type": "execute_result"
    },
    {
     "data": {
      "image/png": "[encoded data removed]",
      "text/plain": [
       "<Figure size 432x288 with 1 Axes>"
      ]
     },
     "metadata": {
      "needs_background": "light"
     },
     "output_type": "display_data"
    }
   ],
   "source": [
    "recallTurnsFrame = pd.DataFrame({\n",
    "    'Random Forest': cvRandomForestT_result[\"Recall\"],\n",
    "    'SVM': cvsvm_resultT[\"Recall\"],\n",
    "    'Logistic Regression': cvLRCT_result['Recall'],\n",
    "    'K Neighbors': cvKNT_result['Recall']\n",
    "},index=[0])\n",
    "\n",
    "recallTurnsFrame.plot(kind='bar')\n",
    "plt.axhline(0, color='k')\n",
    "plt.legend(loc='center left', bbox_to_anchor=(1.0, 0.5))\n",
    "plt.suptitle('Recall of Classifiers with Turns')"
   ]
  },
  {
   "cell_type": "code",
   "execution_count": 72,
   "metadata": {},
   "outputs": [
    {
     "data": {
      "text/plain": [
       "Text(0.5, 0.98, 'f1 of Classifiers with Turns')"
      ]
     },
     "execution_count": 72,
     "metadata": {},
     "output_type": "execute_result"
    },
    {
     "data": {
      "image/png": "[encoded data removed]",
      "text/plain": [
       "<Figure size 432x288 with 1 Axes>"
      ]
     },
     "metadata": {
      "needs_background": "light"
     },
     "output_type": "display_data"
    }
   ],
   "source": [
    "f1TurnsFrame = pd.DataFrame({\n",
    "    'Random Forest': cvRandomForestT_result[\"F1 Score\"],\n",
    "    'SVM': cvsvm_resultT[\"F1 Score\"],\n",
    "    'Logistic Regression': cvLRCT_result['F1 Score'],\n",
    "    'K Neighbors': cvKNT_result['F1 Score']\n",
    "},index=[0])\n",
    "\n",
    "f1TurnsFrame.plot(kind='bar')\n",
    "plt.axhline(0, color='k')\n",
    "plt.legend(loc='center left', bbox_to_anchor=(1.0, 0.5))\n",
    "plt.suptitle('f1 of Classifiers with Turns')"
   ]
  },
  {
   "cell_type": "markdown",
   "metadata": {},
   "source": [
    "## Playing with HyperParameters and Turns"
   ]
  },
  {
   "cell_type": "code",
   "execution_count": 73,
   "metadata": {},
   "outputs": [
    {
     "name": "stdout",
     "output_type": "stream",
     "text": [
      "Accuracy Score : 0.8433\n",
      "Precision Score : 0.8116\n",
      "Recall Score : 0.6222\n",
      "F1 Score : 0.7044\n",
      "AUC Score : 0.8961\n",
      "OOB Error : 0.1557\n"
     ]
    },
    {
     "data": {
      "text/html": [
       "<div>\n",
       "<style scoped>\n",
       "    .dataframe tbody tr th:only-of-type {\n",
       "        vertical-align: middle;\n",
       "    }\n",
       "\n",
       "    .dataframe tbody tr th {\n",
       "        vertical-align: top;\n",
       "    }\n",
       "\n",
       "    .dataframe thead th {\n",
       "        text-align: right;\n",
       "    }\n",
       "</style>\n",
       "<table border=\"1\" class=\"dataframe\">\n",
       "  <thead>\n",
       "    <tr style=\"text-align: right;\">\n",
       "      <th></th>\n",
       "      <th>Model</th>\n",
       "      <th>Accuracy</th>\n",
       "      <th>Precision</th>\n",
       "      <th>Recall</th>\n",
       "      <th>F1 Score</th>\n",
       "      <th>ROC AUC</th>\n",
       "      <th>OOB Error</th>\n",
       "    </tr>\n",
       "  </thead>\n",
       "  <tbody>\n",
       "    <tr>\n",
       "      <th>0</th>\n",
       "      <td>RandomForestClassifierTurnsTuned</td>\n",
       "      <td>0.844</td>\n",
       "      <td>0.8243</td>\n",
       "      <td>0.6355</td>\n",
       "      <td>0.7156</td>\n",
       "      <td>0.7866</td>\n",
       "      <td>0.171</td>\n",
       "    </tr>\n",
       "  </tbody>\n",
       "</table>\n",
       "</div>"
      ],
      "text/plain": [
       "                              Model  Accuracy  Precision  Recall  F1 Score  \\\n",
       "0  RandomForestClassifierTurnsTuned     0.844     0.8243  0.6355    0.7156   \n",
       "\n",
       "   ROC AUC  OOB Error  \n",
       "0   0.7866      0.171  "
      ]
     },
     "execution_count": 73,
     "metadata": {},
     "output_type": "execute_result"
    }
   ],
   "source": [
    "parameters = {'min_samples_split': [2, 3, 4, 5, 6]}\n",
    "clf = GridSearchCV(RandomForestClassifier(oob_score=True),parameters)\n",
    "clf.fit(XwithTurnst, ywithTurnst)\n",
    "best_params = clf.best_params_\n",
    "\n",
    "best_RandomForestT_Tuned = RandomForestClassifier(min_samples_split=best_params['min_samples_split'], oob_score=True)\n",
    "best_RandomForestT_Tuned.fit(XwithTurnst, ywithTurnst)\n",
    "\n",
    "best_RandomForestT_TunedPred = best_RandomForestT_Tuned.predict(XwithTurnsv)\n",
    "\n",
    "printScoresInSampleRun(ywithTurnsv, best_RandomForestT_TunedPred, best_RandomForestT_Tuned, XwithTurnsv)\n",
    "print('OOB Error :', np.round(1 - best_RandomForestT_Tuned.oob_score_, 4))\n",
    "\n",
    "cvRandomForestT_Tuned = cross_validate(best_RandomForestT_Tuned, XwithTurns, y, scoring=scoringRandomForest, cv=fold)\n",
    "cvRandomForestT_Tuned_result = pd.DataFrame({\n",
    "    'Model': 'RandomForestClassifierTurnsTuned',\n",
    "    'Accuracy': np.round(cvRandomForestT_Tuned['test_accuracy'].mean(), 4),\n",
    "    'Precision': np.round(cvRandomForestT_Tuned['test_precision'].mean(), 4),\n",
    "    'Recall': np.round(cvRandomForestT_Tuned['test_recall'].mean(), 4),\n",
    "    'F1 Score': np.round(cvRandomForestT_Tuned['test_f1 score'].mean(), 4),\n",
    "    'ROC AUC': np.round(cvRandomForestT_Tuned['test_roc auc'].mean(), 4),\n",
    "        'OOB Error': np.round(cvRandomForestT_Tuned['test_oob'].mean(), 4)\n",
    "},index=[0])\n",
    "cvRandomForestT_Tuned_result"
   ]
  },
  {
   "cell_type": "code",
   "execution_count": 74,
   "metadata": {},
   "outputs": [
    {
     "name": "stdout",
     "output_type": "stream",
     "text": [
      "Accuracy Score : 0.8633\n",
      "Precision Score : 0.8101\n",
      "Recall Score : 0.7111\n",
      "F1 Score : 0.7574\n",
      "AUC Score : 0.9324\n"
     ]
    },
    {
     "data": {
      "text/html": [
       "<div>\n",
       "<style scoped>\n",
       "    .dataframe tbody tr th:only-of-type {\n",
       "        vertical-align: middle;\n",
       "    }\n",
       "\n",
       "    .dataframe tbody tr th {\n",
       "        vertical-align: top;\n",
       "    }\n",
       "\n",
       "    .dataframe thead th {\n",
       "        text-align: right;\n",
       "    }\n",
       "</style>\n",
       "<table border=\"1\" class=\"dataframe\">\n",
       "  <thead>\n",
       "    <tr style=\"text-align: right;\">\n",
       "      <th></th>\n",
       "      <th>Model</th>\n",
       "      <th>Accuracy</th>\n",
       "      <th>Precision</th>\n",
       "      <th>Recall</th>\n",
       "      <th>F1 Score</th>\n",
       "      <th>ROC AUC</th>\n",
       "    </tr>\n",
       "  </thead>\n",
       "  <tbody>\n",
       "    <tr>\n",
       "      <th>0</th>\n",
       "      <td>SVCTurnTuned</td>\n",
       "      <td>0.861</td>\n",
       "      <td>0.8007</td>\n",
       "      <td>0.7507</td>\n",
       "      <td>0.7695</td>\n",
       "      <td>0.8312</td>\n",
       "    </tr>\n",
       "  </tbody>\n",
       "</table>\n",
       "</div>"
      ],
      "text/plain": [
       "          Model  Accuracy  Precision  Recall  F1 Score  ROC AUC\n",
       "0  SVCTurnTuned     0.861     0.8007  0.7507    0.7695   0.8312"
      ]
     },
     "execution_count": 74,
     "metadata": {},
     "output_type": "execute_result"
    }
   ],
   "source": [
    "parameters = {'kernel':('linear', 'rbf'), 'C': [0.1, 1, 100, 1000], 'gamma': [0.0001, 0.001, 0.005, 0.1, 1, 3, 5]}\n",
    "svmClassifierTurns = svm.SVC(probability=True)\n",
    "clf = GridSearchCV(svmClassifierTurns, parameters)\n",
    "clf.fit(XwithTurnst, ywithTurnst)\n",
    "\n",
    "best_params = clf.best_params_\n",
    "\n",
    "best_svmTTuned = svm.SVC(probability=True, kernel=best_params['kernel'], C=best_params[\"C\"],gamma=best_params[\"gamma\"])\n",
    "best_svmTTuned.fit(XwithTurnst, ywithTurnst)\n",
    "best_svmTPredTuned = best_svmTTuned.predict(XwithTurnsv)\n",
    "\n",
    "printScoresInSampleRun(ywithTurnsv, best_svmTPredTuned, best_svmTTuned, XwithTurnsv)\n",
    "\n",
    "cvSVMTTuned = cross_validate(best_svmTTuned, XwithTurns, y, scoring=scoring2, cv=fold)\n",
    "cv_resultSVMTTuned = pd.DataFrame({\n",
    "    'Model': 'SVCTurnTuned',\n",
    "    'Accuracy': np.round(cvSVMTTuned['test_accuracy'].mean(), 4),\n",
    "    'Precision': np.round(cvSVMTTuned['test_precision'].mean(), 4),\n",
    "    'Recall': np.round(cvSVMTTuned['test_recall'].mean(), 4),\n",
    "    'F1 Score': np.round(cvSVMTTuned['test_f1 score'].mean(), 4),\n",
    "    'ROC AUC': np.round(cvSVMTTuned['test_roc auc'].mean(), 4)\n",
    "},index=[0])\n",
    "cv_resultSVMTTuned"
   ]
  },
  {
   "cell_type": "code",
   "execution_count": 75,
   "metadata": {},
   "outputs": [
    {
     "name": "stdout",
     "output_type": "stream",
     "text": [
      "Accuracy Score : 0.8567\n",
      "Precision Score : 0.7831\n",
      "Recall Score : 0.7222\n",
      "F1 Score : 0.7514\n",
      "AUC Score : 0.9289\n"
     ]
    },
    {
     "data": {
      "text/html": [
       "<div>\n",
       "<style scoped>\n",
       "    .dataframe tbody tr th:only-of-type {\n",
       "        vertical-align: middle;\n",
       "    }\n",
       "\n",
       "    .dataframe tbody tr th {\n",
       "        vertical-align: top;\n",
       "    }\n",
       "\n",
       "    .dataframe thead th {\n",
       "        text-align: right;\n",
       "    }\n",
       "</style>\n",
       "<table border=\"1\" class=\"dataframe\">\n",
       "  <thead>\n",
       "    <tr style=\"text-align: right;\">\n",
       "      <th></th>\n",
       "      <th>Model</th>\n",
       "      <th>Accuracy</th>\n",
       "      <th>Precision</th>\n",
       "      <th>Recall</th>\n",
       "      <th>F1 Score</th>\n",
       "      <th>ROC AUC</th>\n",
       "    </tr>\n",
       "  </thead>\n",
       "  <tbody>\n",
       "    <tr>\n",
       "      <th>0</th>\n",
       "      <td>LogisticRegressionTurnsTuned</td>\n",
       "      <td>0.854</td>\n",
       "      <td>0.7806</td>\n",
       "      <td>0.7529</td>\n",
       "      <td>0.7614</td>\n",
       "      <td>0.8264</td>\n",
       "    </tr>\n",
       "  </tbody>\n",
       "</table>\n",
       "</div>"
      ],
      "text/plain": [
       "                          Model  Accuracy  Precision  Recall  F1 Score  \\\n",
       "0  LogisticRegressionTurnsTuned     0.854     0.7806  0.7529    0.7614   \n",
       "\n",
       "   ROC AUC  \n",
       "0   0.8264  "
      ]
     },
     "execution_count": 75,
     "metadata": {},
     "output_type": "execute_result"
    }
   ],
   "source": [
    "parameters = {'C': [0.1, 1, 100, 1000], 'solver': ['newton-cg', 'lbfgs', 'liblinear', 'sag', 'saga']}\n",
    "logisticRegressionClassifierT = GridSearchCV(LogisticRegression(max_iter = 10000), parameters)\n",
    "logisticRegressionClassifierT.fit(XwithTurnst,ywithTurnst)\n",
    "best_params = logisticRegressionClassifierT.best_params_\n",
    "\n",
    "best_lrcT_Tuned = LogisticRegression(C = best_params['C'], solver = best_params['solver'], max_iter = 10000)\n",
    "best_lrcT_Tuned.fit(XwithTurnst, ywithTurnst)\n",
    "\n",
    "best_lrcT_TunedPred = best_lrcT_Tuned.predict(XwithTurnsv)\n",
    "\n",
    "printScoresInSampleRun(ywithTurnsv, best_lrcT_TunedPred, best_lrcT_Tuned, XwithTurnsv)\n",
    "\n",
    "cvLRCT = cross_validate(best_lrcT_Tuned, XwithTurns, y, scoring=scoring2, cv=fold)\n",
    "cvLRCT_resultTuned = pd.DataFrame({\n",
    "    'Model': 'LogisticRegressionTurnsTuned',\n",
    "    'Accuracy': np.round(cvLRCT['test_accuracy'].mean(), 4),\n",
    "    'Precision': np.round(cvLRCT['test_precision'].mean(), 4),\n",
    "    'Recall': np.round(cvLRCT['test_recall'].mean(), 4),\n",
    "    'F1 Score': np.round(cvLRCT['test_f1 score'].mean(), 4),\n",
    "    'ROC AUC': np.round(cvLRCT['test_roc auc'].mean(), 4)\n",
    "},index=[0])\n",
    "cvLRCT_resultTuned"
   ]
  },
  {
   "cell_type": "code",
   "execution_count": 76,
   "metadata": {},
   "outputs": [
    {
     "name": "stdout",
     "output_type": "stream",
     "text": [
      "Accuracy Score : 0.8233\n",
      "Precision Score : 0.8033\n",
      "Recall Score : 0.5444\n",
      "F1 Score : 0.649\n",
      "AUC Score : 0.8966\n"
     ]
    },
    {
     "data": {
      "text/html": [
       "<div>\n",
       "<style scoped>\n",
       "    .dataframe tbody tr th:only-of-type {\n",
       "        vertical-align: middle;\n",
       "    }\n",
       "\n",
       "    .dataframe tbody tr th {\n",
       "        vertical-align: top;\n",
       "    }\n",
       "\n",
       "    .dataframe thead th {\n",
       "        text-align: right;\n",
       "    }\n",
       "</style>\n",
       "<table border=\"1\" class=\"dataframe\">\n",
       "  <thead>\n",
       "    <tr style=\"text-align: right;\">\n",
       "      <th></th>\n",
       "      <th>Model</th>\n",
       "      <th>Accuracy</th>\n",
       "      <th>Precision</th>\n",
       "      <th>Recall</th>\n",
       "      <th>F1 Score</th>\n",
       "      <th>ROC AUC</th>\n",
       "    </tr>\n",
       "  </thead>\n",
       "  <tbody>\n",
       "    <tr>\n",
       "      <th>0</th>\n",
       "      <td>K-NeighborsTurnsTuned</td>\n",
       "      <td>0.816</td>\n",
       "      <td>0.8026</td>\n",
       "      <td>0.5488</td>\n",
       "      <td>0.6488</td>\n",
       "      <td>0.7432</td>\n",
       "    </tr>\n",
       "  </tbody>\n",
       "</table>\n",
       "</div>"
      ],
      "text/plain": [
       "                   Model  Accuracy  Precision  Recall  F1 Score  ROC AUC\n",
       "0  K-NeighborsTurnsTuned     0.816     0.8026  0.5488    0.6488   0.7432"
      ]
     },
     "execution_count": 76,
     "metadata": {},
     "output_type": "execute_result"
    }
   ],
   "source": [
    "parameters = {'n_neighbors': [1, 2, 3, 4, 5, 10, 15], 'algorithm': ['auto', 'ball_tree', 'kd_tree', 'brute']}\n",
    "kNeighborsClassifierClassifierT = GridSearchCV(KNeighborsClassifier(), parameters)\n",
    "kNeighborsClassifierClassifierT.fit(XwithTurnst, ywithTurnst)\n",
    "best_params = kNeighborsClassifierClassifierT.best_params_\n",
    "\n",
    "best_kNSTTuned = KNeighborsClassifier(n_neighbors = best_params['n_neighbors'], algorithm = best_params['algorithm'])\n",
    "best_kNSTTuned.fit(XwithTurnst, ywithTurnst)\n",
    "\n",
    "best_kNSTTunedPred = best_kNSTTuned.predict(XwithTurnsv)\n",
    "\n",
    "printScoresInSampleRun(ywithTurnsv, best_kNSTTunedPred, best_kNSTTuned, XwithTurnsv)\n",
    "\n",
    "cvkNT = cross_validate(best_kNSTTuned, XwithTurns, y, scoring=scoring2, cv=fold)\n",
    "cvkNT_resultTuned = pd.DataFrame({\n",
    "    'Model': 'K-NeighborsTurnsTuned',\n",
    "    'Accuracy': np.round(cvkNT['test_accuracy'].mean(), 4),\n",
    "    'Precision': np.round(cvkNT['test_precision'].mean(), 4),\n",
    "    'Recall': np.round(cvkNT['test_recall'].mean(), 4),\n",
    "    'F1 Score': np.round(cvkNT['test_f1 score'].mean(), 4),\n",
    "    'ROC AUC': np.round(cvkNT['test_roc auc'].mean(), 4)\n",
    "},index=[0])\n",
    "cvkNT_resultTuned"
   ]
  },
  {
   "cell_type": "code",
   "execution_count": 77,
   "metadata": {},
   "outputs": [
    {
     "data": {
      "text/plain": [
       "Text(0.5, 0.98, 'Accuracy of Classifiers with Turns Tuned')"
      ]
     },
     "execution_count": 77,
     "metadata": {},
     "output_type": "execute_result"
    },
    {
     "data": {
      "image/png": "[encoded data removed]",
      "text/plain": [
       "<Figure size 432x288 with 1 Axes>"
      ]
     },
     "metadata": {
      "needs_background": "light"
     },
     "output_type": "display_data"
    }
   ],
   "source": [
    "accuracyTurnsFrame = pd.DataFrame({\n",
    "    'Random Forest': cvRandomForestT_Tuned_result[\"Accuracy\"],\n",
    "    'SVM': cv_resultSVMTTuned[\"Accuracy\"],\n",
    "    'Logistic Regression': cvLRCT_resultTuned['Accuracy'],\n",
    "    'K Neighbors': cvkNT_resultTuned['Accuracy']\n",
    "},index=[0])\n",
    "\n",
    "accuracyTurnsFrame.plot(kind='bar')\n",
    "plt.axhline(0, color='k')\n",
    "plt.legend(loc='center left', bbox_to_anchor=(1.0, 0.5))\n",
    "plt.suptitle('Accuracy of Classifiers with Turns Tuned')"
   ]
  },
  {
   "cell_type": "code",
   "execution_count": 78,
   "metadata": {},
   "outputs": [
    {
     "data": {
      "text/plain": [
       "Text(0.5, 0.98, 'Precision of Classifiers with Turns Tuned')"
      ]
     },
     "execution_count": 78,
     "metadata": {},
     "output_type": "execute_result"
    },
    {
     "data": {
      "image/png": "[encoded data removed]",
      "text/plain": [
       "<Figure size 432x288 with 1 Axes>"
      ]
     },
     "metadata": {
      "needs_background": "light"
     },
     "output_type": "display_data"
    }
   ],
   "source": [
    "precisionTurnsFrame = pd.DataFrame({\n",
    "    'Random Forest': cvRandomForestT_Tuned_result[\"Precision\"],\n",
    "    'SVM': cv_resultSVMTTuned[\"Precision\"],\n",
    "    'Logistic Regression': cvLRCT_resultTuned['Precision'],\n",
    "    'K Neighbors': cvkNT_resultTuned['Precision']\n",
    "},index=[0])\n",
    "\n",
    "precisionTurnsFrame.plot(kind='bar')\n",
    "plt.axhline(0, color='k')\n",
    "plt.legend(loc='center left', bbox_to_anchor=(1.0, 0.5))\n",
    "plt.suptitle('Precision of Classifiers with Turns Tuned')"
   ]
  },
  {
   "cell_type": "code",
   "execution_count": 79,
   "metadata": {},
   "outputs": [
    {
     "data": {
      "text/plain": [
       "Text(0.5, 0.98, 'Recall of Classifiers with Turns Tuned')"
      ]
     },
     "execution_count": 79,
     "metadata": {},
     "output_type": "execute_result"
    },
    {
     "data": {
      "image/png": "[encoded data removed]",
      "text/plain": [
       "<Figure size 432x288 with 1 Axes>"
      ]
     },
     "metadata": {
      "needs_background": "light"
     },
     "output_type": "display_data"
    }
   ],
   "source": [
    "recallTurnsFrame = pd.DataFrame({\n",
    "    'Random Forest': cvRandomForestT_Tuned_result[\"Recall\"],\n",
    "    'SVM': cv_resultSVMTTuned[\"Recall\"],\n",
    "    'Logistic Regression': cvLRCT_resultTuned['Recall'],\n",
    "    'K Neighbors': cvkNT_resultTuned['Recall']\n",
    "},index=[0])\n",
    "\n",
    "recallTurnsFrame.plot(kind='bar')\n",
    "plt.axhline(0, color='k')\n",
    "plt.legend(loc='center left', bbox_to_anchor=(1.0, 0.5))\n",
    "plt.suptitle('Recall of Classifiers with Turns Tuned')"
   ]
  },
  {
   "cell_type": "code",
   "execution_count": 80,
   "metadata": {},
   "outputs": [
    {
     "data": {
      "text/plain": [
       "Text(0.5, 0.98, 'f1 of Classifiers with Turns Tuned')"
      ]
     },
     "execution_count": 80,
     "metadata": {},
     "output_type": "execute_result"
    },
    {
     "data": {
      "image/png": "[encoded data removed]",
      "text/plain": [
       "<Figure size 432x288 with 1 Axes>"
      ]
     },
     "metadata": {
      "needs_background": "light"
     },
     "output_type": "display_data"
    }
   ],
   "source": [
    "f1TurnsFrame = pd.DataFrame({\n",
    "    'Random Forest': cvRandomForestT_Tuned_result[\"F1 Score\"],\n",
    "    'SVM': cv_resultSVMTTuned[\"F1 Score\"],\n",
    "    'Logistic Regression': cvLRCT_resultTuned['F1 Score'],\n",
    "    'K Neighbors': cvkNT_resultTuned['F1 Score']\n",
    "},index=[0])\n",
    "\n",
    "f1TurnsFrame.plot(kind='bar')\n",
    "plt.axhline(0, color='k')\n",
    "plt.legend(loc='center left', bbox_to_anchor=(1.0, 0.5))\n",
    "plt.suptitle('f1 of Classifiers with Turns Tuned')"
   ]
  },
  {
   "cell_type": "markdown",
   "metadata": {},
   "source": [
    "## Results\n",
    "Based on my findings, I can conclude that adding turns would improve the performance more than if you were to add both turns and stops. I have not found any combinations of hyperparameters that would serve to improve the best model's predictions at this time. "
   ]
  },
  {
   "cell_type": "markdown",
   "metadata": {},
   "source": [
    "# Discussion\n",
    "For the feature extraction, we can't really get around going through each file and extracting the data to form new features and then I'd sort them since I used glob to get the files. That takes O(nlogn * x) where n is the number of files or in our case 1000 and x being the number of rows. Creating the dataframes to hold all of them takes O(n * x) space. Now when I iterate over the dataframes, I do create three lists to hold past speeds, possible turn events and a buffer of what transpired in terms of changes in heading in 3 seconds. Timewise, it takes O(n * x) to process turns and stops. Spacewise, to get turns we take the mean of recorded speeds within three seconds. Assuming, that the average recording amortizes to being 1 second apart, the space complexity is constant or O(1). Turns are trickier as a turn could take longer than 3 seconds. Worst case, a vehicle could be perpetually turning. It may also never turn at all. It will be bounded by n however. \n",
    "\n",
    "Strictly speaking, if I'm concerned with accuracy, then I should just focus on SVM's and augment the data matrix with turns. The accuracy of our SVC with turns added is .869, the precision is .8378, the recall is .7235. I determined that SVM's were the best choice based on the F1 score and accuracy across all my experiments.\n",
    "\n",
    "If I were to try and make current results better, I would try removing some features in the original dataset to see if they might be generating noise, I would also have tried building out a neural network but I couldn't after spending a significant amount of time attempting that. (I had issues with Pytorch).\n",
    "\n"
   ]
  },
  {
   "cell_type": "markdown",
   "metadata": {},
   "source": [
    "### Unusual Notable Events \n",
    "I did take a look at unusual results where I found 0 stops and turns. For example, originally I came up with a naive solution to get stops but I found 0195 had a single 0 at the end which is just unusual. That's when I decided to use the mean. In addition, some files like 0900 had time intervals that weren't exactly evenly spaced out so I truncated the times. There was a file 0352 where it seemed like it would have stops but I looked closer and the speeds of 0's were all at times that were considerable distances away so it could be discarded."
   ]
  },
  {
   "cell_type": "markdown",
   "metadata": {},
   "source": [
    "# Generating Predictions"
   ]
  },
  {
   "cell_type": "code",
   "execution_count": 81,
   "metadata": {},
   "outputs": [
    {
     "data": {
      "text/html": [
       "<div>\n",
       "<style scoped>\n",
       "    .dataframe tbody tr th:only-of-type {\n",
       "        vertical-align: middle;\n",
       "    }\n",
       "\n",
       "    .dataframe tbody tr th {\n",
       "        vertical-align: top;\n",
       "    }\n",
       "\n",
       "    .dataframe thead th {\n",
       "        text-align: right;\n",
       "    }\n",
       "</style>\n",
       "<table border=\"1\" class=\"dataframe\">\n",
       "  <thead>\n",
       "    <tr style=\"text-align: right;\">\n",
       "      <th></th>\n",
       "      <th>Model</th>\n",
       "      <th>Accuracy</th>\n",
       "      <th>Precision</th>\n",
       "      <th>Recall</th>\n",
       "      <th>F1 Score</th>\n",
       "      <th>ROC AUC</th>\n",
       "    </tr>\n",
       "  </thead>\n",
       "  <tbody>\n",
       "    <tr>\n",
       "      <th>0</th>\n",
       "      <td>SVCTurns</td>\n",
       "      <td>0.869</td>\n",
       "      <td>0.8378</td>\n",
       "      <td>0.7257</td>\n",
       "      <td>0.7735</td>\n",
       "      <td>0.8304</td>\n",
       "    </tr>\n",
       "  </tbody>\n",
       "</table>\n",
       "</div>"
      ],
      "text/plain": [
       "      Model  Accuracy  Precision  Recall  F1 Score  ROC AUC\n",
       "0  SVCTurns     0.869     0.8378  0.7257    0.7735   0.8304"
      ]
     },
     "execution_count": 81,
     "metadata": {},
     "output_type": "execute_result"
    }
   ],
   "source": [
    "cvsvm_resultT"
   ]
  },
  {
   "cell_type": "code",
   "execution_count": 82,
   "metadata": {},
   "outputs": [],
   "source": [
    "localdirRootTest = '/home/aaron/Documents/Coding/RootDataScienceWork/'\n",
    "testFiles = sorted(glob.glob(localdirRoot + 'work_sample/work_sample_test_trips/' + \"/*.csv\"))\n",
    "dataFramesTest = [pd.read_csv(file) for file in testFiles]\n",
    "stopsTurnsTest = [(0,0) for i in range(len(testFiles))]\n",
    "index = 0\n",
    "t = False\n",
    "for df in dataFramesTest:\n",
    "    df.dropna(how='any', inplace=True)\n",
    "    stops, turns = getStopsAndTurns(df)\n",
    "    stopsTurnsTest[index] = (stops, turns)\n",
    "    index += 1"
   ]
  },
  {
   "cell_type": "code",
   "execution_count": 83,
   "metadata": {},
   "outputs": [],
   "source": [
    "testFeaturesDF = pd.read_csv(\"./model_data_test.csv\")"
   ]
  },
  {
   "cell_type": "code",
   "execution_count": 84,
   "metadata": {},
   "outputs": [],
   "source": [
    "Xtest = testFeaturesDF.iloc[:,1:]\n",
    "Xtest['Turns'] = [turn[1] for turn in stopsTurnsTest]\n",
    "mmsTest = MinMaxScaler()\n",
    "\n",
    "Xtest = mms.fit_transform(Xtest)"
   ]
  },
  {
   "cell_type": "code",
   "execution_count": 85,
   "metadata": {},
   "outputs": [],
   "source": [
    "submission = svmClassifierT.predict(Xtest)"
   ]
  },
  {
   "cell_type": "code",
   "execution_count": 86,
   "metadata": {},
   "outputs": [
    {
     "data": {
      "text/plain": [
       "array([0, 0, 0, 0, 0, 0, 0, 0, 0, 0, 0, 0, 0, 0, 0, 0, 0, 0, 0, 0, 0, 0,\n",
       "       1, 0, 0, 0, 0, 0, 0, 0, 0, 0, 0, 1, 0, 0, 0, 0, 0, 0, 0, 0, 0, 0,\n",
       "       0, 0, 0, 0, 0, 0, 0, 0, 0, 0, 0, 0, 0, 0, 0, 0, 0, 0, 0, 0, 1, 0,\n",
       "       1, 0, 0, 0, 0, 0, 0, 0, 0, 0, 0, 0, 0, 0, 0, 0, 0, 0, 0, 1, 0, 0,\n",
       "       0, 0, 1, 0, 0, 0, 0, 0, 0, 0, 0, 0, 0, 0, 0, 0, 0, 0, 0, 0, 0, 0,\n",
       "       0, 0, 0, 0, 1, 0, 0, 0, 0, 0, 0, 1, 0, 0, 0, 0, 0, 0, 0, 1, 0, 0,\n",
       "       0, 0, 0, 0, 0, 0, 1, 0, 0, 1, 0, 0, 0, 1, 0, 0, 0, 0, 0, 1, 0, 0,\n",
       "       0, 0, 0, 0, 0, 1, 0, 0, 0, 0, 0, 0, 0, 1, 1, 0, 0, 0, 0, 0, 0, 0,\n",
       "       0, 0, 0, 0, 0, 0, 0, 0, 0, 0, 0, 0, 1, 1, 0, 0, 0, 0, 0, 0, 0, 0,\n",
       "       0, 0, 1, 0, 0, 0, 1, 0, 0, 0, 0, 0, 0, 0, 0, 0, 0, 0, 0, 0, 0, 0,\n",
       "       0, 0, 0, 0, 0, 1, 0, 0, 0, 0, 0, 0, 0, 0, 0, 0, 1, 0, 0, 0, 0, 0,\n",
       "       0, 0, 0, 0, 0, 0, 0, 1, 0, 0, 0, 0, 0, 0, 0, 0, 0, 0, 0, 0, 0, 0,\n",
       "       0, 0, 1, 0, 0, 0, 0, 0, 0, 1, 1, 0, 0, 0, 0, 0, 0, 1, 0, 0, 0, 0,\n",
       "       0, 0, 0, 0, 0, 0, 0, 0, 0, 0, 0, 0, 0, 0, 0, 1, 0, 1, 0, 0, 0, 1,\n",
       "       0, 0, 0, 0, 0, 0, 0, 0, 0, 0, 0, 0, 0, 0, 0, 1, 0, 0, 0, 0, 0, 0,\n",
       "       1, 0, 0, 0, 0, 0, 0, 0, 0, 0, 1, 0, 0, 0, 0, 0, 0, 0, 0, 1, 0, 0,\n",
       "       0, 0, 0, 0, 0, 0, 0, 0, 0, 0, 1, 1, 0, 0, 0, 0, 0, 0, 0, 0, 0, 0,\n",
       "       1, 0, 0, 0, 0, 0, 1, 0, 1, 0, 0, 1, 0, 0, 0, 0, 0, 0, 1, 0, 0, 1,\n",
       "       0, 0, 0, 0, 1, 0, 1, 0, 0, 0, 1, 1, 1, 0, 0, 0, 1, 0, 0, 0, 0, 0,\n",
       "       0, 0, 0, 0, 0, 0, 0, 0, 0, 0, 0, 0, 0, 0, 0, 0, 0, 0, 0, 0, 1, 0,\n",
       "       0, 0, 0, 0, 0, 0, 0, 0, 0, 0, 0, 0, 1, 1, 0, 1, 0, 0, 1, 0, 1, 0,\n",
       "       0, 0, 0, 0, 0, 1, 0, 0, 0, 0, 0, 0, 0, 0, 0, 0, 1, 0, 0, 1, 0, 0,\n",
       "       0, 0, 0, 0, 0, 1, 0, 0, 0, 0, 0, 0, 0, 0, 0, 0, 0, 0, 0, 0, 0, 0,\n",
       "       0, 0, 0, 0, 0, 1, 0, 1, 0, 0, 1, 0, 0, 0, 0, 0, 0, 0, 0, 0, 1, 0,\n",
       "       0, 0, 0, 0, 0, 0, 0, 0, 0, 0, 0, 0, 0, 0, 0, 1, 0, 1, 0, 1, 1, 1,\n",
       "       0, 1, 0, 0, 0, 1, 0, 0, 1, 1, 0, 0, 0, 0, 0, 1, 0, 0, 0, 0, 0, 0,\n",
       "       0, 0, 0, 0, 0, 0, 0, 0, 0, 1, 0, 0, 0, 0, 0, 0, 0, 0, 0, 0, 0, 0,\n",
       "       0, 0, 0, 0, 0, 0, 0, 0, 0, 0, 1, 0, 0, 0, 0, 1, 0, 1, 0, 0, 0, 1,\n",
       "       0, 0, 0, 0, 0, 0, 1, 0, 1, 0, 0, 0, 0, 0, 0, 0, 0, 1, 1, 1, 0, 0,\n",
       "       0, 0, 1, 0, 1, 0, 0, 0, 0, 0, 0, 0, 0, 0, 0, 0, 0, 1, 0, 0, 0, 0,\n",
       "       0, 0, 0, 0, 0, 0, 0, 0, 1, 0, 0, 0, 0, 0, 0, 0, 0, 0, 0, 0, 0, 0,\n",
       "       1, 1, 0, 0, 0, 0, 0, 0, 0, 0, 0, 0, 0, 0, 0, 0, 0, 0, 0, 0, 0, 0,\n",
       "       0, 0, 1, 0, 1, 0, 0, 0, 0, 0, 0, 0, 0, 0, 0, 0, 0, 0, 0, 0, 0, 1,\n",
       "       0, 0, 0, 0, 0, 0, 1, 0, 0, 0, 0, 1, 0, 0, 0, 1, 0, 0, 0, 1, 0, 0,\n",
       "       0, 0, 0, 1, 0, 0, 0, 0, 0, 0, 0, 0, 0, 0, 0, 1, 0, 0, 1, 1, 0, 0,\n",
       "       0, 1, 0, 0, 0, 0, 1, 0, 0, 0, 0, 1, 0, 0, 0, 0, 0, 0, 0, 0, 0, 0,\n",
       "       1, 0, 1, 0, 0, 0, 0, 0, 0, 0, 0, 0, 0, 0, 0, 0, 0, 0, 0, 0, 1, 0,\n",
       "       0, 0, 0, 0, 0, 1, 0, 0, 0, 0, 0, 0, 0, 1, 0, 1, 0, 0, 0, 0, 0, 1,\n",
       "       0, 0, 1, 0, 0, 0, 1, 0, 0, 0, 0, 1, 0, 1, 0, 1, 0, 0, 0, 0, 0, 0,\n",
       "       0, 0, 0, 0, 0, 0, 0, 0, 0, 0, 1, 0, 0, 1, 0, 0, 0, 0])"
      ]
     },
     "execution_count": 86,
     "metadata": {},
     "output_type": "execute_result"
    }
   ],
   "source": [
    "submission"
   ]
  },
  {
   "cell_type": "code",
   "execution_count": 87,
   "metadata": {},
   "outputs": [],
   "source": [
    "import csv\n",
    "\n",
    "with open('submission.csv', mode='w') as csv_file:\n",
    "    prediction_writer = csv.writer(csv_file)\n",
    "    for i in range(len(submission)):\n",
    "        prediction_writer.writerow([str(1000 + i) + \".csv\", submission[i]])"
   ]
  },
  {
   "cell_type": "code",
   "execution_count": null,
   "metadata": {},
   "outputs": [],
   "source": []
  }
 ],
 "metadata": {
  "kernelspec": {
   "display_name": "Python 3",
   "language": "python",
   "name": "python3"
  },
  "language_info": {
   "codemirror_mode": {
    "name": "ipython",
    "version": 3
   },
   "file_extension": ".py",
   "mimetype": "text/x-python",
   "name": "python",
   "nbconvert_exporter": "python",
   "pygments_lexer": "ipython3",
   "version": "3.6.13"
  }
 },
 "nbformat": 4,
 "nbformat_minor": 2
}
